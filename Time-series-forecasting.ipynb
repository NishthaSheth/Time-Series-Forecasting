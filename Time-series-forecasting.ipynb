{
  "nbformat": 4,
  "nbformat_minor": 0,
  "metadata": {
    "colab": {
      "provenance": []
    },
    "kernelspec": {
      "name": "python3",
      "display_name": "Python 3"
    },
    "language_info": {
      "name": "python"
    }
  },
  "cells": [
    {
      "cell_type": "code",
      "source": [
        "!pip install tensorflow"
      ],
      "metadata": {
        "id": "BUhIIiHfi7BN"
      },
      "execution_count": null,
      "outputs": []
    },
    {
      "cell_type": "code",
      "execution_count": 460,
      "metadata": {
        "id": "XEkSjr5f-eYs"
      },
      "outputs": [],
      "source": [
        "import pandas as pd\n",
        "import numpy as np\n",
        "from sklearn.preprocessing import StandardScaler\n",
        "from sklearn.model_selection import train_test_split\n",
        "from sklearn import metrics\n",
        "from sklearn.linear_model import LinearRegression\n",
        "from sklearn.preprocessing import PolynomialFeatures\n",
        "import matplotlib.dates as mdates\n",
        "import matplotlib.pyplot as plt\n",
        "from sklearn.metrics import roc_auc_score,r2_score,mean_absolute_error,mean_squared_error,accuracy_score,classification_report,confusion_matrix\n",
        "from tensorflow import keras\n",
        "from tensorflow.keras import Sequential, Model\n",
        "from tensorflow.keras.layers import Dense, Flatten, Add, Input, BatchNormalization\n",
        "from tensorflow.keras.optimizers import Adam"
      ]
    },
    {
      "cell_type": "code",
      "source": [
        "df1 = pd.read_csv('/content/Electricity_load_forecasting.csv')"
      ],
      "metadata": {
        "id": "jzQ0_8XL_aop"
      },
      "execution_count": 558,
      "outputs": []
    },
    {
      "cell_type": "code",
      "source": [
        "df1.head()"
      ],
      "metadata": {
        "colab": {
          "base_uri": "https://localhost:8080/",
          "height": 399
        },
        "id": "SF6jGORNADcD",
        "outputId": "b735250a-1673-464a-f5a8-8f432f14ae57"
      },
      "execution_count": 559,
      "outputs": [
        {
          "output_type": "execute_result",
          "data": {
            "text/plain": [
              "           datetime  nat_demand    T2M_toc  QV2M_toc   TQL_toc    W2M_toc  \\\n",
              "0  03-01-2015 01:00    970.3450  25.865259  0.018576  0.016174  21.850546   \n",
              "1  03-01-2015 02:00    912.1755  25.899255  0.018653  0.016418  22.166944   \n",
              "2  03-01-2015 03:00    900.2688  25.937280  0.018768  0.015480  22.454911   \n",
              "3  03-01-2015 04:00    889.9538  25.957544  0.018890  0.016273  22.110481   \n",
              "4  03-01-2015 05:00    893.6865  25.973840  0.018981  0.017281  21.186089   \n",
              "\n",
              "     T2M_san  QV2M_san   TQL_san    W2M_san    T2M_dav  QV2M_dav   TQL_dav  \\\n",
              "0  23.482446  0.017272  0.001855  10.328949  22.662134  0.016562  0.096100   \n",
              "1  23.399255  0.017265  0.001327  10.681517  22.578943  0.016509  0.087646   \n",
              "2  23.343530  0.017211  0.001428  10.874924  22.531030  0.016479  0.078735   \n",
              "3  23.238794  0.017128  0.002599  10.518620  22.512231  0.016487  0.068390   \n",
              "4  23.075403  0.017059  0.001729   9.733589  22.481653  0.016456  0.064362   \n",
              "\n",
              "    W2M_dav  Holiday_ID  holiday  school  \n",
              "0  5.364148           0        0       0  \n",
              "1  5.572471           0        0       0  \n",
              "2  5.871184           0        0       0  \n",
              "3  5.883621           0        0       0  \n",
              "4  5.611724           0        0       0  "
            ],
            "text/html": [
              "\n",
              "  <div id=\"df-2f72bb2e-a757-4197-9822-c085a3ac7029\" class=\"colab-df-container\">\n",
              "    <div>\n",
              "<style scoped>\n",
              "    .dataframe tbody tr th:only-of-type {\n",
              "        vertical-align: middle;\n",
              "    }\n",
              "\n",
              "    .dataframe tbody tr th {\n",
              "        vertical-align: top;\n",
              "    }\n",
              "\n",
              "    .dataframe thead th {\n",
              "        text-align: right;\n",
              "    }\n",
              "</style>\n",
              "<table border=\"1\" class=\"dataframe\">\n",
              "  <thead>\n",
              "    <tr style=\"text-align: right;\">\n",
              "      <th></th>\n",
              "      <th>datetime</th>\n",
              "      <th>nat_demand</th>\n",
              "      <th>T2M_toc</th>\n",
              "      <th>QV2M_toc</th>\n",
              "      <th>TQL_toc</th>\n",
              "      <th>W2M_toc</th>\n",
              "      <th>T2M_san</th>\n",
              "      <th>QV2M_san</th>\n",
              "      <th>TQL_san</th>\n",
              "      <th>W2M_san</th>\n",
              "      <th>T2M_dav</th>\n",
              "      <th>QV2M_dav</th>\n",
              "      <th>TQL_dav</th>\n",
              "      <th>W2M_dav</th>\n",
              "      <th>Holiday_ID</th>\n",
              "      <th>holiday</th>\n",
              "      <th>school</th>\n",
              "    </tr>\n",
              "  </thead>\n",
              "  <tbody>\n",
              "    <tr>\n",
              "      <th>0</th>\n",
              "      <td>03-01-2015 01:00</td>\n",
              "      <td>970.3450</td>\n",
              "      <td>25.865259</td>\n",
              "      <td>0.018576</td>\n",
              "      <td>0.016174</td>\n",
              "      <td>21.850546</td>\n",
              "      <td>23.482446</td>\n",
              "      <td>0.017272</td>\n",
              "      <td>0.001855</td>\n",
              "      <td>10.328949</td>\n",
              "      <td>22.662134</td>\n",
              "      <td>0.016562</td>\n",
              "      <td>0.096100</td>\n",
              "      <td>5.364148</td>\n",
              "      <td>0</td>\n",
              "      <td>0</td>\n",
              "      <td>0</td>\n",
              "    </tr>\n",
              "    <tr>\n",
              "      <th>1</th>\n",
              "      <td>03-01-2015 02:00</td>\n",
              "      <td>912.1755</td>\n",
              "      <td>25.899255</td>\n",
              "      <td>0.018653</td>\n",
              "      <td>0.016418</td>\n",
              "      <td>22.166944</td>\n",
              "      <td>23.399255</td>\n",
              "      <td>0.017265</td>\n",
              "      <td>0.001327</td>\n",
              "      <td>10.681517</td>\n",
              "      <td>22.578943</td>\n",
              "      <td>0.016509</td>\n",
              "      <td>0.087646</td>\n",
              "      <td>5.572471</td>\n",
              "      <td>0</td>\n",
              "      <td>0</td>\n",
              "      <td>0</td>\n",
              "    </tr>\n",
              "    <tr>\n",
              "      <th>2</th>\n",
              "      <td>03-01-2015 03:00</td>\n",
              "      <td>900.2688</td>\n",
              "      <td>25.937280</td>\n",
              "      <td>0.018768</td>\n",
              "      <td>0.015480</td>\n",
              "      <td>22.454911</td>\n",
              "      <td>23.343530</td>\n",
              "      <td>0.017211</td>\n",
              "      <td>0.001428</td>\n",
              "      <td>10.874924</td>\n",
              "      <td>22.531030</td>\n",
              "      <td>0.016479</td>\n",
              "      <td>0.078735</td>\n",
              "      <td>5.871184</td>\n",
              "      <td>0</td>\n",
              "      <td>0</td>\n",
              "      <td>0</td>\n",
              "    </tr>\n",
              "    <tr>\n",
              "      <th>3</th>\n",
              "      <td>03-01-2015 04:00</td>\n",
              "      <td>889.9538</td>\n",
              "      <td>25.957544</td>\n",
              "      <td>0.018890</td>\n",
              "      <td>0.016273</td>\n",
              "      <td>22.110481</td>\n",
              "      <td>23.238794</td>\n",
              "      <td>0.017128</td>\n",
              "      <td>0.002599</td>\n",
              "      <td>10.518620</td>\n",
              "      <td>22.512231</td>\n",
              "      <td>0.016487</td>\n",
              "      <td>0.068390</td>\n",
              "      <td>5.883621</td>\n",
              "      <td>0</td>\n",
              "      <td>0</td>\n",
              "      <td>0</td>\n",
              "    </tr>\n",
              "    <tr>\n",
              "      <th>4</th>\n",
              "      <td>03-01-2015 05:00</td>\n",
              "      <td>893.6865</td>\n",
              "      <td>25.973840</td>\n",
              "      <td>0.018981</td>\n",
              "      <td>0.017281</td>\n",
              "      <td>21.186089</td>\n",
              "      <td>23.075403</td>\n",
              "      <td>0.017059</td>\n",
              "      <td>0.001729</td>\n",
              "      <td>9.733589</td>\n",
              "      <td>22.481653</td>\n",
              "      <td>0.016456</td>\n",
              "      <td>0.064362</td>\n",
              "      <td>5.611724</td>\n",
              "      <td>0</td>\n",
              "      <td>0</td>\n",
              "      <td>0</td>\n",
              "    </tr>\n",
              "  </tbody>\n",
              "</table>\n",
              "</div>\n",
              "    <div class=\"colab-df-buttons\">\n",
              "\n",
              "  <div class=\"colab-df-container\">\n",
              "    <button class=\"colab-df-convert\" onclick=\"convertToInteractive('df-2f72bb2e-a757-4197-9822-c085a3ac7029')\"\n",
              "            title=\"Convert this dataframe to an interactive table.\"\n",
              "            style=\"display:none;\">\n",
              "\n",
              "  <svg xmlns=\"http://www.w3.org/2000/svg\" height=\"24px\" viewBox=\"0 -960 960 960\">\n",
              "    <path d=\"M120-120v-720h720v720H120Zm60-500h600v-160H180v160Zm220 220h160v-160H400v160Zm0 220h160v-160H400v160ZM180-400h160v-160H180v160Zm440 0h160v-160H620v160ZM180-180h160v-160H180v160Zm440 0h160v-160H620v160Z\"/>\n",
              "  </svg>\n",
              "    </button>\n",
              "\n",
              "  <style>\n",
              "    .colab-df-container {\n",
              "      display:flex;\n",
              "      gap: 12px;\n",
              "    }\n",
              "\n",
              "    .colab-df-convert {\n",
              "      background-color: #E8F0FE;\n",
              "      border: none;\n",
              "      border-radius: 50%;\n",
              "      cursor: pointer;\n",
              "      display: none;\n",
              "      fill: #1967D2;\n",
              "      height: 32px;\n",
              "      padding: 0 0 0 0;\n",
              "      width: 32px;\n",
              "    }\n",
              "\n",
              "    .colab-df-convert:hover {\n",
              "      background-color: #E2EBFA;\n",
              "      box-shadow: 0px 1px 2px rgba(60, 64, 67, 0.3), 0px 1px 3px 1px rgba(60, 64, 67, 0.15);\n",
              "      fill: #174EA6;\n",
              "    }\n",
              "\n",
              "    .colab-df-buttons div {\n",
              "      margin-bottom: 4px;\n",
              "    }\n",
              "\n",
              "    [theme=dark] .colab-df-convert {\n",
              "      background-color: #3B4455;\n",
              "      fill: #D2E3FC;\n",
              "    }\n",
              "\n",
              "    [theme=dark] .colab-df-convert:hover {\n",
              "      background-color: #434B5C;\n",
              "      box-shadow: 0px 1px 3px 1px rgba(0, 0, 0, 0.15);\n",
              "      filter: drop-shadow(0px 1px 2px rgba(0, 0, 0, 0.3));\n",
              "      fill: #FFFFFF;\n",
              "    }\n",
              "  </style>\n",
              "\n",
              "    <script>\n",
              "      const buttonEl =\n",
              "        document.querySelector('#df-2f72bb2e-a757-4197-9822-c085a3ac7029 button.colab-df-convert');\n",
              "      buttonEl.style.display =\n",
              "        google.colab.kernel.accessAllowed ? 'block' : 'none';\n",
              "\n",
              "      async function convertToInteractive(key) {\n",
              "        const element = document.querySelector('#df-2f72bb2e-a757-4197-9822-c085a3ac7029');\n",
              "        const dataTable =\n",
              "          await google.colab.kernel.invokeFunction('convertToInteractive',\n",
              "                                                    [key], {});\n",
              "        if (!dataTable) return;\n",
              "\n",
              "        const docLinkHtml = 'Like what you see? Visit the ' +\n",
              "          '<a target=\"_blank\" href=https://colab.research.google.com/notebooks/data_table.ipynb>data table notebook</a>'\n",
              "          + ' to learn more about interactive tables.';\n",
              "        element.innerHTML = '';\n",
              "        dataTable['output_type'] = 'display_data';\n",
              "        await google.colab.output.renderOutput(dataTable, element);\n",
              "        const docLink = document.createElement('div');\n",
              "        docLink.innerHTML = docLinkHtml;\n",
              "        element.appendChild(docLink);\n",
              "      }\n",
              "    </script>\n",
              "  </div>\n",
              "\n",
              "\n",
              "<div id=\"df-aab60b42-1de9-4083-b502-63c4e6f472be\">\n",
              "  <button class=\"colab-df-quickchart\" onclick=\"quickchart('df-aab60b42-1de9-4083-b502-63c4e6f472be')\"\n",
              "            title=\"Suggest charts.\"\n",
              "            style=\"display:none;\">\n",
              "\n",
              "<svg xmlns=\"http://www.w3.org/2000/svg\" height=\"24px\"viewBox=\"0 0 24 24\"\n",
              "     width=\"24px\">\n",
              "    <g>\n",
              "        <path d=\"M19 3H5c-1.1 0-2 .9-2 2v14c0 1.1.9 2 2 2h14c1.1 0 2-.9 2-2V5c0-1.1-.9-2-2-2zM9 17H7v-7h2v7zm4 0h-2V7h2v10zm4 0h-2v-4h2v4z\"/>\n",
              "    </g>\n",
              "</svg>\n",
              "  </button>\n",
              "\n",
              "<style>\n",
              "  .colab-df-quickchart {\n",
              "      --bg-color: #E8F0FE;\n",
              "      --fill-color: #1967D2;\n",
              "      --hover-bg-color: #E2EBFA;\n",
              "      --hover-fill-color: #174EA6;\n",
              "      --disabled-fill-color: #AAA;\n",
              "      --disabled-bg-color: #DDD;\n",
              "  }\n",
              "\n",
              "  [theme=dark] .colab-df-quickchart {\n",
              "      --bg-color: #3B4455;\n",
              "      --fill-color: #D2E3FC;\n",
              "      --hover-bg-color: #434B5C;\n",
              "      --hover-fill-color: #FFFFFF;\n",
              "      --disabled-bg-color: #3B4455;\n",
              "      --disabled-fill-color: #666;\n",
              "  }\n",
              "\n",
              "  .colab-df-quickchart {\n",
              "    background-color: var(--bg-color);\n",
              "    border: none;\n",
              "    border-radius: 50%;\n",
              "    cursor: pointer;\n",
              "    display: none;\n",
              "    fill: var(--fill-color);\n",
              "    height: 32px;\n",
              "    padding: 0;\n",
              "    width: 32px;\n",
              "  }\n",
              "\n",
              "  .colab-df-quickchart:hover {\n",
              "    background-color: var(--hover-bg-color);\n",
              "    box-shadow: 0 1px 2px rgba(60, 64, 67, 0.3), 0 1px 3px 1px rgba(60, 64, 67, 0.15);\n",
              "    fill: var(--button-hover-fill-color);\n",
              "  }\n",
              "\n",
              "  .colab-df-quickchart-complete:disabled,\n",
              "  .colab-df-quickchart-complete:disabled:hover {\n",
              "    background-color: var(--disabled-bg-color);\n",
              "    fill: var(--disabled-fill-color);\n",
              "    box-shadow: none;\n",
              "  }\n",
              "\n",
              "  .colab-df-spinner {\n",
              "    border: 2px solid var(--fill-color);\n",
              "    border-color: transparent;\n",
              "    border-bottom-color: var(--fill-color);\n",
              "    animation:\n",
              "      spin 1s steps(1) infinite;\n",
              "  }\n",
              "\n",
              "  @keyframes spin {\n",
              "    0% {\n",
              "      border-color: transparent;\n",
              "      border-bottom-color: var(--fill-color);\n",
              "      border-left-color: var(--fill-color);\n",
              "    }\n",
              "    20% {\n",
              "      border-color: transparent;\n",
              "      border-left-color: var(--fill-color);\n",
              "      border-top-color: var(--fill-color);\n",
              "    }\n",
              "    30% {\n",
              "      border-color: transparent;\n",
              "      border-left-color: var(--fill-color);\n",
              "      border-top-color: var(--fill-color);\n",
              "      border-right-color: var(--fill-color);\n",
              "    }\n",
              "    40% {\n",
              "      border-color: transparent;\n",
              "      border-right-color: var(--fill-color);\n",
              "      border-top-color: var(--fill-color);\n",
              "    }\n",
              "    60% {\n",
              "      border-color: transparent;\n",
              "      border-right-color: var(--fill-color);\n",
              "    }\n",
              "    80% {\n",
              "      border-color: transparent;\n",
              "      border-right-color: var(--fill-color);\n",
              "      border-bottom-color: var(--fill-color);\n",
              "    }\n",
              "    90% {\n",
              "      border-color: transparent;\n",
              "      border-bottom-color: var(--fill-color);\n",
              "    }\n",
              "  }\n",
              "</style>\n",
              "\n",
              "  <script>\n",
              "    async function quickchart(key) {\n",
              "      const quickchartButtonEl =\n",
              "        document.querySelector('#' + key + ' button');\n",
              "      quickchartButtonEl.disabled = true;  // To prevent multiple clicks.\n",
              "      quickchartButtonEl.classList.add('colab-df-spinner');\n",
              "      try {\n",
              "        const charts = await google.colab.kernel.invokeFunction(\n",
              "            'suggestCharts', [key], {});\n",
              "      } catch (error) {\n",
              "        console.error('Error during call to suggestCharts:', error);\n",
              "      }\n",
              "      quickchartButtonEl.classList.remove('colab-df-spinner');\n",
              "      quickchartButtonEl.classList.add('colab-df-quickchart-complete');\n",
              "    }\n",
              "    (() => {\n",
              "      let quickchartButtonEl =\n",
              "        document.querySelector('#df-aab60b42-1de9-4083-b502-63c4e6f472be button');\n",
              "      quickchartButtonEl.style.display =\n",
              "        google.colab.kernel.accessAllowed ? 'block' : 'none';\n",
              "    })();\n",
              "  </script>\n",
              "</div>\n",
              "    </div>\n",
              "  </div>\n"
            ]
          },
          "metadata": {},
          "execution_count": 559
        }
      ]
    },
    {
      "cell_type": "code",
      "source": [
        "df1 = df1.drop(columns = ['Holiday_ID'])"
      ],
      "metadata": {
        "id": "fgAW0qgOFGDa"
      },
      "execution_count": 560,
      "outputs": []
    },
    {
      "cell_type": "code",
      "source": [
        "rolling_window = df1['nat_demand'].rolling(window=700, min_periods = 1)\n",
        "df1['nat_demand_ma'] = rolling_window.mean()"
      ],
      "metadata": {
        "id": "_zRl9QcNBsQf"
      },
      "execution_count": 562,
      "outputs": []
    },
    {
      "cell_type": "code",
      "source": [
        "df1['nat_demand_lag'] = df1['nat_demand'].shift(1)"
      ],
      "metadata": {
        "id": "5EqXISRpM3x4"
      },
      "execution_count": 563,
      "outputs": []
    },
    {
      "cell_type": "code",
      "source": [
        "df1"
      ],
      "metadata": {
        "colab": {
          "base_uri": "https://localhost:8080/",
          "height": 790
        },
        "id": "fCzyq2OxNWkB",
        "outputId": "289c8bcb-0e1c-4407-cf18-30f51d473f96"
      },
      "execution_count": 564,
      "outputs": [
        {
          "output_type": "execute_result",
          "data": {
            "text/plain": [
              "               datetime  nat_demand    T2M_toc  QV2M_toc   TQL_toc    W2M_toc  \\\n",
              "0      03-01-2015 01:00    970.3450  25.865259  0.018576  0.016174  21.850546   \n",
              "1      03-01-2015 02:00    912.1755  25.899255  0.018653  0.016418  22.166944   \n",
              "2      03-01-2015 03:00    900.2688  25.937280  0.018768  0.015480  22.454911   \n",
              "3      03-01-2015 04:00    889.9538  25.957544  0.018890  0.016273  22.110481   \n",
              "4      03-01-2015 05:00    893.6865  25.973840  0.018981  0.017281  21.186089   \n",
              "...                 ...         ...        ...       ...       ...        ...   \n",
              "43770  31-12-2019 19:00   1301.6065  26.635645  0.018421  0.013165  13.184052   \n",
              "43771  31-12-2019 20:00   1250.9634  26.495935  0.018162  0.014713  13.443892   \n",
              "43772  31-12-2019 21:00   1193.6802  26.354456  0.017980  0.013836  13.442195   \n",
              "43773  31-12-2019 22:00   1130.4575  26.166895  0.017965  0.018486  13.420656   \n",
              "43774  31-12-2019 23:00   1084.4737  25.976373  0.018072  0.023315  13.749788   \n",
              "\n",
              "         T2M_san  QV2M_san   TQL_san    W2M_san    T2M_dav  QV2M_dav  \\\n",
              "0      23.482446  0.017272  0.001855  10.328949  22.662134  0.016562   \n",
              "1      23.399255  0.017265  0.001327  10.681517  22.578943  0.016509   \n",
              "2      23.343530  0.017211  0.001428  10.874924  22.531030  0.016479   \n",
              "3      23.238794  0.017128  0.002599  10.518620  22.512231  0.016487   \n",
              "4      23.075403  0.017059  0.001729   9.733589  22.481653  0.016456   \n",
              "...          ...       ...       ...        ...        ...       ...   \n",
              "43770  25.135645  0.018048  0.064240   3.086798  23.620020  0.016697   \n",
              "43771  24.769373  0.017781  0.058838   3.659980  23.284998  0.016606   \n",
              "43772  24.479456  0.017606  0.038086   3.769294  23.041956  0.016492   \n",
              "43773  24.112207  0.017393  0.020386   3.872397  22.862207  0.016401   \n",
              "43774  23.663873  0.017156  0.019531   4.165276  22.726373  0.016302   \n",
              "\n",
              "        TQL_dav   W2M_dav  holiday  school  nat_demand_ma  nat_demand_lag  \n",
              "0      0.096100  5.364148        0       0     970.345000             NaN  \n",
              "1      0.087646  5.572471        0       0     941.260250        970.3450  \n",
              "2      0.078735  5.871184        0       0     927.596433        912.1755  \n",
              "3      0.068390  5.883621        0       0     918.185775        900.2688  \n",
              "4      0.064362  5.611724        0       0     913.285920        889.9538  \n",
              "...         ...       ...      ...     ...            ...             ...  \n",
              "43770  0.073425  3.865351        1       0    1294.093850       1287.3592  \n",
              "43771  0.064362  4.171572        1       0    1293.735555       1301.6065  \n",
              "43772  0.054260  4.045283        1       0    1293.436726       1250.9634  \n",
              "43773  0.055557  3.843736        1       0    1293.002435       1193.6802  \n",
              "43774  0.061371  3.793209        1       0    1292.432658       1130.4575  \n",
              "\n",
              "[43775 rows x 18 columns]"
            ],
            "text/html": [
              "\n",
              "  <div id=\"df-f3385c0e-9b25-46fc-8eaa-efecb291dee3\" class=\"colab-df-container\">\n",
              "    <div>\n",
              "<style scoped>\n",
              "    .dataframe tbody tr th:only-of-type {\n",
              "        vertical-align: middle;\n",
              "    }\n",
              "\n",
              "    .dataframe tbody tr th {\n",
              "        vertical-align: top;\n",
              "    }\n",
              "\n",
              "    .dataframe thead th {\n",
              "        text-align: right;\n",
              "    }\n",
              "</style>\n",
              "<table border=\"1\" class=\"dataframe\">\n",
              "  <thead>\n",
              "    <tr style=\"text-align: right;\">\n",
              "      <th></th>\n",
              "      <th>datetime</th>\n",
              "      <th>nat_demand</th>\n",
              "      <th>T2M_toc</th>\n",
              "      <th>QV2M_toc</th>\n",
              "      <th>TQL_toc</th>\n",
              "      <th>W2M_toc</th>\n",
              "      <th>T2M_san</th>\n",
              "      <th>QV2M_san</th>\n",
              "      <th>TQL_san</th>\n",
              "      <th>W2M_san</th>\n",
              "      <th>T2M_dav</th>\n",
              "      <th>QV2M_dav</th>\n",
              "      <th>TQL_dav</th>\n",
              "      <th>W2M_dav</th>\n",
              "      <th>holiday</th>\n",
              "      <th>school</th>\n",
              "      <th>nat_demand_ma</th>\n",
              "      <th>nat_demand_lag</th>\n",
              "    </tr>\n",
              "  </thead>\n",
              "  <tbody>\n",
              "    <tr>\n",
              "      <th>0</th>\n",
              "      <td>03-01-2015 01:00</td>\n",
              "      <td>970.3450</td>\n",
              "      <td>25.865259</td>\n",
              "      <td>0.018576</td>\n",
              "      <td>0.016174</td>\n",
              "      <td>21.850546</td>\n",
              "      <td>23.482446</td>\n",
              "      <td>0.017272</td>\n",
              "      <td>0.001855</td>\n",
              "      <td>10.328949</td>\n",
              "      <td>22.662134</td>\n",
              "      <td>0.016562</td>\n",
              "      <td>0.096100</td>\n",
              "      <td>5.364148</td>\n",
              "      <td>0</td>\n",
              "      <td>0</td>\n",
              "      <td>970.345000</td>\n",
              "      <td>NaN</td>\n",
              "    </tr>\n",
              "    <tr>\n",
              "      <th>1</th>\n",
              "      <td>03-01-2015 02:00</td>\n",
              "      <td>912.1755</td>\n",
              "      <td>25.899255</td>\n",
              "      <td>0.018653</td>\n",
              "      <td>0.016418</td>\n",
              "      <td>22.166944</td>\n",
              "      <td>23.399255</td>\n",
              "      <td>0.017265</td>\n",
              "      <td>0.001327</td>\n",
              "      <td>10.681517</td>\n",
              "      <td>22.578943</td>\n",
              "      <td>0.016509</td>\n",
              "      <td>0.087646</td>\n",
              "      <td>5.572471</td>\n",
              "      <td>0</td>\n",
              "      <td>0</td>\n",
              "      <td>941.260250</td>\n",
              "      <td>970.3450</td>\n",
              "    </tr>\n",
              "    <tr>\n",
              "      <th>2</th>\n",
              "      <td>03-01-2015 03:00</td>\n",
              "      <td>900.2688</td>\n",
              "      <td>25.937280</td>\n",
              "      <td>0.018768</td>\n",
              "      <td>0.015480</td>\n",
              "      <td>22.454911</td>\n",
              "      <td>23.343530</td>\n",
              "      <td>0.017211</td>\n",
              "      <td>0.001428</td>\n",
              "      <td>10.874924</td>\n",
              "      <td>22.531030</td>\n",
              "      <td>0.016479</td>\n",
              "      <td>0.078735</td>\n",
              "      <td>5.871184</td>\n",
              "      <td>0</td>\n",
              "      <td>0</td>\n",
              "      <td>927.596433</td>\n",
              "      <td>912.1755</td>\n",
              "    </tr>\n",
              "    <tr>\n",
              "      <th>3</th>\n",
              "      <td>03-01-2015 04:00</td>\n",
              "      <td>889.9538</td>\n",
              "      <td>25.957544</td>\n",
              "      <td>0.018890</td>\n",
              "      <td>0.016273</td>\n",
              "      <td>22.110481</td>\n",
              "      <td>23.238794</td>\n",
              "      <td>0.017128</td>\n",
              "      <td>0.002599</td>\n",
              "      <td>10.518620</td>\n",
              "      <td>22.512231</td>\n",
              "      <td>0.016487</td>\n",
              "      <td>0.068390</td>\n",
              "      <td>5.883621</td>\n",
              "      <td>0</td>\n",
              "      <td>0</td>\n",
              "      <td>918.185775</td>\n",
              "      <td>900.2688</td>\n",
              "    </tr>\n",
              "    <tr>\n",
              "      <th>4</th>\n",
              "      <td>03-01-2015 05:00</td>\n",
              "      <td>893.6865</td>\n",
              "      <td>25.973840</td>\n",
              "      <td>0.018981</td>\n",
              "      <td>0.017281</td>\n",
              "      <td>21.186089</td>\n",
              "      <td>23.075403</td>\n",
              "      <td>0.017059</td>\n",
              "      <td>0.001729</td>\n",
              "      <td>9.733589</td>\n",
              "      <td>22.481653</td>\n",
              "      <td>0.016456</td>\n",
              "      <td>0.064362</td>\n",
              "      <td>5.611724</td>\n",
              "      <td>0</td>\n",
              "      <td>0</td>\n",
              "      <td>913.285920</td>\n",
              "      <td>889.9538</td>\n",
              "    </tr>\n",
              "    <tr>\n",
              "      <th>...</th>\n",
              "      <td>...</td>\n",
              "      <td>...</td>\n",
              "      <td>...</td>\n",
              "      <td>...</td>\n",
              "      <td>...</td>\n",
              "      <td>...</td>\n",
              "      <td>...</td>\n",
              "      <td>...</td>\n",
              "      <td>...</td>\n",
              "      <td>...</td>\n",
              "      <td>...</td>\n",
              "      <td>...</td>\n",
              "      <td>...</td>\n",
              "      <td>...</td>\n",
              "      <td>...</td>\n",
              "      <td>...</td>\n",
              "      <td>...</td>\n",
              "      <td>...</td>\n",
              "    </tr>\n",
              "    <tr>\n",
              "      <th>43770</th>\n",
              "      <td>31-12-2019 19:00</td>\n",
              "      <td>1301.6065</td>\n",
              "      <td>26.635645</td>\n",
              "      <td>0.018421</td>\n",
              "      <td>0.013165</td>\n",
              "      <td>13.184052</td>\n",
              "      <td>25.135645</td>\n",
              "      <td>0.018048</td>\n",
              "      <td>0.064240</td>\n",
              "      <td>3.086798</td>\n",
              "      <td>23.620020</td>\n",
              "      <td>0.016697</td>\n",
              "      <td>0.073425</td>\n",
              "      <td>3.865351</td>\n",
              "      <td>1</td>\n",
              "      <td>0</td>\n",
              "      <td>1294.093850</td>\n",
              "      <td>1287.3592</td>\n",
              "    </tr>\n",
              "    <tr>\n",
              "      <th>43771</th>\n",
              "      <td>31-12-2019 20:00</td>\n",
              "      <td>1250.9634</td>\n",
              "      <td>26.495935</td>\n",
              "      <td>0.018162</td>\n",
              "      <td>0.014713</td>\n",
              "      <td>13.443892</td>\n",
              "      <td>24.769373</td>\n",
              "      <td>0.017781</td>\n",
              "      <td>0.058838</td>\n",
              "      <td>3.659980</td>\n",
              "      <td>23.284998</td>\n",
              "      <td>0.016606</td>\n",
              "      <td>0.064362</td>\n",
              "      <td>4.171572</td>\n",
              "      <td>1</td>\n",
              "      <td>0</td>\n",
              "      <td>1293.735555</td>\n",
              "      <td>1301.6065</td>\n",
              "    </tr>\n",
              "    <tr>\n",
              "      <th>43772</th>\n",
              "      <td>31-12-2019 21:00</td>\n",
              "      <td>1193.6802</td>\n",
              "      <td>26.354456</td>\n",
              "      <td>0.017980</td>\n",
              "      <td>0.013836</td>\n",
              "      <td>13.442195</td>\n",
              "      <td>24.479456</td>\n",
              "      <td>0.017606</td>\n",
              "      <td>0.038086</td>\n",
              "      <td>3.769294</td>\n",
              "      <td>23.041956</td>\n",
              "      <td>0.016492</td>\n",
              "      <td>0.054260</td>\n",
              "      <td>4.045283</td>\n",
              "      <td>1</td>\n",
              "      <td>0</td>\n",
              "      <td>1293.436726</td>\n",
              "      <td>1250.9634</td>\n",
              "    </tr>\n",
              "    <tr>\n",
              "      <th>43773</th>\n",
              "      <td>31-12-2019 22:00</td>\n",
              "      <td>1130.4575</td>\n",
              "      <td>26.166895</td>\n",
              "      <td>0.017965</td>\n",
              "      <td>0.018486</td>\n",
              "      <td>13.420656</td>\n",
              "      <td>24.112207</td>\n",
              "      <td>0.017393</td>\n",
              "      <td>0.020386</td>\n",
              "      <td>3.872397</td>\n",
              "      <td>22.862207</td>\n",
              "      <td>0.016401</td>\n",
              "      <td>0.055557</td>\n",
              "      <td>3.843736</td>\n",
              "      <td>1</td>\n",
              "      <td>0</td>\n",
              "      <td>1293.002435</td>\n",
              "      <td>1193.6802</td>\n",
              "    </tr>\n",
              "    <tr>\n",
              "      <th>43774</th>\n",
              "      <td>31-12-2019 23:00</td>\n",
              "      <td>1084.4737</td>\n",
              "      <td>25.976373</td>\n",
              "      <td>0.018072</td>\n",
              "      <td>0.023315</td>\n",
              "      <td>13.749788</td>\n",
              "      <td>23.663873</td>\n",
              "      <td>0.017156</td>\n",
              "      <td>0.019531</td>\n",
              "      <td>4.165276</td>\n",
              "      <td>22.726373</td>\n",
              "      <td>0.016302</td>\n",
              "      <td>0.061371</td>\n",
              "      <td>3.793209</td>\n",
              "      <td>1</td>\n",
              "      <td>0</td>\n",
              "      <td>1292.432658</td>\n",
              "      <td>1130.4575</td>\n",
              "    </tr>\n",
              "  </tbody>\n",
              "</table>\n",
              "<p>43775 rows × 18 columns</p>\n",
              "</div>\n",
              "    <div class=\"colab-df-buttons\">\n",
              "\n",
              "  <div class=\"colab-df-container\">\n",
              "    <button class=\"colab-df-convert\" onclick=\"convertToInteractive('df-f3385c0e-9b25-46fc-8eaa-efecb291dee3')\"\n",
              "            title=\"Convert this dataframe to an interactive table.\"\n",
              "            style=\"display:none;\">\n",
              "\n",
              "  <svg xmlns=\"http://www.w3.org/2000/svg\" height=\"24px\" viewBox=\"0 -960 960 960\">\n",
              "    <path d=\"M120-120v-720h720v720H120Zm60-500h600v-160H180v160Zm220 220h160v-160H400v160Zm0 220h160v-160H400v160ZM180-400h160v-160H180v160Zm440 0h160v-160H620v160ZM180-180h160v-160H180v160Zm440 0h160v-160H620v160Z\"/>\n",
              "  </svg>\n",
              "    </button>\n",
              "\n",
              "  <style>\n",
              "    .colab-df-container {\n",
              "      display:flex;\n",
              "      gap: 12px;\n",
              "    }\n",
              "\n",
              "    .colab-df-convert {\n",
              "      background-color: #E8F0FE;\n",
              "      border: none;\n",
              "      border-radius: 50%;\n",
              "      cursor: pointer;\n",
              "      display: none;\n",
              "      fill: #1967D2;\n",
              "      height: 32px;\n",
              "      padding: 0 0 0 0;\n",
              "      width: 32px;\n",
              "    }\n",
              "\n",
              "    .colab-df-convert:hover {\n",
              "      background-color: #E2EBFA;\n",
              "      box-shadow: 0px 1px 2px rgba(60, 64, 67, 0.3), 0px 1px 3px 1px rgba(60, 64, 67, 0.15);\n",
              "      fill: #174EA6;\n",
              "    }\n",
              "\n",
              "    .colab-df-buttons div {\n",
              "      margin-bottom: 4px;\n",
              "    }\n",
              "\n",
              "    [theme=dark] .colab-df-convert {\n",
              "      background-color: #3B4455;\n",
              "      fill: #D2E3FC;\n",
              "    }\n",
              "\n",
              "    [theme=dark] .colab-df-convert:hover {\n",
              "      background-color: #434B5C;\n",
              "      box-shadow: 0px 1px 3px 1px rgba(0, 0, 0, 0.15);\n",
              "      filter: drop-shadow(0px 1px 2px rgba(0, 0, 0, 0.3));\n",
              "      fill: #FFFFFF;\n",
              "    }\n",
              "  </style>\n",
              "\n",
              "    <script>\n",
              "      const buttonEl =\n",
              "        document.querySelector('#df-f3385c0e-9b25-46fc-8eaa-efecb291dee3 button.colab-df-convert');\n",
              "      buttonEl.style.display =\n",
              "        google.colab.kernel.accessAllowed ? 'block' : 'none';\n",
              "\n",
              "      async function convertToInteractive(key) {\n",
              "        const element = document.querySelector('#df-f3385c0e-9b25-46fc-8eaa-efecb291dee3');\n",
              "        const dataTable =\n",
              "          await google.colab.kernel.invokeFunction('convertToInteractive',\n",
              "                                                    [key], {});\n",
              "        if (!dataTable) return;\n",
              "\n",
              "        const docLinkHtml = 'Like what you see? Visit the ' +\n",
              "          '<a target=\"_blank\" href=https://colab.research.google.com/notebooks/data_table.ipynb>data table notebook</a>'\n",
              "          + ' to learn more about interactive tables.';\n",
              "        element.innerHTML = '';\n",
              "        dataTable['output_type'] = 'display_data';\n",
              "        await google.colab.output.renderOutput(dataTable, element);\n",
              "        const docLink = document.createElement('div');\n",
              "        docLink.innerHTML = docLinkHtml;\n",
              "        element.appendChild(docLink);\n",
              "      }\n",
              "    </script>\n",
              "  </div>\n",
              "\n",
              "\n",
              "<div id=\"df-33554e1f-be9a-4caf-b78d-393d4d67d470\">\n",
              "  <button class=\"colab-df-quickchart\" onclick=\"quickchart('df-33554e1f-be9a-4caf-b78d-393d4d67d470')\"\n",
              "            title=\"Suggest charts.\"\n",
              "            style=\"display:none;\">\n",
              "\n",
              "<svg xmlns=\"http://www.w3.org/2000/svg\" height=\"24px\"viewBox=\"0 0 24 24\"\n",
              "     width=\"24px\">\n",
              "    <g>\n",
              "        <path d=\"M19 3H5c-1.1 0-2 .9-2 2v14c0 1.1.9 2 2 2h14c1.1 0 2-.9 2-2V5c0-1.1-.9-2-2-2zM9 17H7v-7h2v7zm4 0h-2V7h2v10zm4 0h-2v-4h2v4z\"/>\n",
              "    </g>\n",
              "</svg>\n",
              "  </button>\n",
              "\n",
              "<style>\n",
              "  .colab-df-quickchart {\n",
              "      --bg-color: #E8F0FE;\n",
              "      --fill-color: #1967D2;\n",
              "      --hover-bg-color: #E2EBFA;\n",
              "      --hover-fill-color: #174EA6;\n",
              "      --disabled-fill-color: #AAA;\n",
              "      --disabled-bg-color: #DDD;\n",
              "  }\n",
              "\n",
              "  [theme=dark] .colab-df-quickchart {\n",
              "      --bg-color: #3B4455;\n",
              "      --fill-color: #D2E3FC;\n",
              "      --hover-bg-color: #434B5C;\n",
              "      --hover-fill-color: #FFFFFF;\n",
              "      --disabled-bg-color: #3B4455;\n",
              "      --disabled-fill-color: #666;\n",
              "  }\n",
              "\n",
              "  .colab-df-quickchart {\n",
              "    background-color: var(--bg-color);\n",
              "    border: none;\n",
              "    border-radius: 50%;\n",
              "    cursor: pointer;\n",
              "    display: none;\n",
              "    fill: var(--fill-color);\n",
              "    height: 32px;\n",
              "    padding: 0;\n",
              "    width: 32px;\n",
              "  }\n",
              "\n",
              "  .colab-df-quickchart:hover {\n",
              "    background-color: var(--hover-bg-color);\n",
              "    box-shadow: 0 1px 2px rgba(60, 64, 67, 0.3), 0 1px 3px 1px rgba(60, 64, 67, 0.15);\n",
              "    fill: var(--button-hover-fill-color);\n",
              "  }\n",
              "\n",
              "  .colab-df-quickchart-complete:disabled,\n",
              "  .colab-df-quickchart-complete:disabled:hover {\n",
              "    background-color: var(--disabled-bg-color);\n",
              "    fill: var(--disabled-fill-color);\n",
              "    box-shadow: none;\n",
              "  }\n",
              "\n",
              "  .colab-df-spinner {\n",
              "    border: 2px solid var(--fill-color);\n",
              "    border-color: transparent;\n",
              "    border-bottom-color: var(--fill-color);\n",
              "    animation:\n",
              "      spin 1s steps(1) infinite;\n",
              "  }\n",
              "\n",
              "  @keyframes spin {\n",
              "    0% {\n",
              "      border-color: transparent;\n",
              "      border-bottom-color: var(--fill-color);\n",
              "      border-left-color: var(--fill-color);\n",
              "    }\n",
              "    20% {\n",
              "      border-color: transparent;\n",
              "      border-left-color: var(--fill-color);\n",
              "      border-top-color: var(--fill-color);\n",
              "    }\n",
              "    30% {\n",
              "      border-color: transparent;\n",
              "      border-left-color: var(--fill-color);\n",
              "      border-top-color: var(--fill-color);\n",
              "      border-right-color: var(--fill-color);\n",
              "    }\n",
              "    40% {\n",
              "      border-color: transparent;\n",
              "      border-right-color: var(--fill-color);\n",
              "      border-top-color: var(--fill-color);\n",
              "    }\n",
              "    60% {\n",
              "      border-color: transparent;\n",
              "      border-right-color: var(--fill-color);\n",
              "    }\n",
              "    80% {\n",
              "      border-color: transparent;\n",
              "      border-right-color: var(--fill-color);\n",
              "      border-bottom-color: var(--fill-color);\n",
              "    }\n",
              "    90% {\n",
              "      border-color: transparent;\n",
              "      border-bottom-color: var(--fill-color);\n",
              "    }\n",
              "  }\n",
              "</style>\n",
              "\n",
              "  <script>\n",
              "    async function quickchart(key) {\n",
              "      const quickchartButtonEl =\n",
              "        document.querySelector('#' + key + ' button');\n",
              "      quickchartButtonEl.disabled = true;  // To prevent multiple clicks.\n",
              "      quickchartButtonEl.classList.add('colab-df-spinner');\n",
              "      try {\n",
              "        const charts = await google.colab.kernel.invokeFunction(\n",
              "            'suggestCharts', [key], {});\n",
              "      } catch (error) {\n",
              "        console.error('Error during call to suggestCharts:', error);\n",
              "      }\n",
              "      quickchartButtonEl.classList.remove('colab-df-spinner');\n",
              "      quickchartButtonEl.classList.add('colab-df-quickchart-complete');\n",
              "    }\n",
              "    (() => {\n",
              "      let quickchartButtonEl =\n",
              "        document.querySelector('#df-33554e1f-be9a-4caf-b78d-393d4d67d470 button');\n",
              "      quickchartButtonEl.style.display =\n",
              "        google.colab.kernel.accessAllowed ? 'block' : 'none';\n",
              "    })();\n",
              "  </script>\n",
              "</div>\n",
              "    </div>\n",
              "  </div>\n"
            ]
          },
          "metadata": {},
          "execution_count": 564
        }
      ]
    },
    {
      "cell_type": "code",
      "source": [
        "df1.shape"
      ],
      "metadata": {
        "colab": {
          "base_uri": "https://localhost:8080/"
        },
        "id": "ssuYoDukxyMD",
        "outputId": "50962f06-9c3a-4de1-af75-d5c7feaa3ce7"
      },
      "execution_count": 565,
      "outputs": [
        {
          "output_type": "execute_result",
          "data": {
            "text/plain": [
              "(43775, 18)"
            ]
          },
          "metadata": {},
          "execution_count": 565
        }
      ]
    },
    {
      "cell_type": "code",
      "source": [
        "df1 = df1.set_index('datetime')"
      ],
      "metadata": {
        "id": "TGsT7exBO751"
      },
      "execution_count": 566,
      "outputs": []
    },
    {
      "cell_type": "code",
      "source": [
        "df1 = df1.dropna()"
      ],
      "metadata": {
        "id": "8euCxkO2PmEG"
      },
      "execution_count": 567,
      "outputs": []
    },
    {
      "cell_type": "code",
      "source": [
        "x = df1.drop(columns = ['nat_demand'])\n",
        "y = df1['nat_demand']"
      ],
      "metadata": {
        "id": "GxWsm_sLAHV6"
      },
      "execution_count": 568,
      "outputs": []
    },
    {
      "cell_type": "code",
      "source": [
        "x_train, y_train = x.iloc[:35020], y.iloc[:35020]\n",
        "x_test, y_test = x.iloc[35020:], y.iloc[35020:]"
      ],
      "metadata": {
        "id": "1SAW1UX_xyEb"
      },
      "execution_count": 569,
      "outputs": []
    },
    {
      "cell_type": "code",
      "source": [],
      "metadata": {
        "id": "AwUPPbyWOhvJ"
      },
      "execution_count": 569,
      "outputs": []
    },
    {
      "cell_type": "code",
      "source": [
        "from sklearn.preprocessing import MinMaxScaler\n",
        "scaler = MinMaxScaler()\n",
        "x_train.iloc[:,:] = scaler.fit_transform(x_train)\n",
        "x_test.iloc[:,:] = scaler.transform(x_test)"
      ],
      "metadata": {
        "colab": {
          "base_uri": "https://localhost:8080/"
        },
        "id": "bnmzcStzxfwQ",
        "outputId": "0d493725-8163-476d-8e70-c1cebecb17e5"
      },
      "execution_count": 570,
      "outputs": [
        {
          "output_type": "stream",
          "name": "stderr",
          "text": [
            "<ipython-input-570-cf368fa7a3a1>:3: SettingWithCopyWarning:\n",
            "\n",
            "\n",
            "A value is trying to be set on a copy of a slice from a DataFrame.\n",
            "Try using .loc[row_indexer,col_indexer] = value instead\n",
            "\n",
            "See the caveats in the documentation: https://pandas.pydata.org/pandas-docs/stable/user_guide/indexing.html#returning-a-view-versus-a-copy\n",
            "\n",
            "<ipython-input-570-cf368fa7a3a1>:3: DeprecationWarning:\n",
            "\n",
            "In a future version, `df.iloc[:, i] = newvals` will attempt to set the values inplace instead of always setting a new array. To retain the old behavior, use either `df[df.columns[i]] = newvals` or, if columns are non-unique, `df.isetitem(i, newvals)`\n",
            "\n",
            "<ipython-input-570-cf368fa7a3a1>:4: SettingWithCopyWarning:\n",
            "\n",
            "\n",
            "A value is trying to be set on a copy of a slice from a DataFrame.\n",
            "Try using .loc[row_indexer,col_indexer] = value instead\n",
            "\n",
            "See the caveats in the documentation: https://pandas.pydata.org/pandas-docs/stable/user_guide/indexing.html#returning-a-view-versus-a-copy\n",
            "\n",
            "<ipython-input-570-cf368fa7a3a1>:4: DeprecationWarning:\n",
            "\n",
            "In a future version, `df.iloc[:, i] = newvals` will attempt to set the values inplace instead of always setting a new array. To retain the old behavior, use either `df[df.columns[i]] = newvals` or, if columns are non-unique, `df.isetitem(i, newvals)`\n",
            "\n"
          ]
        }
      ]
    },
    {
      "cell_type": "code",
      "source": [
        "# x_train = x_train.set_index('datetime')\n",
        "# x_test = x_test.set_index('datetime')"
      ],
      "metadata": {
        "id": "WKlKzR8zyYRp"
      },
      "execution_count": 571,
      "outputs": []
    },
    {
      "cell_type": "code",
      "source": [
        "reg = LinearRegression().fit(x_train, y_train)\n",
        "y_pred = reg.predict(x_test)\n",
        "reg.score(x_test, y_test)"
      ],
      "metadata": {
        "colab": {
          "base_uri": "https://localhost:8080/"
        },
        "id": "KLVhqVKqyYOO",
        "outputId": "6279173b-8818-4f3f-f6ff-1f59296c513b"
      },
      "execution_count": 572,
      "outputs": [
        {
          "output_type": "execute_result",
          "data": {
            "text/plain": [
              "0.9189459077256189"
            ]
          },
          "metadata": {},
          "execution_count": 572
        }
      ]
    },
    {
      "cell_type": "code",
      "source": [
        "poly_features = PolynomialFeatures(degree = 3)\n",
        "x_train_poly = poly_features.fit_transform(x_train)\n",
        "x_test_poly = poly_features.transform(x_test)"
      ],
      "metadata": {
        "id": "L5QlTqXtxftV"
      },
      "execution_count": 575,
      "outputs": []
    },
    {
      "cell_type": "code",
      "source": [
        "lr = LinearRegression()\n",
        "lr.fit(x_train, y_train)\n",
        "y_pred_poly = lr.predict(x_test)"
      ],
      "metadata": {
        "id": "w2sTdCEP3oFd"
      },
      "execution_count": 576,
      "outputs": []
    },
    {
      "cell_type": "code",
      "source": [
        "rmse = np.sqrt(mean_squared_error(y_test, y_pred))\n",
        "mae = mean_absolute_error(y_test, y_pred)\n",
        "mse = mean_squared_error(y_test, y_pred)\n",
        "r2 = r2_score(y_test, y_pred)\n",
        "print('RMSE:',rmse,'\\nMAE:',mae,'\\nMSE:',mse,'\\nR2Score:',r2)"
      ],
      "metadata": {
        "colab": {
          "base_uri": "https://localhost:8080/"
        },
        "id": "h7KyMA4T3oCV",
        "outputId": "e07aa2fd-9d91-4d06-f689-174732370068"
      },
      "execution_count": 577,
      "outputs": [
        {
          "output_type": "stream",
          "name": "stdout",
          "text": [
            "RMSE: 53.82807302495425 \n",
            "MAE: 41.889898948094114 \n",
            "MSE: 2897.4614455798073 \n",
            "R2Score: 0.9189459077256189\n"
          ]
        }
      ]
    },
    {
      "cell_type": "code",
      "source": [
        "input_dim = x_train.shape[1]\n",
        "model = Sequential()\n",
        "model.add(Dense(32, input_dim = input_dim, activation = 'relu'))\n",
        "# model.add(Dense(32, activation = 'relu'))\n",
        "model.add(Dense(16, activation = 'relu'))\n",
        "model.add(BatchNormalization())\n",
        "model.add(Dense(8, activation = 'relu'))\n",
        "model.add(Dense(1, activation = 'linear'))\n",
        "model.compile(loss='mean_absolute_error', optimizer=Adam())"
      ],
      "metadata": {
        "id": "kmeU2yZ-4VFm"
      },
      "execution_count": 578,
      "outputs": []
    },
    {
      "cell_type": "code",
      "source": [
        "history = model.fit(x_train, y_train, epochs = 25, validation_split = 0.2)"
      ],
      "metadata": {
        "colab": {
          "base_uri": "https://localhost:8080/"
        },
        "id": "Jj4uxywu4VBi",
        "outputId": "ecd32582-08f3-4533-c153-7b565b1fbdf7"
      },
      "execution_count": 579,
      "outputs": [
        {
          "output_type": "stream",
          "name": "stdout",
          "text": [
            "Epoch 1/25\n",
            "876/876 [==============================] - 4s 3ms/step - loss: 1101.5630 - val_loss: 939.3818\n",
            "Epoch 2/25\n",
            "876/876 [==============================] - 3s 3ms/step - loss: 554.0493 - val_loss: 639.8106\n",
            "Epoch 3/25\n",
            "876/876 [==============================] - 3s 3ms/step - loss: 112.6485 - val_loss: 68.8822\n",
            "Epoch 4/25\n",
            "876/876 [==============================] - 2s 2ms/step - loss: 55.3618 - val_loss: 72.8079\n",
            "Epoch 5/25\n",
            "876/876 [==============================] - 2s 2ms/step - loss: 52.1069 - val_loss: 46.6701\n",
            "Epoch 6/25\n",
            "876/876 [==============================] - 2s 2ms/step - loss: 51.7745 - val_loss: 60.4432\n",
            "Epoch 7/25\n",
            "876/876 [==============================] - 2s 2ms/step - loss: 51.3518 - val_loss: 81.4050\n",
            "Epoch 8/25\n",
            "876/876 [==============================] - 3s 3ms/step - loss: 50.3532 - val_loss: 44.0309\n",
            "Epoch 9/25\n",
            "876/876 [==============================] - 2s 3ms/step - loss: 50.8092 - val_loss: 47.0148\n",
            "Epoch 10/25\n",
            "876/876 [==============================] - 2s 2ms/step - loss: 49.7879 - val_loss: 47.7139\n",
            "Epoch 11/25\n",
            "876/876 [==============================] - 2s 2ms/step - loss: 50.8458 - val_loss: 44.4685\n",
            "Epoch 12/25\n",
            "876/876 [==============================] - 2s 2ms/step - loss: 51.0952 - val_loss: 40.2324\n",
            "Epoch 13/25\n",
            "876/876 [==============================] - 2s 2ms/step - loss: 50.0066 - val_loss: 41.4606\n",
            "Epoch 14/25\n",
            "876/876 [==============================] - 3s 4ms/step - loss: 50.3764 - val_loss: 41.4842\n",
            "Epoch 15/25\n",
            "876/876 [==============================] - 2s 2ms/step - loss: 50.5039 - val_loss: 41.0524\n",
            "Epoch 16/25\n",
            "876/876 [==============================] - 2s 2ms/step - loss: 49.9574 - val_loss: 53.8128\n",
            "Epoch 17/25\n",
            "876/876 [==============================] - 2s 2ms/step - loss: 49.5919 - val_loss: 41.9398\n",
            "Epoch 18/25\n",
            "876/876 [==============================] - 2s 2ms/step - loss: 49.3555 - val_loss: 48.2387\n",
            "Epoch 19/25\n",
            "876/876 [==============================] - 3s 3ms/step - loss: 49.3033 - val_loss: 45.1797\n",
            "Epoch 20/25\n",
            "876/876 [==============================] - 3s 3ms/step - loss: 50.1371 - val_loss: 43.4357\n",
            "Epoch 21/25\n",
            "876/876 [==============================] - 2s 2ms/step - loss: 49.6176 - val_loss: 50.0215\n",
            "Epoch 22/25\n",
            "876/876 [==============================] - 2s 2ms/step - loss: 49.4558 - val_loss: 43.7892\n",
            "Epoch 23/25\n",
            "876/876 [==============================] - 2s 2ms/step - loss: 49.2191 - val_loss: 39.9317\n",
            "Epoch 24/25\n",
            "876/876 [==============================] - 2s 2ms/step - loss: 48.9616 - val_loss: 44.4348\n",
            "Epoch 25/25\n",
            "876/876 [==============================] - 3s 3ms/step - loss: 49.3050 - val_loss: 42.0969\n"
          ]
        }
      ]
    },
    {
      "cell_type": "code",
      "source": [
        "y_pred = model.predict(x_test)"
      ],
      "metadata": {
        "colab": {
          "base_uri": "https://localhost:8080/"
        },
        "id": "UEChGRkf3n_3",
        "outputId": "882af84d-207f-4c7c-8cbe-ed7eb67faeef"
      },
      "execution_count": 580,
      "outputs": [
        {
          "output_type": "stream",
          "name": "stdout",
          "text": [
            "274/274 [==============================] - 0s 2ms/step\n"
          ]
        }
      ]
    },
    {
      "cell_type": "code",
      "source": [
        "r2_score(y_pred, y_test)"
      ],
      "metadata": {
        "colab": {
          "base_uri": "https://localhost:8080/"
        },
        "id": "G30ljSNK5A17",
        "outputId": "cea21bbf-2ff2-4f95-a40b-970b72f1b1d0"
      },
      "execution_count": 581,
      "outputs": [
        {
          "output_type": "execute_result",
          "data": {
            "text/plain": [
              "0.903817133291283"
            ]
          },
          "metadata": {},
          "execution_count": 581
        }
      ]
    },
    {
      "cell_type": "code",
      "source": [
        "plt.plot(df1.index, df1['nat_demand'])\n",
        "plt.plot(x_test.index, y_pred)\n",
        "locator = mdates.YearLocator(base=10)\n",
        "plt.gca().xaxis.set_major_locator(locator)\n",
        "plt.gca().xaxis.set_major_formatter(mdates.DateFormatter('%Y-%m-%d'))\n",
        "plt.xticks(rotation=45)\n",
        "plt.show()"
      ],
      "metadata": {
        "colab": {
          "base_uri": "https://localhost:8080/",
          "height": 487
        },
        "id": "obKRvNy4_JgO",
        "outputId": "f816b08b-2d27-40c4-b22a-982f8affe3f0"
      },
      "execution_count": 585,
      "outputs": [
        {
          "output_type": "display_data",
          "data": {
            "text/plain": [
              "<Figure size 640x480 with 1 Axes>"
            ],
            "image/png": "[encoded data removed]"
          },
          "metadata": {}
        }
      ]
    },
    {
      "cell_type": "code",
      "source": [
        "df2 = pd.read_csv('/content/monthly_ocean_csv.csv')"
      ],
      "metadata": {
        "id": "urz2EBpxUdGy"
      },
      "execution_count": 173,
      "outputs": []
    },
    {
      "cell_type": "code",
      "source": [
        "df2.head()"
      ],
      "metadata": {
        "colab": {
          "base_uri": "https://localhost:8080/",
          "height": 206
        },
        "id": "mo8ae_yhY_aP",
        "outputId": "1eddadcf-295b-4696-fa96-04f2e75a1ff3"
      },
      "execution_count": 174,
      "outputs": [
        {
          "output_type": "execute_result",
          "data": {
            "text/plain": [
              "    Source        Date    Mean\n",
              "0     GCAG  2016-12-06  0.7895\n",
              "1  GISTEMP  2016-12-06  0.8100\n",
              "2     GCAG  2016-11-06  0.7504\n",
              "3  GISTEMP  2016-11-06  0.9300\n",
              "4     GCAG  2016-10-06  0.7292"
            ],
            "text/html": [
              "\n",
              "  <div id=\"df-21903975-975a-4ed7-98dd-c09621b8f27d\" class=\"colab-df-container\">\n",
              "    <div>\n",
              "<style scoped>\n",
              "    .dataframe tbody tr th:only-of-type {\n",
              "        vertical-align: middle;\n",
              "    }\n",
              "\n",
              "    .dataframe tbody tr th {\n",
              "        vertical-align: top;\n",
              "    }\n",
              "\n",
              "    .dataframe thead th {\n",
              "        text-align: right;\n",
              "    }\n",
              "</style>\n",
              "<table border=\"1\" class=\"dataframe\">\n",
              "  <thead>\n",
              "    <tr style=\"text-align: right;\">\n",
              "      <th></th>\n",
              "      <th>Source</th>\n",
              "      <th>Date</th>\n",
              "      <th>Mean</th>\n",
              "    </tr>\n",
              "  </thead>\n",
              "  <tbody>\n",
              "    <tr>\n",
              "      <th>0</th>\n",
              "      <td>GCAG</td>\n",
              "      <td>2016-12-06</td>\n",
              "      <td>0.7895</td>\n",
              "    </tr>\n",
              "    <tr>\n",
              "      <th>1</th>\n",
              "      <td>GISTEMP</td>\n",
              "      <td>2016-12-06</td>\n",
              "      <td>0.8100</td>\n",
              "    </tr>\n",
              "    <tr>\n",
              "      <th>2</th>\n",
              "      <td>GCAG</td>\n",
              "      <td>2016-11-06</td>\n",
              "      <td>0.7504</td>\n",
              "    </tr>\n",
              "    <tr>\n",
              "      <th>3</th>\n",
              "      <td>GISTEMP</td>\n",
              "      <td>2016-11-06</td>\n",
              "      <td>0.9300</td>\n",
              "    </tr>\n",
              "    <tr>\n",
              "      <th>4</th>\n",
              "      <td>GCAG</td>\n",
              "      <td>2016-10-06</td>\n",
              "      <td>0.7292</td>\n",
              "    </tr>\n",
              "  </tbody>\n",
              "</table>\n",
              "</div>\n",
              "    <div class=\"colab-df-buttons\">\n",
              "\n",
              "  <div class=\"colab-df-container\">\n",
              "    <button class=\"colab-df-convert\" onclick=\"convertToInteractive('df-21903975-975a-4ed7-98dd-c09621b8f27d')\"\n",
              "            title=\"Convert this dataframe to an interactive table.\"\n",
              "            style=\"display:none;\">\n",
              "\n",
              "  <svg xmlns=\"http://www.w3.org/2000/svg\" height=\"24px\" viewBox=\"0 -960 960 960\">\n",
              "    <path d=\"M120-120v-720h720v720H120Zm60-500h600v-160H180v160Zm220 220h160v-160H400v160Zm0 220h160v-160H400v160ZM180-400h160v-160H180v160Zm440 0h160v-160H620v160ZM180-180h160v-160H180v160Zm440 0h160v-160H620v160Z\"/>\n",
              "  </svg>\n",
              "    </button>\n",
              "\n",
              "  <style>\n",
              "    .colab-df-container {\n",
              "      display:flex;\n",
              "      gap: 12px;\n",
              "    }\n",
              "\n",
              "    .colab-df-convert {\n",
              "      background-color: #E8F0FE;\n",
              "      border: none;\n",
              "      border-radius: 50%;\n",
              "      cursor: pointer;\n",
              "      display: none;\n",
              "      fill: #1967D2;\n",
              "      height: 32px;\n",
              "      padding: 0 0 0 0;\n",
              "      width: 32px;\n",
              "    }\n",
              "\n",
              "    .colab-df-convert:hover {\n",
              "      background-color: #E2EBFA;\n",
              "      box-shadow: 0px 1px 2px rgba(60, 64, 67, 0.3), 0px 1px 3px 1px rgba(60, 64, 67, 0.15);\n",
              "      fill: #174EA6;\n",
              "    }\n",
              "\n",
              "    .colab-df-buttons div {\n",
              "      margin-bottom: 4px;\n",
              "    }\n",
              "\n",
              "    [theme=dark] .colab-df-convert {\n",
              "      background-color: #3B4455;\n",
              "      fill: #D2E3FC;\n",
              "    }\n",
              "\n",
              "    [theme=dark] .colab-df-convert:hover {\n",
              "      background-color: #434B5C;\n",
              "      box-shadow: 0px 1px 3px 1px rgba(0, 0, 0, 0.15);\n",
              "      filter: drop-shadow(0px 1px 2px rgba(0, 0, 0, 0.3));\n",
              "      fill: #FFFFFF;\n",
              "    }\n",
              "  </style>\n",
              "\n",
              "    <script>\n",
              "      const buttonEl =\n",
              "        document.querySelector('#df-21903975-975a-4ed7-98dd-c09621b8f27d button.colab-df-convert');\n",
              "      buttonEl.style.display =\n",
              "        google.colab.kernel.accessAllowed ? 'block' : 'none';\n",
              "\n",
              "      async function convertToInteractive(key) {\n",
              "        const element = document.querySelector('#df-21903975-975a-4ed7-98dd-c09621b8f27d');\n",
              "        const dataTable =\n",
              "          await google.colab.kernel.invokeFunction('convertToInteractive',\n",
              "                                                    [key], {});\n",
              "        if (!dataTable) return;\n",
              "\n",
              "        const docLinkHtml = 'Like what you see? Visit the ' +\n",
              "          '<a target=\"_blank\" href=https://colab.research.google.com/notebooks/data_table.ipynb>data table notebook</a>'\n",
              "          + ' to learn more about interactive tables.';\n",
              "        element.innerHTML = '';\n",
              "        dataTable['output_type'] = 'display_data';\n",
              "        await google.colab.output.renderOutput(dataTable, element);\n",
              "        const docLink = document.createElement('div');\n",
              "        docLink.innerHTML = docLinkHtml;\n",
              "        element.appendChild(docLink);\n",
              "      }\n",
              "    </script>\n",
              "  </div>\n",
              "\n",
              "\n",
              "<div id=\"df-db443022-ee5f-480b-a1d7-4bef46adc788\">\n",
              "  <button class=\"colab-df-quickchart\" onclick=\"quickchart('df-db443022-ee5f-480b-a1d7-4bef46adc788')\"\n",
              "            title=\"Suggest charts.\"\n",
              "            style=\"display:none;\">\n",
              "\n",
              "<svg xmlns=\"http://www.w3.org/2000/svg\" height=\"24px\"viewBox=\"0 0 24 24\"\n",
              "     width=\"24px\">\n",
              "    <g>\n",
              "        <path d=\"M19 3H5c-1.1 0-2 .9-2 2v14c0 1.1.9 2 2 2h14c1.1 0 2-.9 2-2V5c0-1.1-.9-2-2-2zM9 17H7v-7h2v7zm4 0h-2V7h2v10zm4 0h-2v-4h2v4z\"/>\n",
              "    </g>\n",
              "</svg>\n",
              "  </button>\n",
              "\n",
              "<style>\n",
              "  .colab-df-quickchart {\n",
              "      --bg-color: #E8F0FE;\n",
              "      --fill-color: #1967D2;\n",
              "      --hover-bg-color: #E2EBFA;\n",
              "      --hover-fill-color: #174EA6;\n",
              "      --disabled-fill-color: #AAA;\n",
              "      --disabled-bg-color: #DDD;\n",
              "  }\n",
              "\n",
              "  [theme=dark] .colab-df-quickchart {\n",
              "      --bg-color: #3B4455;\n",
              "      --fill-color: #D2E3FC;\n",
              "      --hover-bg-color: #434B5C;\n",
              "      --hover-fill-color: #FFFFFF;\n",
              "      --disabled-bg-color: #3B4455;\n",
              "      --disabled-fill-color: #666;\n",
              "  }\n",
              "\n",
              "  .colab-df-quickchart {\n",
              "    background-color: var(--bg-color);\n",
              "    border: none;\n",
              "    border-radius: 50%;\n",
              "    cursor: pointer;\n",
              "    display: none;\n",
              "    fill: var(--fill-color);\n",
              "    height: 32px;\n",
              "    padding: 0;\n",
              "    width: 32px;\n",
              "  }\n",
              "\n",
              "  .colab-df-quickchart:hover {\n",
              "    background-color: var(--hover-bg-color);\n",
              "    box-shadow: 0 1px 2px rgba(60, 64, 67, 0.3), 0 1px 3px 1px rgba(60, 64, 67, 0.15);\n",
              "    fill: var(--button-hover-fill-color);\n",
              "  }\n",
              "\n",
              "  .colab-df-quickchart-complete:disabled,\n",
              "  .colab-df-quickchart-complete:disabled:hover {\n",
              "    background-color: var(--disabled-bg-color);\n",
              "    fill: var(--disabled-fill-color);\n",
              "    box-shadow: none;\n",
              "  }\n",
              "\n",
              "  .colab-df-spinner {\n",
              "    border: 2px solid var(--fill-color);\n",
              "    border-color: transparent;\n",
              "    border-bottom-color: var(--fill-color);\n",
              "    animation:\n",
              "      spin 1s steps(1) infinite;\n",
              "  }\n",
              "\n",
              "  @keyframes spin {\n",
              "    0% {\n",
              "      border-color: transparent;\n",
              "      border-bottom-color: var(--fill-color);\n",
              "      border-left-color: var(--fill-color);\n",
              "    }\n",
              "    20% {\n",
              "      border-color: transparent;\n",
              "      border-left-color: var(--fill-color);\n",
              "      border-top-color: var(--fill-color);\n",
              "    }\n",
              "    30% {\n",
              "      border-color: transparent;\n",
              "      border-left-color: var(--fill-color);\n",
              "      border-top-color: var(--fill-color);\n",
              "      border-right-color: var(--fill-color);\n",
              "    }\n",
              "    40% {\n",
              "      border-color: transparent;\n",
              "      border-right-color: var(--fill-color);\n",
              "      border-top-color: var(--fill-color);\n",
              "    }\n",
              "    60% {\n",
              "      border-color: transparent;\n",
              "      border-right-color: var(--fill-color);\n",
              "    }\n",
              "    80% {\n",
              "      border-color: transparent;\n",
              "      border-right-color: var(--fill-color);\n",
              "      border-bottom-color: var(--fill-color);\n",
              "    }\n",
              "    90% {\n",
              "      border-color: transparent;\n",
              "      border-bottom-color: var(--fill-color);\n",
              "    }\n",
              "  }\n",
              "</style>\n",
              "\n",
              "  <script>\n",
              "    async function quickchart(key) {\n",
              "      const quickchartButtonEl =\n",
              "        document.querySelector('#' + key + ' button');\n",
              "      quickchartButtonEl.disabled = true;  // To prevent multiple clicks.\n",
              "      quickchartButtonEl.classList.add('colab-df-spinner');\n",
              "      try {\n",
              "        const charts = await google.colab.kernel.invokeFunction(\n",
              "            'suggestCharts', [key], {});\n",
              "      } catch (error) {\n",
              "        console.error('Error during call to suggestCharts:', error);\n",
              "      }\n",
              "      quickchartButtonEl.classList.remove('colab-df-spinner');\n",
              "      quickchartButtonEl.classList.add('colab-df-quickchart-complete');\n",
              "    }\n",
              "    (() => {\n",
              "      let quickchartButtonEl =\n",
              "        document.querySelector('#df-db443022-ee5f-480b-a1d7-4bef46adc788 button');\n",
              "      quickchartButtonEl.style.display =\n",
              "        google.colab.kernel.accessAllowed ? 'block' : 'none';\n",
              "    })();\n",
              "  </script>\n",
              "</div>\n",
              "    </div>\n",
              "  </div>\n"
            ]
          },
          "metadata": {},
          "execution_count": 174
        }
      ]
    },
    {
      "cell_type": "code",
      "source": [
        "df2['Date'] = pd.to_datetime(df2['Date'])"
      ],
      "metadata": {
        "id": "9YoNvXW7S-Zy"
      },
      "execution_count": 175,
      "outputs": []
    },
    {
      "cell_type": "code",
      "source": [
        "df_new = df2.pivot(index = 'Date', columns = 'Source', values = 'Mean').reset_index()"
      ],
      "metadata": {
        "id": "AQWfoUtiZBTd"
      },
      "execution_count": 176,
      "outputs": []
    },
    {
      "cell_type": "code",
      "source": [
        "df_new"
      ],
      "metadata": {
        "colab": {
          "base_uri": "https://localhost:8080/",
          "height": 423
        },
        "id": "cXlbyDBwbHp0",
        "outputId": "08b2b5d2-99ca-417e-c249-58532de0395b"
      },
      "execution_count": 177,
      "outputs": [
        {
          "output_type": "execute_result",
          "data": {
            "text/plain": [
              "Source       Date    GCAG  GISTEMP\n",
              "0      1880-01-06  0.0009    -0.30\n",
              "1      1880-02-06 -0.1229    -0.21\n",
              "2      1880-03-06 -0.1357    -0.18\n",
              "3      1880-04-06 -0.0499    -0.27\n",
              "4      1880-05-06 -0.0738    -0.14\n",
              "...           ...     ...      ...\n",
              "1639   2016-08-06  0.8998     0.98\n",
              "1640   2016-09-06  0.8767     0.87\n",
              "1641   2016-10-06  0.7292     0.89\n",
              "1642   2016-11-06  0.7504     0.93\n",
              "1643   2016-12-06  0.7895     0.81\n",
              "\n",
              "[1644 rows x 3 columns]"
            ],
            "text/html": [
              "\n",
              "  <div id=\"df-f3277808-a928-4535-88fc-2db84ccccd33\" class=\"colab-df-container\">\n",
              "    <div>\n",
              "<style scoped>\n",
              "    .dataframe tbody tr th:only-of-type {\n",
              "        vertical-align: middle;\n",
              "    }\n",
              "\n",
              "    .dataframe tbody tr th {\n",
              "        vertical-align: top;\n",
              "    }\n",
              "\n",
              "    .dataframe thead th {\n",
              "        text-align: right;\n",
              "    }\n",
              "</style>\n",
              "<table border=\"1\" class=\"dataframe\">\n",
              "  <thead>\n",
              "    <tr style=\"text-align: right;\">\n",
              "      <th>Source</th>\n",
              "      <th>Date</th>\n",
              "      <th>GCAG</th>\n",
              "      <th>GISTEMP</th>\n",
              "    </tr>\n",
              "  </thead>\n",
              "  <tbody>\n",
              "    <tr>\n",
              "      <th>0</th>\n",
              "      <td>1880-01-06</td>\n",
              "      <td>0.0009</td>\n",
              "      <td>-0.30</td>\n",
              "    </tr>\n",
              "    <tr>\n",
              "      <th>1</th>\n",
              "      <td>1880-02-06</td>\n",
              "      <td>-0.1229</td>\n",
              "      <td>-0.21</td>\n",
              "    </tr>\n",
              "    <tr>\n",
              "      <th>2</th>\n",
              "      <td>1880-03-06</td>\n",
              "      <td>-0.1357</td>\n",
              "      <td>-0.18</td>\n",
              "    </tr>\n",
              "    <tr>\n",
              "      <th>3</th>\n",
              "      <td>1880-04-06</td>\n",
              "      <td>-0.0499</td>\n",
              "      <td>-0.27</td>\n",
              "    </tr>\n",
              "    <tr>\n",
              "      <th>4</th>\n",
              "      <td>1880-05-06</td>\n",
              "      <td>-0.0738</td>\n",
              "      <td>-0.14</td>\n",
              "    </tr>\n",
              "    <tr>\n",
              "      <th>...</th>\n",
              "      <td>...</td>\n",
              "      <td>...</td>\n",
              "      <td>...</td>\n",
              "    </tr>\n",
              "    <tr>\n",
              "      <th>1639</th>\n",
              "      <td>2016-08-06</td>\n",
              "      <td>0.8998</td>\n",
              "      <td>0.98</td>\n",
              "    </tr>\n",
              "    <tr>\n",
              "      <th>1640</th>\n",
              "      <td>2016-09-06</td>\n",
              "      <td>0.8767</td>\n",
              "      <td>0.87</td>\n",
              "    </tr>\n",
              "    <tr>\n",
              "      <th>1641</th>\n",
              "      <td>2016-10-06</td>\n",
              "      <td>0.7292</td>\n",
              "      <td>0.89</td>\n",
              "    </tr>\n",
              "    <tr>\n",
              "      <th>1642</th>\n",
              "      <td>2016-11-06</td>\n",
              "      <td>0.7504</td>\n",
              "      <td>0.93</td>\n",
              "    </tr>\n",
              "    <tr>\n",
              "      <th>1643</th>\n",
              "      <td>2016-12-06</td>\n",
              "      <td>0.7895</td>\n",
              "      <td>0.81</td>\n",
              "    </tr>\n",
              "  </tbody>\n",
              "</table>\n",
              "<p>1644 rows × 3 columns</p>\n",
              "</div>\n",
              "    <div class=\"colab-df-buttons\">\n",
              "\n",
              "  <div class=\"colab-df-container\">\n",
              "    <button class=\"colab-df-convert\" onclick=\"convertToInteractive('df-f3277808-a928-4535-88fc-2db84ccccd33')\"\n",
              "            title=\"Convert this dataframe to an interactive table.\"\n",
              "            style=\"display:none;\">\n",
              "\n",
              "  <svg xmlns=\"http://www.w3.org/2000/svg\" height=\"24px\" viewBox=\"0 -960 960 960\">\n",
              "    <path d=\"M120-120v-720h720v720H120Zm60-500h600v-160H180v160Zm220 220h160v-160H400v160Zm0 220h160v-160H400v160ZM180-400h160v-160H180v160Zm440 0h160v-160H620v160ZM180-180h160v-160H180v160Zm440 0h160v-160H620v160Z\"/>\n",
              "  </svg>\n",
              "    </button>\n",
              "\n",
              "  <style>\n",
              "    .colab-df-container {\n",
              "      display:flex;\n",
              "      gap: 12px;\n",
              "    }\n",
              "\n",
              "    .colab-df-convert {\n",
              "      background-color: #E8F0FE;\n",
              "      border: none;\n",
              "      border-radius: 50%;\n",
              "      cursor: pointer;\n",
              "      display: none;\n",
              "      fill: #1967D2;\n",
              "      height: 32px;\n",
              "      padding: 0 0 0 0;\n",
              "      width: 32px;\n",
              "    }\n",
              "\n",
              "    .colab-df-convert:hover {\n",
              "      background-color: #E2EBFA;\n",
              "      box-shadow: 0px 1px 2px rgba(60, 64, 67, 0.3), 0px 1px 3px 1px rgba(60, 64, 67, 0.15);\n",
              "      fill: #174EA6;\n",
              "    }\n",
              "\n",
              "    .colab-df-buttons div {\n",
              "      margin-bottom: 4px;\n",
              "    }\n",
              "\n",
              "    [theme=dark] .colab-df-convert {\n",
              "      background-color: #3B4455;\n",
              "      fill: #D2E3FC;\n",
              "    }\n",
              "\n",
              "    [theme=dark] .colab-df-convert:hover {\n",
              "      background-color: #434B5C;\n",
              "      box-shadow: 0px 1px 3px 1px rgba(0, 0, 0, 0.15);\n",
              "      filter: drop-shadow(0px 1px 2px rgba(0, 0, 0, 0.3));\n",
              "      fill: #FFFFFF;\n",
              "    }\n",
              "  </style>\n",
              "\n",
              "    <script>\n",
              "      const buttonEl =\n",
              "        document.querySelector('#df-f3277808-a928-4535-88fc-2db84ccccd33 button.colab-df-convert');\n",
              "      buttonEl.style.display =\n",
              "        google.colab.kernel.accessAllowed ? 'block' : 'none';\n",
              "\n",
              "      async function convertToInteractive(key) {\n",
              "        const element = document.querySelector('#df-f3277808-a928-4535-88fc-2db84ccccd33');\n",
              "        const dataTable =\n",
              "          await google.colab.kernel.invokeFunction('convertToInteractive',\n",
              "                                                    [key], {});\n",
              "        if (!dataTable) return;\n",
              "\n",
              "        const docLinkHtml = 'Like what you see? Visit the ' +\n",
              "          '<a target=\"_blank\" href=https://colab.research.google.com/notebooks/data_table.ipynb>data table notebook</a>'\n",
              "          + ' to learn more about interactive tables.';\n",
              "        element.innerHTML = '';\n",
              "        dataTable['output_type'] = 'display_data';\n",
              "        await google.colab.output.renderOutput(dataTable, element);\n",
              "        const docLink = document.createElement('div');\n",
              "        docLink.innerHTML = docLinkHtml;\n",
              "        element.appendChild(docLink);\n",
              "      }\n",
              "    </script>\n",
              "  </div>\n",
              "\n",
              "\n",
              "<div id=\"df-b057e68e-9ca1-4321-88b2-98261ff4c837\">\n",
              "  <button class=\"colab-df-quickchart\" onclick=\"quickchart('df-b057e68e-9ca1-4321-88b2-98261ff4c837')\"\n",
              "            title=\"Suggest charts.\"\n",
              "            style=\"display:none;\">\n",
              "\n",
              "<svg xmlns=\"http://www.w3.org/2000/svg\" height=\"24px\"viewBox=\"0 0 24 24\"\n",
              "     width=\"24px\">\n",
              "    <g>\n",
              "        <path d=\"M19 3H5c-1.1 0-2 .9-2 2v14c0 1.1.9 2 2 2h14c1.1 0 2-.9 2-2V5c0-1.1-.9-2-2-2zM9 17H7v-7h2v7zm4 0h-2V7h2v10zm4 0h-2v-4h2v4z\"/>\n",
              "    </g>\n",
              "</svg>\n",
              "  </button>\n",
              "\n",
              "<style>\n",
              "  .colab-df-quickchart {\n",
              "      --bg-color: #E8F0FE;\n",
              "      --fill-color: #1967D2;\n",
              "      --hover-bg-color: #E2EBFA;\n",
              "      --hover-fill-color: #174EA6;\n",
              "      --disabled-fill-color: #AAA;\n",
              "      --disabled-bg-color: #DDD;\n",
              "  }\n",
              "\n",
              "  [theme=dark] .colab-df-quickchart {\n",
              "      --bg-color: #3B4455;\n",
              "      --fill-color: #D2E3FC;\n",
              "      --hover-bg-color: #434B5C;\n",
              "      --hover-fill-color: #FFFFFF;\n",
              "      --disabled-bg-color: #3B4455;\n",
              "      --disabled-fill-color: #666;\n",
              "  }\n",
              "\n",
              "  .colab-df-quickchart {\n",
              "    background-color: var(--bg-color);\n",
              "    border: none;\n",
              "    border-radius: 50%;\n",
              "    cursor: pointer;\n",
              "    display: none;\n",
              "    fill: var(--fill-color);\n",
              "    height: 32px;\n",
              "    padding: 0;\n",
              "    width: 32px;\n",
              "  }\n",
              "\n",
              "  .colab-df-quickchart:hover {\n",
              "    background-color: var(--hover-bg-color);\n",
              "    box-shadow: 0 1px 2px rgba(60, 64, 67, 0.3), 0 1px 3px 1px rgba(60, 64, 67, 0.15);\n",
              "    fill: var(--button-hover-fill-color);\n",
              "  }\n",
              "\n",
              "  .colab-df-quickchart-complete:disabled,\n",
              "  .colab-df-quickchart-complete:disabled:hover {\n",
              "    background-color: var(--disabled-bg-color);\n",
              "    fill: var(--disabled-fill-color);\n",
              "    box-shadow: none;\n",
              "  }\n",
              "\n",
              "  .colab-df-spinner {\n",
              "    border: 2px solid var(--fill-color);\n",
              "    border-color: transparent;\n",
              "    border-bottom-color: var(--fill-color);\n",
              "    animation:\n",
              "      spin 1s steps(1) infinite;\n",
              "  }\n",
              "\n",
              "  @keyframes spin {\n",
              "    0% {\n",
              "      border-color: transparent;\n",
              "      border-bottom-color: var(--fill-color);\n",
              "      border-left-color: var(--fill-color);\n",
              "    }\n",
              "    20% {\n",
              "      border-color: transparent;\n",
              "      border-left-color: var(--fill-color);\n",
              "      border-top-color: var(--fill-color);\n",
              "    }\n",
              "    30% {\n",
              "      border-color: transparent;\n",
              "      border-left-color: var(--fill-color);\n",
              "      border-top-color: var(--fill-color);\n",
              "      border-right-color: var(--fill-color);\n",
              "    }\n",
              "    40% {\n",
              "      border-color: transparent;\n",
              "      border-right-color: var(--fill-color);\n",
              "      border-top-color: var(--fill-color);\n",
              "    }\n",
              "    60% {\n",
              "      border-color: transparent;\n",
              "      border-right-color: var(--fill-color);\n",
              "    }\n",
              "    80% {\n",
              "      border-color: transparent;\n",
              "      border-right-color: var(--fill-color);\n",
              "      border-bottom-color: var(--fill-color);\n",
              "    }\n",
              "    90% {\n",
              "      border-color: transparent;\n",
              "      border-bottom-color: var(--fill-color);\n",
              "    }\n",
              "  }\n",
              "</style>\n",
              "\n",
              "  <script>\n",
              "    async function quickchart(key) {\n",
              "      const quickchartButtonEl =\n",
              "        document.querySelector('#' + key + ' button');\n",
              "      quickchartButtonEl.disabled = true;  // To prevent multiple clicks.\n",
              "      quickchartButtonEl.classList.add('colab-df-spinner');\n",
              "      try {\n",
              "        const charts = await google.colab.kernel.invokeFunction(\n",
              "            'suggestCharts', [key], {});\n",
              "      } catch (error) {\n",
              "        console.error('Error during call to suggestCharts:', error);\n",
              "      }\n",
              "      quickchartButtonEl.classList.remove('colab-df-spinner');\n",
              "      quickchartButtonEl.classList.add('colab-df-quickchart-complete');\n",
              "    }\n",
              "    (() => {\n",
              "      let quickchartButtonEl =\n",
              "        document.querySelector('#df-b057e68e-9ca1-4321-88b2-98261ff4c837 button');\n",
              "      quickchartButtonEl.style.display =\n",
              "        google.colab.kernel.accessAllowed ? 'block' : 'none';\n",
              "    })();\n",
              "  </script>\n",
              "</div>\n",
              "    </div>\n",
              "  </div>\n"
            ]
          },
          "metadata": {},
          "execution_count": 177
        }
      ]
    },
    {
      "cell_type": "code",
      "source": [
        "rolling_window_gcag = df_new['GCAG'].rolling(window=3, min_periods = 1)\n",
        "df_new['GCAG_ma'] = rolling_window_gcag.mean()\n",
        "rolling_window_gistemp = df_new['GISTEMP'].rolling(window=3, min_periods = 1)\n",
        "df_new['GISTEMP_ma'] = rolling_window_gistemp.mean()"
      ],
      "metadata": {
        "id": "qVFsj91jbmZ_"
      },
      "execution_count": 178,
      "outputs": []
    },
    {
      "cell_type": "code",
      "source": [
        "df_new"
      ],
      "metadata": {
        "colab": {
          "base_uri": "https://localhost:8080/",
          "height": 423
        },
        "id": "ojEVMyjodEhG",
        "outputId": "f1251cdd-7f4f-41d9-99ec-d9379df80687"
      },
      "execution_count": 180,
      "outputs": [
        {
          "output_type": "execute_result",
          "data": {
            "text/plain": [
              "Source       Date    GCAG  GISTEMP   GCAG_ma  GISTEMP_ma\n",
              "0      1880-01-06  0.0009    -0.30  0.000900   -0.300000\n",
              "1      1880-02-06 -0.1229    -0.21 -0.061000   -0.255000\n",
              "2      1880-03-06 -0.1357    -0.18 -0.085900   -0.230000\n",
              "3      1880-04-06 -0.0499    -0.27 -0.102833   -0.220000\n",
              "4      1880-05-06 -0.0738    -0.14 -0.086467   -0.196667\n",
              "...           ...     ...      ...       ...         ...\n",
              "1639   2016-08-06  0.8998     0.98  0.889700    0.856667\n",
              "1640   2016-09-06  0.8767     0.87  0.881733    0.893333\n",
              "1641   2016-10-06  0.7292     0.89  0.835233    0.913333\n",
              "1642   2016-11-06  0.7504     0.93  0.785433    0.896667\n",
              "1643   2016-12-06  0.7895     0.81  0.756367    0.876667\n",
              "\n",
              "[1644 rows x 5 columns]"
            ],
            "text/html": [
              "\n",
              "  <div id=\"df-d533aad2-79c0-4817-9fb8-7fd1a43bab6f\" class=\"colab-df-container\">\n",
              "    <div>\n",
              "<style scoped>\n",
              "    .dataframe tbody tr th:only-of-type {\n",
              "        vertical-align: middle;\n",
              "    }\n",
              "\n",
              "    .dataframe tbody tr th {\n",
              "        vertical-align: top;\n",
              "    }\n",
              "\n",
              "    .dataframe thead th {\n",
              "        text-align: right;\n",
              "    }\n",
              "</style>\n",
              "<table border=\"1\" class=\"dataframe\">\n",
              "  <thead>\n",
              "    <tr style=\"text-align: right;\">\n",
              "      <th>Source</th>\n",
              "      <th>Date</th>\n",
              "      <th>GCAG</th>\n",
              "      <th>GISTEMP</th>\n",
              "      <th>GCAG_ma</th>\n",
              "      <th>GISTEMP_ma</th>\n",
              "    </tr>\n",
              "  </thead>\n",
              "  <tbody>\n",
              "    <tr>\n",
              "      <th>0</th>\n",
              "      <td>1880-01-06</td>\n",
              "      <td>0.0009</td>\n",
              "      <td>-0.30</td>\n",
              "      <td>0.000900</td>\n",
              "      <td>-0.300000</td>\n",
              "    </tr>\n",
              "    <tr>\n",
              "      <th>1</th>\n",
              "      <td>1880-02-06</td>\n",
              "      <td>-0.1229</td>\n",
              "      <td>-0.21</td>\n",
              "      <td>-0.061000</td>\n",
              "      <td>-0.255000</td>\n",
              "    </tr>\n",
              "    <tr>\n",
              "      <th>2</th>\n",
              "      <td>1880-03-06</td>\n",
              "      <td>-0.1357</td>\n",
              "      <td>-0.18</td>\n",
              "      <td>-0.085900</td>\n",
              "      <td>-0.230000</td>\n",
              "    </tr>\n",
              "    <tr>\n",
              "      <th>3</th>\n",
              "      <td>1880-04-06</td>\n",
              "      <td>-0.0499</td>\n",
              "      <td>-0.27</td>\n",
              "      <td>-0.102833</td>\n",
              "      <td>-0.220000</td>\n",
              "    </tr>\n",
              "    <tr>\n",
              "      <th>4</th>\n",
              "      <td>1880-05-06</td>\n",
              "      <td>-0.0738</td>\n",
              "      <td>-0.14</td>\n",
              "      <td>-0.086467</td>\n",
              "      <td>-0.196667</td>\n",
              "    </tr>\n",
              "    <tr>\n",
              "      <th>...</th>\n",
              "      <td>...</td>\n",
              "      <td>...</td>\n",
              "      <td>...</td>\n",
              "      <td>...</td>\n",
              "      <td>...</td>\n",
              "    </tr>\n",
              "    <tr>\n",
              "      <th>1639</th>\n",
              "      <td>2016-08-06</td>\n",
              "      <td>0.8998</td>\n",
              "      <td>0.98</td>\n",
              "      <td>0.889700</td>\n",
              "      <td>0.856667</td>\n",
              "    </tr>\n",
              "    <tr>\n",
              "      <th>1640</th>\n",
              "      <td>2016-09-06</td>\n",
              "      <td>0.8767</td>\n",
              "      <td>0.87</td>\n",
              "      <td>0.881733</td>\n",
              "      <td>0.893333</td>\n",
              "    </tr>\n",
              "    <tr>\n",
              "      <th>1641</th>\n",
              "      <td>2016-10-06</td>\n",
              "      <td>0.7292</td>\n",
              "      <td>0.89</td>\n",
              "      <td>0.835233</td>\n",
              "      <td>0.913333</td>\n",
              "    </tr>\n",
              "    <tr>\n",
              "      <th>1642</th>\n",
              "      <td>2016-11-06</td>\n",
              "      <td>0.7504</td>\n",
              "      <td>0.93</td>\n",
              "      <td>0.785433</td>\n",
              "      <td>0.896667</td>\n",
              "    </tr>\n",
              "    <tr>\n",
              "      <th>1643</th>\n",
              "      <td>2016-12-06</td>\n",
              "      <td>0.7895</td>\n",
              "      <td>0.81</td>\n",
              "      <td>0.756367</td>\n",
              "      <td>0.876667</td>\n",
              "    </tr>\n",
              "  </tbody>\n",
              "</table>\n",
              "<p>1644 rows × 5 columns</p>\n",
              "</div>\n",
              "    <div class=\"colab-df-buttons\">\n",
              "\n",
              "  <div class=\"colab-df-container\">\n",
              "    <button class=\"colab-df-convert\" onclick=\"convertToInteractive('df-d533aad2-79c0-4817-9fb8-7fd1a43bab6f')\"\n",
              "            title=\"Convert this dataframe to an interactive table.\"\n",
              "            style=\"display:none;\">\n",
              "\n",
              "  <svg xmlns=\"http://www.w3.org/2000/svg\" height=\"24px\" viewBox=\"0 -960 960 960\">\n",
              "    <path d=\"M120-120v-720h720v720H120Zm60-500h600v-160H180v160Zm220 220h160v-160H400v160Zm0 220h160v-160H400v160ZM180-400h160v-160H180v160Zm440 0h160v-160H620v160ZM180-180h160v-160H180v160Zm440 0h160v-160H620v160Z\"/>\n",
              "  </svg>\n",
              "    </button>\n",
              "\n",
              "  <style>\n",
              "    .colab-df-container {\n",
              "      display:flex;\n",
              "      gap: 12px;\n",
              "    }\n",
              "\n",
              "    .colab-df-convert {\n",
              "      background-color: #E8F0FE;\n",
              "      border: none;\n",
              "      border-radius: 50%;\n",
              "      cursor: pointer;\n",
              "      display: none;\n",
              "      fill: #1967D2;\n",
              "      height: 32px;\n",
              "      padding: 0 0 0 0;\n",
              "      width: 32px;\n",
              "    }\n",
              "\n",
              "    .colab-df-convert:hover {\n",
              "      background-color: #E2EBFA;\n",
              "      box-shadow: 0px 1px 2px rgba(60, 64, 67, 0.3), 0px 1px 3px 1px rgba(60, 64, 67, 0.15);\n",
              "      fill: #174EA6;\n",
              "    }\n",
              "\n",
              "    .colab-df-buttons div {\n",
              "      margin-bottom: 4px;\n",
              "    }\n",
              "\n",
              "    [theme=dark] .colab-df-convert {\n",
              "      background-color: #3B4455;\n",
              "      fill: #D2E3FC;\n",
              "    }\n",
              "\n",
              "    [theme=dark] .colab-df-convert:hover {\n",
              "      background-color: #434B5C;\n",
              "      box-shadow: 0px 1px 3px 1px rgba(0, 0, 0, 0.15);\n",
              "      filter: drop-shadow(0px 1px 2px rgba(0, 0, 0, 0.3));\n",
              "      fill: #FFFFFF;\n",
              "    }\n",
              "  </style>\n",
              "\n",
              "    <script>\n",
              "      const buttonEl =\n",
              "        document.querySelector('#df-d533aad2-79c0-4817-9fb8-7fd1a43bab6f button.colab-df-convert');\n",
              "      buttonEl.style.display =\n",
              "        google.colab.kernel.accessAllowed ? 'block' : 'none';\n",
              "\n",
              "      async function convertToInteractive(key) {\n",
              "        const element = document.querySelector('#df-d533aad2-79c0-4817-9fb8-7fd1a43bab6f');\n",
              "        const dataTable =\n",
              "          await google.colab.kernel.invokeFunction('convertToInteractive',\n",
              "                                                    [key], {});\n",
              "        if (!dataTable) return;\n",
              "\n",
              "        const docLinkHtml = 'Like what you see? Visit the ' +\n",
              "          '<a target=\"_blank\" href=https://colab.research.google.com/notebooks/data_table.ipynb>data table notebook</a>'\n",
              "          + ' to learn more about interactive tables.';\n",
              "        element.innerHTML = '';\n",
              "        dataTable['output_type'] = 'display_data';\n",
              "        await google.colab.output.renderOutput(dataTable, element);\n",
              "        const docLink = document.createElement('div');\n",
              "        docLink.innerHTML = docLinkHtml;\n",
              "        element.appendChild(docLink);\n",
              "      }\n",
              "    </script>\n",
              "  </div>\n",
              "\n",
              "\n",
              "<div id=\"df-4d34069c-df5f-4813-9cc1-708a94990c41\">\n",
              "  <button class=\"colab-df-quickchart\" onclick=\"quickchart('df-4d34069c-df5f-4813-9cc1-708a94990c41')\"\n",
              "            title=\"Suggest charts.\"\n",
              "            style=\"display:none;\">\n",
              "\n",
              "<svg xmlns=\"http://www.w3.org/2000/svg\" height=\"24px\"viewBox=\"0 0 24 24\"\n",
              "     width=\"24px\">\n",
              "    <g>\n",
              "        <path d=\"M19 3H5c-1.1 0-2 .9-2 2v14c0 1.1.9 2 2 2h14c1.1 0 2-.9 2-2V5c0-1.1-.9-2-2-2zM9 17H7v-7h2v7zm4 0h-2V7h2v10zm4 0h-2v-4h2v4z\"/>\n",
              "    </g>\n",
              "</svg>\n",
              "  </button>\n",
              "\n",
              "<style>\n",
              "  .colab-df-quickchart {\n",
              "      --bg-color: #E8F0FE;\n",
              "      --fill-color: #1967D2;\n",
              "      --hover-bg-color: #E2EBFA;\n",
              "      --hover-fill-color: #174EA6;\n",
              "      --disabled-fill-color: #AAA;\n",
              "      --disabled-bg-color: #DDD;\n",
              "  }\n",
              "\n",
              "  [theme=dark] .colab-df-quickchart {\n",
              "      --bg-color: #3B4455;\n",
              "      --fill-color: #D2E3FC;\n",
              "      --hover-bg-color: #434B5C;\n",
              "      --hover-fill-color: #FFFFFF;\n",
              "      --disabled-bg-color: #3B4455;\n",
              "      --disabled-fill-color: #666;\n",
              "  }\n",
              "\n",
              "  .colab-df-quickchart {\n",
              "    background-color: var(--bg-color);\n",
              "    border: none;\n",
              "    border-radius: 50%;\n",
              "    cursor: pointer;\n",
              "    display: none;\n",
              "    fill: var(--fill-color);\n",
              "    height: 32px;\n",
              "    padding: 0;\n",
              "    width: 32px;\n",
              "  }\n",
              "\n",
              "  .colab-df-quickchart:hover {\n",
              "    background-color: var(--hover-bg-color);\n",
              "    box-shadow: 0 1px 2px rgba(60, 64, 67, 0.3), 0 1px 3px 1px rgba(60, 64, 67, 0.15);\n",
              "    fill: var(--button-hover-fill-color);\n",
              "  }\n",
              "\n",
              "  .colab-df-quickchart-complete:disabled,\n",
              "  .colab-df-quickchart-complete:disabled:hover {\n",
              "    background-color: var(--disabled-bg-color);\n",
              "    fill: var(--disabled-fill-color);\n",
              "    box-shadow: none;\n",
              "  }\n",
              "\n",
              "  .colab-df-spinner {\n",
              "    border: 2px solid var(--fill-color);\n",
              "    border-color: transparent;\n",
              "    border-bottom-color: var(--fill-color);\n",
              "    animation:\n",
              "      spin 1s steps(1) infinite;\n",
              "  }\n",
              "\n",
              "  @keyframes spin {\n",
              "    0% {\n",
              "      border-color: transparent;\n",
              "      border-bottom-color: var(--fill-color);\n",
              "      border-left-color: var(--fill-color);\n",
              "    }\n",
              "    20% {\n",
              "      border-color: transparent;\n",
              "      border-left-color: var(--fill-color);\n",
              "      border-top-color: var(--fill-color);\n",
              "    }\n",
              "    30% {\n",
              "      border-color: transparent;\n",
              "      border-left-color: var(--fill-color);\n",
              "      border-top-color: var(--fill-color);\n",
              "      border-right-color: var(--fill-color);\n",
              "    }\n",
              "    40% {\n",
              "      border-color: transparent;\n",
              "      border-right-color: var(--fill-color);\n",
              "      border-top-color: var(--fill-color);\n",
              "    }\n",
              "    60% {\n",
              "      border-color: transparent;\n",
              "      border-right-color: var(--fill-color);\n",
              "    }\n",
              "    80% {\n",
              "      border-color: transparent;\n",
              "      border-right-color: var(--fill-color);\n",
              "      border-bottom-color: var(--fill-color);\n",
              "    }\n",
              "    90% {\n",
              "      border-color: transparent;\n",
              "      border-bottom-color: var(--fill-color);\n",
              "    }\n",
              "  }\n",
              "</style>\n",
              "\n",
              "  <script>\n",
              "    async function quickchart(key) {\n",
              "      const quickchartButtonEl =\n",
              "        document.querySelector('#' + key + ' button');\n",
              "      quickchartButtonEl.disabled = true;  // To prevent multiple clicks.\n",
              "      quickchartButtonEl.classList.add('colab-df-spinner');\n",
              "      try {\n",
              "        const charts = await google.colab.kernel.invokeFunction(\n",
              "            'suggestCharts', [key], {});\n",
              "      } catch (error) {\n",
              "        console.error('Error during call to suggestCharts:', error);\n",
              "      }\n",
              "      quickchartButtonEl.classList.remove('colab-df-spinner');\n",
              "      quickchartButtonEl.classList.add('colab-df-quickchart-complete');\n",
              "    }\n",
              "    (() => {\n",
              "      let quickchartButtonEl =\n",
              "        document.querySelector('#df-4d34069c-df5f-4813-9cc1-708a94990c41 button');\n",
              "      quickchartButtonEl.style.display =\n",
              "        google.colab.kernel.accessAllowed ? 'block' : 'none';\n",
              "    })();\n",
              "  </script>\n",
              "</div>\n",
              "    </div>\n",
              "  </div>\n"
            ]
          },
          "metadata": {},
          "execution_count": 180
        }
      ]
    },
    {
      "cell_type": "code",
      "source": [
        "import plotly.express as pex\n",
        "pex.line(df2, 'Date', 'Mean', color = 'Source')"
      ],
      "metadata": {
        "colab": {
          "base_uri": "https://localhost:8080/",
          "height": 542
        },
        "id": "Yp6KiaMsdI8H",
        "outputId": "2df7f2eb-771b-4100-878a-62fe9946c4a2"
      },
      "execution_count": 187,
      "outputs": [
        {
          "output_type": "display_data",
          "data": {
            "text/html": [
              "<html>\n",
              "<head><meta charset=\"utf-8\" /></head>\n",
              "<body>\n",
              "    <div>            <script src=\"https://cdnjs.cloudflare.com/ajax/libs/mathjax/2.7.5/MathJax.js?config=TeX-AMS-MML_SVG\"></script><script type=\"text/javascript\">if (window.MathJax && window.MathJax.Hub && window.MathJax.Hub.Config) {window.MathJax.Hub.Config({SVG: {font: \"STIX-Web\"}});}</script>                <script type=\"text/javascript\">window.PlotlyConfig = {MathJaxConfig: 'local'};</script>\n",
              "        <script charset=\"utf-8\" src=\"https://cdn.plot.ly/plotly-2.24.1.min.js\"></script>                <div id=\"7d8b7c34-543c-4ae3-b52e-4442fd98aea2\" class=\"plotly-graph-div\" style=\"height:525px; width:100%;\"></div>            <script type=\"text/javascript\">                                    window.PLOTLYENV=window.PLOTLYENV || {};                                    if (document.getElementById(\"7d8b7c34-543c-4ae3-b52e-4442fd98aea2\")) {                    Plotly.newPlot(                        \"7d8b7c34-543c-4ae3-b52e-4442fd98aea2\",                        [{\"hovertemplate\":\"Source=GCAG\\u003cbr\\u003eDate=%{x}\\u003cbr\\u003eMean=%{y}\\u003cextra\\u003e\\u003c\\u002fextra\\u003e\",\"legendgroup\":\"GCAG\",\"line\":{\"color\":\"#636efa\",\"dash\":\"solid\"},\"marker\":{\"symbol\":\"circle\"},\"mode\":\"lines\",\"name\":\"GCAG\",\"showlegend\":true,\"x\":[\"2016-12-06T00:00:00\",\"2016-11-06T00:00:00\",\"2016-10-06T00:00:00\",\"2016-09-06T00:00:00\",\"2016-08-06T00:00:00\",\"2016-07-06T00:00:00\",\"2016-06-06T00:00:00\",\"2016-05-06T00:00:00\",\"2016-04-06T00:00:00\",\"2016-03-06T00:00:00\",\"2016-02-06T00:00:00\",\"2016-01-06T00:00:00\",\"2015-12-06T00:00:00\",\"2015-11-06T00:00:00\",\"2015-10-06T00:00:00\",\"2015-09-06T00:00:00\",\"2015-08-06T00:00:00\",\"2015-07-06T00:00:00\",\"2015-06-06T00:00:00\",\"2015-05-06T00:00:00\",\"2015-04-06T00:00:00\",\"2015-03-06T00:00:00\",\"2015-02-06T00:00:00\",\"2015-01-06T00:00:00\",\"2014-12-06T00:00:00\",\"2014-11-06T00:00:00\",\"2014-10-06T00:00:00\",\"2014-09-06T00:00:00\",\"2014-08-06T00:00:00\",\"2014-07-06T00:00:00\",\"2014-06-06T00:00:00\",\"2014-05-06T00:00:00\",\"2014-04-06T00:00:00\",\"2014-03-06T00:00:00\",\"2014-02-06T00:00:00\",\"2014-01-06T00:00:00\",\"2013-12-06T00:00:00\",\"2013-11-06T00:00:00\",\"2013-10-06T00:00:00\",\"2013-09-06T00:00:00\",\"2013-08-06T00:00:00\",\"2013-07-06T00:00:00\",\"2013-06-06T00:00:00\",\"2013-05-06T00:00:00\",\"2013-04-06T00:00:00\",\"2013-03-06T00:00:00\",\"2013-02-06T00:00:00\",\"2013-01-06T00:00:00\",\"2012-12-06T00:00:00\",\"2012-11-06T00:00:00\",\"2012-10-06T00:00:00\",\"2012-09-06T00:00:00\",\"2012-08-06T00:00:00\",\"2012-07-06T00:00:00\",\"2012-06-06T00:00:00\",\"2012-05-06T00:00:00\",\"2012-04-06T00:00:00\",\"2012-03-06T00:00:00\",\"2012-02-06T00:00:00\",\"2012-01-06T00:00:00\",\"2011-12-06T00:00:00\",\"2011-11-06T00:00:00\",\"2011-10-06T00:00:00\",\"2011-09-06T00:00:00\",\"2011-08-06T00:00:00\",\"2011-07-06T00:00:00\",\"2011-06-06T00:00:00\",\"2011-05-06T00:00:00\",\"2011-04-06T00:00:00\",\"2011-03-06T00:00:00\",\"2011-02-06T00:00:00\",\"2011-01-06T00:00:00\",\"2010-12-06T00:00:00\",\"2010-11-06T00:00:00\",\"2010-10-06T00:00:00\",\"2010-09-06T00:00:00\",\"2010-08-06T00:00:00\",\"2010-07-06T00:00:00\",\"2010-06-06T00:00:00\",\"2010-05-06T00:00:00\",\"2010-04-06T00:00:00\",\"2010-03-06T00:00:00\",\"2010-02-06T00:00:00\",\"2010-01-06T00:00:00\",\"2009-12-06T00:00:00\",\"2009-11-06T00:00:00\",\"2009-10-06T00:00:00\",\"2009-09-06T00:00:00\",\"2009-08-06T00:00:00\",\"2009-07-06T00:00:00\",\"2009-06-06T00:00:00\",\"2009-05-06T00:00:00\",\"2009-04-06T00:00:00\",\"2009-03-06T00:00:00\",\"2009-02-06T00:00:00\",\"2009-01-06T00:00:00\",\"2008-12-06T00:00:00\",\"2008-11-06T00:00:00\",\"2008-10-06T00:00:00\",\"2008-09-06T00:00:00\",\"2008-08-06T00:00:00\",\"2008-07-06T00:00:00\",\"2008-06-06T00:00:00\",\"2008-05-06T00:00:00\",\"2008-04-06T00:00:00\",\"2008-03-06T00:00:00\",\"2008-02-06T00:00:00\",\"2008-01-06T00:00:00\",\"2007-12-06T00:00:00\",\"2007-11-06T00:00:00\",\"2007-10-06T00:00:00\",\"2007-09-06T00:00:00\",\"2007-08-06T00:00:00\",\"2007-07-06T00:00:00\",\"2007-06-06T00:00:00\",\"2007-05-06T00:00:00\",\"2007-04-06T00:00:00\",\"2007-03-06T00:00:00\",\"2007-02-06T00:00:00\",\"2007-01-06T00:00:00\",\"2006-12-06T00:00:00\",\"2006-11-06T00:00:00\",\"2006-10-06T00:00:00\",\"2006-09-06T00:00:00\",\"2006-08-06T00:00:00\",\"2006-07-06T00:00:00\",\"2006-06-06T00:00:00\",\"2006-05-06T00:00:00\",\"2006-04-06T00:00:00\",\"2006-03-06T00:00:00\",\"2006-02-06T00:00:00\",\"2006-01-06T00:00:00\",\"2005-12-06T00:00:00\",\"2005-11-06T00:00:00\",\"2005-10-06T00:00:00\",\"2005-09-06T00:00:00\",\"2005-08-06T00:00:00\",\"2005-07-06T00:00:00\",\"2005-06-06T00:00:00\",\"2005-05-06T00:00:00\",\"2005-04-06T00:00:00\",\"2005-03-06T00:00:00\",\"2005-02-06T00:00:00\",\"2005-01-06T00:00:00\",\"2004-12-06T00:00:00\",\"2004-11-06T00:00:00\",\"2004-10-06T00:00:00\",\"2004-09-06T00:00:00\",\"2004-08-06T00:00:00\",\"2004-07-06T00:00:00\",\"2004-06-06T00:00:00\",\"2004-05-06T00:00:00\",\"2004-04-06T00:00:00\",\"2004-03-06T00:00:00\",\"2004-02-06T00:00:00\",\"2004-01-06T00:00:00\",\"2003-12-06T00:00:00\",\"2003-11-06T00:00:00\",\"2003-10-06T00:00:00\",\"2003-09-06T00:00:00\",\"2003-08-06T00:00:00\",\"2003-07-06T00:00:00\",\"2003-06-06T00:00:00\",\"2003-05-06T00:00:00\",\"2003-04-06T00:00:00\",\"2003-03-06T00:00:00\",\"2003-02-06T00:00:00\",\"2003-01-06T00:00:00\",\"2002-12-06T00:00:00\",\"2002-11-06T00:00:00\",\"2002-10-06T00:00:00\",\"2002-09-06T00:00:00\",\"2002-08-06T00:00:00\",\"2002-07-06T00:00:00\",\"2002-06-06T00:00:00\",\"2002-05-06T00:00:00\",\"2002-04-06T00:00:00\",\"2002-03-06T00:00:00\",\"2002-02-06T00:00:00\",\"2002-01-06T00:00:00\",\"2001-12-06T00:00:00\",\"2001-11-06T00:00:00\",\"2001-10-06T00:00:00\",\"2001-09-06T00:00:00\",\"2001-08-06T00:00:00\",\"2001-07-06T00:00:00\",\"2001-06-06T00:00:00\",\"2001-05-06T00:00:00\",\"2001-04-06T00:00:00\",\"2001-03-06T00:00:00\",\"2001-02-06T00:00:00\",\"2001-01-06T00:00:00\",\"2000-12-06T00:00:00\",\"2000-11-06T00:00:00\",\"2000-10-06T00:00:00\",\"2000-09-06T00:00:00\",\"2000-08-06T00:00:00\",\"2000-07-06T00:00:00\",\"2000-06-06T00:00:00\",\"2000-05-06T00:00:00\",\"2000-04-06T00:00:00\",\"2000-03-06T00:00:00\",\"2000-02-06T00:00:00\",\"2000-01-06T00:00:00\",\"1999-12-06T00:00:00\",\"1999-11-06T00:00:00\",\"1999-10-06T00:00:00\",\"1999-09-06T00:00:00\",\"1999-08-06T00:00:00\",\"1999-07-06T00:00:00\",\"1999-06-06T00:00:00\",\"1999-05-06T00:00:00\",\"1999-04-06T00:00:00\",\"1999-03-06T00:00:00\",\"1999-02-06T00:00:00\",\"1999-01-06T00:00:00\",\"1998-12-06T00:00:00\",\"1998-11-06T00:00:00\",\"1998-10-06T00:00:00\",\"1998-09-06T00:00:00\",\"1998-08-06T00:00:00\",\"1998-07-06T00:00:00\",\"1998-06-06T00:00:00\",\"1998-05-06T00:00:00\",\"1998-04-06T00:00:00\",\"1998-03-06T00:00:00\",\"1998-02-06T00:00:00\",\"1998-01-06T00:00:00\",\"1997-12-06T00:00:00\",\"1997-11-06T00:00:00\",\"1997-10-06T00:00:00\",\"1997-09-06T00:00:00\",\"1997-08-06T00:00:00\",\"1997-07-06T00:00:00\",\"1997-06-06T00:00:00\",\"1997-05-06T00:00:00\",\"1997-04-06T00:00:00\",\"1997-03-06T00:00:00\",\"1997-02-06T00:00:00\",\"1997-01-06T00:00:00\",\"1996-12-06T00:00:00\",\"1996-11-06T00:00:00\",\"1996-10-06T00:00:00\",\"1996-09-06T00:00:00\",\"1996-08-06T00:00:00\",\"1996-07-06T00:00:00\",\"1996-06-06T00:00:00\",\"1996-05-06T00:00:00\",\"1996-04-06T00:00:00\",\"1996-03-06T00:00:00\",\"1996-02-06T00:00:00\",\"1996-01-06T00:00:00\",\"1995-12-06T00:00:00\",\"1995-11-06T00:00:00\",\"1995-10-06T00:00:00\",\"1995-09-06T00:00:00\",\"1995-08-06T00:00:00\",\"1995-07-06T00:00:00\",\"1995-06-06T00:00:00\",\"1995-05-06T00:00:00\",\"1995-04-06T00:00:00\",\"1995-03-06T00:00:00\",\"1995-02-06T00:00:00\",\"1995-01-06T00:00:00\",\"1994-12-06T00:00:00\",\"1994-11-06T00:00:00\",\"1994-10-06T00:00:00\",\"1994-09-06T00:00:00\",\"1994-08-06T00:00:00\",\"1994-07-06T00:00:00\",\"1994-06-06T00:00:00\",\"1994-05-06T00:00:00\",\"1994-04-06T00:00:00\",\"1994-03-06T00:00:00\",\"1994-02-06T00:00:00\",\"1994-01-06T00:00:00\",\"1993-12-06T00:00:00\",\"1993-11-06T00:00:00\",\"1993-10-06T00:00:00\",\"1993-09-06T00:00:00\",\"1993-08-06T00:00:00\",\"1993-07-06T00:00:00\",\"1993-06-06T00:00:00\",\"1993-05-06T00:00:00\",\"1993-04-06T00:00:00\",\"1993-03-06T00:00:00\",\"1993-02-06T00:00:00\",\"1993-01-06T00:00:00\",\"1992-12-06T00:00:00\",\"1992-11-06T00:00:00\",\"1992-10-06T00:00:00\",\"1992-09-06T00:00:00\",\"1992-08-06T00:00:00\",\"1992-07-06T00:00:00\",\"1992-06-06T00:00:00\",\"1992-05-06T00:00:00\",\"1992-04-06T00:00:00\",\"1992-03-06T00:00:00\",\"1992-02-06T00:00:00\",\"1992-01-06T00:00:00\",\"1991-12-06T00:00:00\",\"1991-11-06T00:00:00\",\"1991-10-06T00:00:00\",\"1991-09-06T00:00:00\",\"1991-08-06T00:00:00\",\"1991-07-06T00:00:00\",\"1991-06-06T00:00:00\",\"1991-05-06T00:00:00\",\"1991-04-06T00:00:00\",\"1991-03-06T00:00:00\",\"1991-02-06T00:00:00\",\"1991-01-06T00:00:00\",\"1990-12-06T00:00:00\",\"1990-11-06T00:00:00\",\"1990-10-06T00:00:00\",\"1990-09-06T00:00:00\",\"1990-08-06T00:00:00\",\"1990-07-06T00:00:00\",\"1990-06-06T00:00:00\",\"1990-05-06T00:00:00\",\"1990-04-06T00:00:00\",\"1990-03-06T00:00:00\",\"1990-02-06T00:00:00\",\"1990-01-06T00:00:00\",\"1989-12-06T00:00:00\",\"1989-11-06T00:00:00\",\"1989-10-06T00:00:00\",\"1989-09-06T00:00:00\",\"1989-08-06T00:00:00\",\"1989-07-06T00:00:00\",\"1989-06-06T00:00:00\",\"1989-05-06T00:00:00\",\"1989-04-06T00:00:00\",\"1989-03-06T00:00:00\",\"1989-02-06T00:00:00\",\"1989-01-06T00:00:00\",\"1988-12-06T00:00:00\",\"1988-11-06T00:00:00\",\"1988-10-06T00:00:00\",\"1988-09-06T00:00:00\",\"1988-08-06T00:00:00\",\"1988-07-06T00:00:00\",\"1988-06-06T00:00:00\",\"1988-05-06T00:00:00\",\"1988-04-06T00:00:00\",\"1988-03-06T00:00:00\",\"1988-02-06T00:00:00\",\"1988-01-06T00:00:00\",\"1987-12-06T00:00:00\",\"1987-11-06T00:00:00\",\"1987-10-06T00:00:00\",\"1987-09-06T00:00:00\",\"1987-08-06T00:00:00\",\"1987-07-06T00:00:00\",\"1987-06-06T00:00:00\",\"1987-05-06T00:00:00\",\"1987-04-06T00:00:00\",\"1987-03-06T00:00:00\",\"1987-02-06T00:00:00\",\"1987-01-06T00:00:00\",\"1986-12-06T00:00:00\",\"1986-11-06T00:00:00\",\"1986-10-06T00:00:00\",\"1986-09-06T00:00:00\",\"1986-08-06T00:00:00\",\"1986-07-06T00:00:00\",\"1986-06-06T00:00:00\",\"1986-05-06T00:00:00\",\"1986-04-06T00:00:00\",\"1986-03-06T00:00:00\",\"1986-02-06T00:00:00\",\"1986-01-06T00:00:00\",\"1985-12-06T00:00:00\",\"1985-11-06T00:00:00\",\"1985-10-06T00:00:00\",\"1985-09-06T00:00:00\",\"1985-08-06T00:00:00\",\"1985-07-06T00:00:00\",\"1985-06-06T00:00:00\",\"1985-05-06T00:00:00\",\"1985-04-06T00:00:00\",\"1985-03-06T00:00:00\",\"1985-02-06T00:00:00\",\"1985-01-06T00:00:00\",\"1984-12-06T00:00:00\",\"1984-11-06T00:00:00\",\"1984-10-06T00:00:00\",\"1984-09-06T00:00:00\",\"1984-08-06T00:00:00\",\"1984-07-06T00:00:00\",\"1984-06-06T00:00:00\",\"1984-05-06T00:00:00\",\"1984-04-06T00:00:00\",\"1984-03-06T00:00:00\",\"1984-02-06T00:00:00\",\"1984-01-06T00:00:00\",\"1983-12-06T00:00:00\",\"1983-11-06T00:00:00\",\"1983-10-06T00:00:00\",\"1983-09-06T00:00:00\",\"1983-08-06T00:00:00\",\"1983-07-06T00:00:00\",\"1983-06-06T00:00:00\",\"1983-05-06T00:00:00\",\"1983-04-06T00:00:00\",\"1983-03-06T00:00:00\",\"1983-02-06T00:00:00\",\"1983-01-06T00:00:00\",\"1982-12-06T00:00:00\",\"1982-11-06T00:00:00\",\"1982-10-06T00:00:00\",\"1982-09-06T00:00:00\",\"1982-08-06T00:00:00\",\"1982-07-06T00:00:00\",\"1982-06-06T00:00:00\",\"1982-05-06T00:00:00\",\"1982-04-06T00:00:00\",\"1982-03-06T00:00:00\",\"1982-02-06T00:00:00\",\"1982-01-06T00:00:00\",\"1981-12-06T00:00:00\",\"1981-11-06T00:00:00\",\"1981-10-06T00:00:00\",\"1981-09-06T00:00:00\",\"1981-08-06T00:00:00\",\"1981-07-06T00:00:00\",\"1981-06-06T00:00:00\",\"1981-05-06T00:00:00\",\"1981-04-06T00:00:00\",\"1981-03-06T00:00:00\",\"1981-02-06T00:00:00\",\"1981-01-06T00:00:00\",\"1980-12-06T00:00:00\",\"1980-11-06T00:00:00\",\"1980-10-06T00:00:00\",\"1980-09-06T00:00:00\",\"1980-08-06T00:00:00\",\"1980-07-06T00:00:00\",\"1980-06-06T00:00:00\",\"1980-05-06T00:00:00\",\"1980-04-06T00:00:00\",\"1980-03-06T00:00:00\",\"1980-02-06T00:00:00\",\"1980-01-06T00:00:00\",\"1979-12-06T00:00:00\",\"1979-11-06T00:00:00\",\"1979-10-06T00:00:00\",\"1979-09-06T00:00:00\",\"1979-08-06T00:00:00\",\"1979-07-06T00:00:00\",\"1979-06-06T00:00:00\",\"1979-05-06T00:00:00\",\"1979-04-06T00:00:00\",\"1979-03-06T00:00:00\",\"1979-02-06T00:00:00\",\"1979-01-06T00:00:00\",\"1978-12-06T00:00:00\",\"1978-11-06T00:00:00\",\"1978-10-06T00:00:00\",\"1978-09-06T00:00:00\",\"1978-08-06T00:00:00\",\"1978-07-06T00:00:00\",\"1978-06-06T00:00:00\",\"1978-05-06T00:00:00\",\"1978-04-06T00:00:00\",\"1978-03-06T00:00:00\",\"1978-02-06T00:00:00\",\"1978-01-06T00:00:00\",\"1977-12-06T00:00:00\",\"1977-11-06T00:00:00\",\"1977-10-06T00:00:00\",\"1977-09-06T00:00:00\",\"1977-08-06T00:00:00\",\"1977-07-06T00:00:00\",\"1977-06-06T00:00:00\",\"1977-05-06T00:00:00\",\"1977-04-06T00:00:00\",\"1977-03-06T00:00:00\",\"1977-02-06T00:00:00\",\"1977-01-06T00:00:00\",\"1976-12-06T00:00:00\",\"1976-11-06T00:00:00\",\"1976-10-06T00:00:00\",\"1976-09-06T00:00:00\",\"1976-08-06T00:00:00\",\"1976-07-06T00:00:00\",\"1976-06-06T00:00:00\",\"1976-05-06T00:00:00\",\"1976-04-06T00:00:00\",\"1976-03-06T00:00:00\",\"1976-02-06T00:00:00\",\"1976-01-06T00:00:00\",\"1975-12-06T00:00:00\",\"1975-11-06T00:00:00\",\"1975-10-06T00:00:00\",\"1975-09-06T00:00:00\",\"1975-08-06T00:00:00\",\"1975-07-06T00:00:00\",\"1975-06-06T00:00:00\",\"1975-05-06T00:00:00\",\"1975-04-06T00:00:00\",\"1975-03-06T00:00:00\",\"1975-02-06T00:00:00\",\"1975-01-06T00:00:00\",\"1974-12-06T00:00:00\",\"1974-11-06T00:00:00\",\"1974-10-06T00:00:00\",\"1974-09-06T00:00:00\",\"1974-08-06T00:00:00\",\"1974-07-06T00:00:00\",\"1974-06-06T00:00:00\",\"1974-05-06T00:00:00\",\"1974-04-06T00:00:00\",\"1974-03-06T00:00:00\",\"1974-02-06T00:00:00\",\"1974-01-06T00:00:00\",\"1973-12-06T00:00:00\",\"1973-11-06T00:00:00\",\"1973-10-06T00:00:00\",\"1973-09-06T00:00:00\",\"1973-08-06T00:00:00\",\"1973-07-06T00:00:00\",\"1973-06-06T00:00:00\",\"1973-05-06T00:00:00\",\"1973-04-06T00:00:00\",\"1973-03-06T00:00:00\",\"1973-02-06T00:00:00\",\"1973-01-06T00:00:00\",\"1972-12-06T00:00:00\",\"1972-11-06T00:00:00\",\"1972-10-06T00:00:00\",\"1972-09-06T00:00:00\",\"1972-08-06T00:00:00\",\"1972-07-06T00:00:00\",\"1972-06-06T00:00:00\",\"1972-05-06T00:00:00\",\"1972-04-06T00:00:00\",\"1972-03-06T00:00:00\",\"1972-02-06T00:00:00\",\"1972-01-06T00:00:00\",\"1971-12-06T00:00:00\",\"1971-11-06T00:00:00\",\"1971-10-06T00:00:00\",\"1971-09-06T00:00:00\",\"1971-08-06T00:00:00\",\"1971-07-06T00:00:00\",\"1971-06-06T00:00:00\",\"1971-05-06T00:00:00\",\"1971-04-06T00:00:00\",\"1971-03-06T00:00:00\",\"1971-02-06T00:00:00\",\"1971-01-06T00:00:00\",\"1970-12-06T00:00:00\",\"1970-11-06T00:00:00\",\"1970-10-06T00:00:00\",\"1970-09-06T00:00:00\",\"1970-08-06T00:00:00\",\"1970-07-06T00:00:00\",\"1970-06-06T00:00:00\",\"1970-05-06T00:00:00\",\"1970-04-06T00:00:00\",\"1970-03-06T00:00:00\",\"1970-02-06T00:00:00\",\"1970-01-06T00:00:00\",\"1969-12-06T00:00:00\",\"1969-11-06T00:00:00\",\"1969-10-06T00:00:00\",\"1969-09-06T00:00:00\",\"1969-08-06T00:00:00\",\"1969-07-06T00:00:00\",\"1969-06-06T00:00:00\",\"1969-05-06T00:00:00\",\"1969-04-06T00:00:00\",\"1969-03-06T00:00:00\",\"1969-02-06T00:00:00\",\"1969-01-06T00:00:00\",\"1968-12-06T00:00:00\",\"1968-11-06T00:00:00\",\"1968-10-06T00:00:00\",\"1968-09-06T00:00:00\",\"1968-08-06T00:00:00\",\"1968-07-06T00:00:00\",\"1968-06-06T00:00:00\",\"1968-05-06T00:00:00\",\"1968-04-06T00:00:00\",\"1968-03-06T00:00:00\",\"1968-02-06T00:00:00\",\"1968-01-06T00:00:00\",\"1967-12-06T00:00:00\",\"1967-11-06T00:00:00\",\"1967-10-06T00:00:00\",\"1967-09-06T00:00:00\",\"1967-08-06T00:00:00\",\"1967-07-06T00:00:00\",\"1967-06-06T00:00:00\",\"1967-05-06T00:00:00\",\"1967-04-06T00:00:00\",\"1967-03-06T00:00:00\",\"1967-02-06T00:00:00\",\"1967-01-06T00:00:00\",\"1966-12-06T00:00:00\",\"1966-11-06T00:00:00\",\"1966-10-06T00:00:00\",\"1966-09-06T00:00:00\",\"1966-08-06T00:00:00\",\"1966-07-06T00:00:00\",\"1966-06-06T00:00:00\",\"1966-05-06T00:00:00\",\"1966-04-06T00:00:00\",\"1966-03-06T00:00:00\",\"1966-02-06T00:00:00\",\"1966-01-06T00:00:00\",\"1965-12-06T00:00:00\",\"1965-11-06T00:00:00\",\"1965-10-06T00:00:00\",\"1965-09-06T00:00:00\",\"1965-08-06T00:00:00\",\"1965-07-06T00:00:00\",\"1965-06-06T00:00:00\",\"1965-05-06T00:00:00\",\"1965-04-06T00:00:00\",\"1965-03-06T00:00:00\",\"1965-02-06T00:00:00\",\"1965-01-06T00:00:00\",\"1964-12-06T00:00:00\",\"1964-11-06T00:00:00\",\"1964-10-06T00:00:00\",\"1964-09-06T00:00:00\",\"1964-08-06T00:00:00\",\"1964-07-06T00:00:00\",\"1964-06-06T00:00:00\",\"1964-05-06T00:00:00\",\"1964-04-06T00:00:00\",\"1964-03-06T00:00:00\",\"1964-02-06T00:00:00\",\"1964-01-06T00:00:00\",\"1963-12-06T00:00:00\",\"1963-11-06T00:00:00\",\"1963-10-06T00:00:00\",\"1963-09-06T00:00:00\",\"1963-08-06T00:00:00\",\"1963-07-06T00:00:00\",\"1963-06-06T00:00:00\",\"1963-05-06T00:00:00\",\"1963-04-06T00:00:00\",\"1963-03-06T00:00:00\",\"1963-02-06T00:00:00\",\"1963-01-06T00:00:00\",\"1962-12-06T00:00:00\",\"1962-11-06T00:00:00\",\"1962-10-06T00:00:00\",\"1962-09-06T00:00:00\",\"1962-08-06T00:00:00\",\"1962-07-06T00:00:00\",\"1962-06-06T00:00:00\",\"1962-05-06T00:00:00\",\"1962-04-06T00:00:00\",\"1962-03-06T00:00:00\",\"1962-02-06T00:00:00\",\"1962-01-06T00:00:00\",\"1961-12-06T00:00:00\",\"1961-11-06T00:00:00\",\"1961-10-06T00:00:00\",\"1961-09-06T00:00:00\",\"1961-08-06T00:00:00\",\"1961-07-06T00:00:00\",\"1961-06-06T00:00:00\",\"1961-05-06T00:00:00\",\"1961-04-06T00:00:00\",\"1961-03-06T00:00:00\",\"1961-02-06T00:00:00\",\"1961-01-06T00:00:00\",\"1960-12-06T00:00:00\",\"1960-11-06T00:00:00\",\"1960-10-06T00:00:00\",\"1960-09-06T00:00:00\",\"1960-08-06T00:00:00\",\"1960-07-06T00:00:00\",\"1960-06-06T00:00:00\",\"1960-05-06T00:00:00\",\"1960-04-06T00:00:00\",\"1960-03-06T00:00:00\",\"1960-02-06T00:00:00\",\"1960-01-06T00:00:00\",\"1959-12-06T00:00:00\",\"1959-11-06T00:00:00\",\"1959-10-06T00:00:00\",\"1959-09-06T00:00:00\",\"1959-08-06T00:00:00\",\"1959-07-06T00:00:00\",\"1959-06-06T00:00:00\",\"1959-05-06T00:00:00\",\"1959-04-06T00:00:00\",\"1959-03-06T00:00:00\",\"1959-02-06T00:00:00\",\"1959-01-06T00:00:00\",\"1958-12-06T00:00:00\",\"1958-11-06T00:00:00\",\"1958-10-06T00:00:00\",\"1958-09-06T00:00:00\",\"1958-08-06T00:00:00\",\"1958-07-06T00:00:00\",\"1958-06-06T00:00:00\",\"1958-05-06T00:00:00\",\"1958-04-06T00:00:00\",\"1958-03-06T00:00:00\",\"1958-02-06T00:00:00\",\"1958-01-06T00:00:00\",\"1957-12-06T00:00:00\",\"1957-11-06T00:00:00\",\"1957-10-06T00:00:00\",\"1957-09-06T00:00:00\",\"1957-08-06T00:00:00\",\"1957-07-06T00:00:00\",\"1957-06-06T00:00:00\",\"1957-05-06T00:00:00\",\"1957-04-06T00:00:00\",\"1957-03-06T00:00:00\",\"1957-02-06T00:00:00\",\"1957-01-06T00:00:00\",\"1956-12-06T00:00:00\",\"1956-11-06T00:00:00\",\"1956-10-06T00:00:00\",\"1956-09-06T00:00:00\",\"1956-08-06T00:00:00\",\"1956-07-06T00:00:00\",\"1956-06-06T00:00:00\",\"1956-05-06T00:00:00\",\"1956-04-06T00:00:00\",\"1956-03-06T00:00:00\",\"1956-02-06T00:00:00\",\"1956-01-06T00:00:00\",\"1955-12-06T00:00:00\",\"1955-11-06T00:00:00\",\"1955-10-06T00:00:00\",\"1955-09-06T00:00:00\",\"1955-08-06T00:00:00\",\"1955-07-06T00:00:00\",\"1955-06-06T00:00:00\",\"1955-05-06T00:00:00\",\"1955-04-06T00:00:00\",\"1955-03-06T00:00:00\",\"1955-02-06T00:00:00\",\"1955-01-06T00:00:00\",\"1954-12-06T00:00:00\",\"1954-11-06T00:00:00\",\"1954-10-06T00:00:00\",\"1954-09-06T00:00:00\",\"1954-08-06T00:00:00\",\"1954-07-06T00:00:00\",\"1954-06-06T00:00:00\",\"1954-05-06T00:00:00\",\"1954-04-06T00:00:00\",\"1954-03-06T00:00:00\",\"1954-02-06T00:00:00\",\"1954-01-06T00:00:00\",\"1953-12-06T00:00:00\",\"1953-11-06T00:00:00\",\"1953-10-06T00:00:00\",\"1953-09-06T00:00:00\",\"1953-08-06T00:00:00\",\"1953-07-06T00:00:00\",\"1953-06-06T00:00:00\",\"1953-05-06T00:00:00\",\"1953-04-06T00:00:00\",\"1953-03-06T00:00:00\",\"1953-02-06T00:00:00\",\"1953-01-06T00:00:00\",\"1952-12-06T00:00:00\",\"1952-11-06T00:00:00\",\"1952-10-06T00:00:00\",\"1952-09-06T00:00:00\",\"1952-08-06T00:00:00\",\"1952-07-06T00:00:00\",\"1952-06-06T00:00:00\",\"1952-05-06T00:00:00\",\"1952-04-06T00:00:00\",\"1952-03-06T00:00:00\",\"1952-02-06T00:00:00\",\"1952-01-06T00:00:00\",\"1951-12-06T00:00:00\",\"1951-11-06T00:00:00\",\"1951-10-06T00:00:00\",\"1951-09-06T00:00:00\",\"1951-08-06T00:00:00\",\"1951-07-06T00:00:00\",\"1951-06-06T00:00:00\",\"1951-05-06T00:00:00\",\"1951-04-06T00:00:00\",\"1951-03-06T00:00:00\",\"1951-02-06T00:00:00\",\"1951-01-06T00:00:00\",\"1950-12-06T00:00:00\",\"1950-11-06T00:00:00\",\"1950-10-06T00:00:00\",\"1950-09-06T00:00:00\",\"1950-08-06T00:00:00\",\"1950-07-06T00:00:00\",\"1950-06-06T00:00:00\",\"1950-05-06T00:00:00\",\"1950-04-06T00:00:00\",\"1950-03-06T00:00:00\",\"1950-02-06T00:00:00\",\"1950-01-06T00:00:00\",\"1949-12-06T00:00:00\",\"1949-11-06T00:00:00\",\"1949-10-06T00:00:00\",\"1949-09-06T00:00:00\",\"1949-08-06T00:00:00\",\"1949-07-06T00:00:00\",\"1949-06-06T00:00:00\",\"1949-05-06T00:00:00\",\"1949-04-06T00:00:00\",\"1949-03-06T00:00:00\",\"1949-02-06T00:00:00\",\"1949-01-06T00:00:00\",\"1948-12-06T00:00:00\",\"1948-11-06T00:00:00\",\"1948-10-06T00:00:00\",\"1948-09-06T00:00:00\",\"1948-08-06T00:00:00\",\"1948-07-06T00:00:00\",\"1948-06-06T00:00:00\",\"1948-05-06T00:00:00\",\"1948-04-06T00:00:00\",\"1948-03-06T00:00:00\",\"1948-02-06T00:00:00\",\"1948-01-06T00:00:00\",\"1947-12-06T00:00:00\",\"1947-11-06T00:00:00\",\"1947-10-06T00:00:00\",\"1947-09-06T00:00:00\",\"1947-08-06T00:00:00\",\"1947-07-06T00:00:00\",\"1947-06-06T00:00:00\",\"1947-05-06T00:00:00\",\"1947-04-06T00:00:00\",\"1947-03-06T00:00:00\",\"1947-02-06T00:00:00\",\"1947-01-06T00:00:00\",\"1946-12-06T00:00:00\",\"1946-11-06T00:00:00\",\"1946-10-06T00:00:00\",\"1946-09-06T00:00:00\",\"1946-08-06T00:00:00\",\"1946-07-06T00:00:00\",\"1946-06-06T00:00:00\",\"1946-05-06T00:00:00\",\"1946-04-06T00:00:00\",\"1946-03-06T00:00:00\",\"1946-02-06T00:00:00\",\"1946-01-06T00:00:00\",\"1945-12-06T00:00:00\",\"1945-11-06T00:00:00\",\"1945-10-06T00:00:00\",\"1945-09-06T00:00:00\",\"1945-08-06T00:00:00\",\"1945-07-06T00:00:00\",\"1945-06-06T00:00:00\",\"1945-05-06T00:00:00\",\"1945-04-06T00:00:00\",\"1945-03-06T00:00:00\",\"1945-02-06T00:00:00\",\"1945-01-06T00:00:00\",\"1944-12-06T00:00:00\",\"1944-11-06T00:00:00\",\"1944-10-06T00:00:00\",\"1944-09-06T00:00:00\",\"1944-08-06T00:00:00\",\"1944-07-06T00:00:00\",\"1944-06-06T00:00:00\",\"1944-05-06T00:00:00\",\"1944-04-06T00:00:00\",\"1944-03-06T00:00:00\",\"1944-02-06T00:00:00\",\"1944-01-06T00:00:00\",\"1943-12-06T00:00:00\",\"1943-11-06T00:00:00\",\"1943-10-06T00:00:00\",\"1943-09-06T00:00:00\",\"1943-08-06T00:00:00\",\"1943-07-06T00:00:00\",\"1943-06-06T00:00:00\",\"1943-05-06T00:00:00\",\"1943-04-06T00:00:00\",\"1943-03-06T00:00:00\",\"1943-02-06T00:00:00\",\"1943-01-06T00:00:00\",\"1942-12-06T00:00:00\",\"1942-11-06T00:00:00\",\"1942-10-06T00:00:00\",\"1942-09-06T00:00:00\",\"1942-08-06T00:00:00\",\"1942-07-06T00:00:00\",\"1942-06-06T00:00:00\",\"1942-05-06T00:00:00\",\"1942-04-06T00:00:00\",\"1942-03-06T00:00:00\",\"1942-02-06T00:00:00\",\"1942-01-06T00:00:00\",\"1941-12-06T00:00:00\",\"1941-11-06T00:00:00\",\"1941-10-06T00:00:00\",\"1941-09-06T00:00:00\",\"1941-08-06T00:00:00\",\"1941-07-06T00:00:00\",\"1941-06-06T00:00:00\",\"1941-05-06T00:00:00\",\"1941-04-06T00:00:00\",\"1941-03-06T00:00:00\",\"1941-02-06T00:00:00\",\"1941-01-06T00:00:00\",\"1940-12-06T00:00:00\",\"1940-11-06T00:00:00\",\"1940-10-06T00:00:00\",\"1940-09-06T00:00:00\",\"1940-08-06T00:00:00\",\"1940-07-06T00:00:00\",\"1940-06-06T00:00:00\",\"1940-05-06T00:00:00\",\"1940-04-06T00:00:00\",\"1940-03-06T00:00:00\",\"1940-02-06T00:00:00\",\"1940-01-06T00:00:00\",\"1939-12-06T00:00:00\",\"1939-11-06T00:00:00\",\"1939-10-06T00:00:00\",\"1939-09-06T00:00:00\",\"1939-08-06T00:00:00\",\"1939-07-06T00:00:00\",\"1939-06-06T00:00:00\",\"1939-05-06T00:00:00\",\"1939-04-06T00:00:00\",\"1939-03-06T00:00:00\",\"1939-02-06T00:00:00\",\"1939-01-06T00:00:00\",\"1938-12-06T00:00:00\",\"1938-11-06T00:00:00\",\"1938-10-06T00:00:00\",\"1938-09-06T00:00:00\",\"1938-08-06T00:00:00\",\"1938-07-06T00:00:00\",\"1938-06-06T00:00:00\",\"1938-05-06T00:00:00\",\"1938-04-06T00:00:00\",\"1938-03-06T00:00:00\",\"1938-02-06T00:00:00\",\"1938-01-06T00:00:00\",\"1937-12-06T00:00:00\",\"1937-11-06T00:00:00\",\"1937-10-06T00:00:00\",\"1937-09-06T00:00:00\",\"1937-08-06T00:00:00\",\"1937-07-06T00:00:00\",\"1937-06-06T00:00:00\",\"1937-05-06T00:00:00\",\"1937-04-06T00:00:00\",\"1937-03-06T00:00:00\",\"1937-02-06T00:00:00\",\"1937-01-06T00:00:00\",\"1936-12-06T00:00:00\",\"1936-11-06T00:00:00\",\"1936-10-06T00:00:00\",\"1936-09-06T00:00:00\",\"1936-08-06T00:00:00\",\"1936-07-06T00:00:00\",\"1936-06-06T00:00:00\",\"1936-05-06T00:00:00\",\"1936-04-06T00:00:00\",\"1936-03-06T00:00:00\",\"1936-02-06T00:00:00\",\"1936-01-06T00:00:00\",\"1935-12-06T00:00:00\",\"1935-11-06T00:00:00\",\"1935-10-06T00:00:00\",\"1935-09-06T00:00:00\",\"1935-08-06T00:00:00\",\"1935-07-06T00:00:00\",\"1935-06-06T00:00:00\",\"1935-05-06T00:00:00\",\"1935-04-06T00:00:00\",\"1935-03-06T00:00:00\",\"1935-02-06T00:00:00\",\"1935-01-06T00:00:00\",\"1934-12-06T00:00:00\",\"1934-11-06T00:00:00\",\"1934-10-06T00:00:00\",\"1934-09-06T00:00:00\",\"1934-08-06T00:00:00\",\"1934-07-06T00:00:00\",\"1934-06-06T00:00:00\",\"1934-05-06T00:00:00\",\"1934-04-06T00:00:00\",\"1934-03-06T00:00:00\",\"1934-02-06T00:00:00\",\"1934-01-06T00:00:00\",\"1933-12-06T00:00:00\",\"1933-11-06T00:00:00\",\"1933-10-06T00:00:00\",\"1933-09-06T00:00:00\",\"1933-08-06T00:00:00\",\"1933-07-06T00:00:00\",\"1933-06-06T00:00:00\",\"1933-05-06T00:00:00\",\"1933-04-06T00:00:00\",\"1933-03-06T00:00:00\",\"1933-02-06T00:00:00\",\"1933-01-06T00:00:00\",\"1932-12-06T00:00:00\",\"1932-11-06T00:00:00\",\"1932-10-06T00:00:00\",\"1932-09-06T00:00:00\",\"1932-08-06T00:00:00\",\"1932-07-06T00:00:00\",\"1932-06-06T00:00:00\",\"1932-05-06T00:00:00\",\"1932-04-06T00:00:00\",\"1932-03-06T00:00:00\",\"1932-02-06T00:00:00\",\"1932-01-06T00:00:00\",\"1931-12-06T00:00:00\",\"1931-11-06T00:00:00\",\"1931-10-06T00:00:00\",\"1931-09-06T00:00:00\",\"1931-08-06T00:00:00\",\"1931-07-06T00:00:00\",\"1931-06-06T00:00:00\",\"1931-05-06T00:00:00\",\"1931-04-06T00:00:00\",\"1931-03-06T00:00:00\",\"1931-02-06T00:00:00\",\"1931-01-06T00:00:00\",\"1930-12-06T00:00:00\",\"1930-11-06T00:00:00\",\"1930-10-06T00:00:00\",\"1930-09-06T00:00:00\",\"1930-08-06T00:00:00\",\"1930-07-06T00:00:00\",\"1930-06-06T00:00:00\",\"1930-05-06T00:00:00\",\"1930-04-06T00:00:00\",\"1930-03-06T00:00:00\",\"1930-02-06T00:00:00\",\"1930-01-06T00:00:00\",\"1929-12-06T00:00:00\",\"1929-11-06T00:00:00\",\"1929-10-06T00:00:00\",\"1929-09-06T00:00:00\",\"1929-08-06T00:00:00\",\"1929-07-06T00:00:00\",\"1929-06-06T00:00:00\",\"1929-05-06T00:00:00\",\"1929-04-06T00:00:00\",\"1929-03-06T00:00:00\",\"1929-02-06T00:00:00\",\"1929-01-06T00:00:00\",\"1928-12-06T00:00:00\",\"1928-11-06T00:00:00\",\"1928-10-06T00:00:00\",\"1928-09-06T00:00:00\",\"1928-08-06T00:00:00\",\"1928-07-06T00:00:00\",\"1928-06-06T00:00:00\",\"1928-05-06T00:00:00\",\"1928-04-06T00:00:00\",\"1928-03-06T00:00:00\",\"1928-02-06T00:00:00\",\"1928-01-06T00:00:00\",\"1927-12-06T00:00:00\",\"1927-11-06T00:00:00\",\"1927-10-06T00:00:00\",\"1927-09-06T00:00:00\",\"1927-08-06T00:00:00\",\"1927-07-06T00:00:00\",\"1927-06-06T00:00:00\",\"1927-05-06T00:00:00\",\"1927-04-06T00:00:00\",\"1927-03-06T00:00:00\",\"1927-02-06T00:00:00\",\"1927-01-06T00:00:00\",\"1926-12-06T00:00:00\",\"1926-11-06T00:00:00\",\"1926-10-06T00:00:00\",\"1926-09-06T00:00:00\",\"1926-08-06T00:00:00\",\"1926-07-06T00:00:00\",\"1926-06-06T00:00:00\",\"1926-05-06T00:00:00\",\"1926-04-06T00:00:00\",\"1926-03-06T00:00:00\",\"1926-02-06T00:00:00\",\"1926-01-06T00:00:00\",\"1925-12-06T00:00:00\",\"1925-11-06T00:00:00\",\"1925-10-06T00:00:00\",\"1925-09-06T00:00:00\",\"1925-08-06T00:00:00\",\"1925-07-06T00:00:00\",\"1925-06-06T00:00:00\",\"1925-05-06T00:00:00\",\"1925-04-06T00:00:00\",\"1925-03-06T00:00:00\",\"1925-02-06T00:00:00\",\"1925-01-06T00:00:00\",\"1924-12-06T00:00:00\",\"1924-11-06T00:00:00\",\"1924-10-06T00:00:00\",\"1924-09-06T00:00:00\",\"1924-08-06T00:00:00\",\"1924-07-06T00:00:00\",\"1924-06-06T00:00:00\",\"1924-05-06T00:00:00\",\"1924-04-06T00:00:00\",\"1924-03-06T00:00:00\",\"1924-02-06T00:00:00\",\"1924-01-06T00:00:00\",\"1923-12-06T00:00:00\",\"1923-11-06T00:00:00\",\"1923-10-06T00:00:00\",\"1923-09-06T00:00:00\",\"1923-08-06T00:00:00\",\"1923-07-06T00:00:00\",\"1923-06-06T00:00:00\",\"1923-05-06T00:00:00\",\"1923-04-06T00:00:00\",\"1923-03-06T00:00:00\",\"1923-02-06T00:00:00\",\"1923-01-06T00:00:00\",\"1922-12-06T00:00:00\",\"1922-11-06T00:00:00\",\"1922-10-06T00:00:00\",\"1922-09-06T00:00:00\",\"1922-08-06T00:00:00\",\"1922-07-06T00:00:00\",\"1922-06-06T00:00:00\",\"1922-05-06T00:00:00\",\"1922-04-06T00:00:00\",\"1922-03-06T00:00:00\",\"1922-02-06T00:00:00\",\"1922-01-06T00:00:00\",\"1921-12-06T00:00:00\",\"1921-11-06T00:00:00\",\"1921-10-06T00:00:00\",\"1921-09-06T00:00:00\",\"1921-08-06T00:00:00\",\"1921-07-06T00:00:00\",\"1921-06-06T00:00:00\",\"1921-05-06T00:00:00\",\"1921-04-06T00:00:00\",\"1921-03-06T00:00:00\",\"1921-02-06T00:00:00\",\"1921-01-06T00:00:00\",\"1920-12-06T00:00:00\",\"1920-11-06T00:00:00\",\"1920-10-06T00:00:00\",\"1920-09-06T00:00:00\",\"1920-08-06T00:00:00\",\"1920-07-06T00:00:00\",\"1920-06-06T00:00:00\",\"1920-05-06T00:00:00\",\"1920-04-06T00:00:00\",\"1920-03-06T00:00:00\",\"1920-02-06T00:00:00\",\"1920-01-06T00:00:00\",\"1919-12-06T00:00:00\",\"1919-11-06T00:00:00\",\"1919-10-06T00:00:00\",\"1919-09-06T00:00:00\",\"1919-08-06T00:00:00\",\"1919-07-06T00:00:00\",\"1919-06-06T00:00:00\",\"1919-05-06T00:00:00\",\"1919-04-06T00:00:00\",\"1919-03-06T00:00:00\",\"1919-02-06T00:00:00\",\"1919-01-06T00:00:00\",\"1918-12-06T00:00:00\",\"1918-11-06T00:00:00\",\"1918-10-06T00:00:00\",\"1918-09-06T00:00:00\",\"1918-08-06T00:00:00\",\"1918-07-06T00:00:00\",\"1918-06-06T00:00:00\",\"1918-05-06T00:00:00\",\"1918-04-06T00:00:00\",\"1918-03-06T00:00:00\",\"1918-02-06T00:00:00\",\"1918-01-06T00:00:00\",\"1917-12-06T00:00:00\",\"1917-11-06T00:00:00\",\"1917-10-06T00:00:00\",\"1917-09-06T00:00:00\",\"1917-08-06T00:00:00\",\"1917-07-06T00:00:00\",\"1917-06-06T00:00:00\",\"1917-05-06T00:00:00\",\"1917-04-06T00:00:00\",\"1917-03-06T00:00:00\",\"1917-02-06T00:00:00\",\"1917-01-06T00:00:00\",\"1916-12-06T00:00:00\",\"1916-11-06T00:00:00\",\"1916-10-06T00:00:00\",\"1916-09-06T00:00:00\",\"1916-08-06T00:00:00\",\"1916-07-06T00:00:00\",\"1916-06-06T00:00:00\",\"1916-05-06T00:00:00\",\"1916-04-06T00:00:00\",\"1916-03-06T00:00:00\",\"1916-02-06T00:00:00\",\"1916-01-06T00:00:00\",\"1915-12-06T00:00:00\",\"1915-11-06T00:00:00\",\"1915-10-06T00:00:00\",\"1915-09-06T00:00:00\",\"1915-08-06T00:00:00\",\"1915-07-06T00:00:00\",\"1915-06-06T00:00:00\",\"1915-05-06T00:00:00\",\"1915-04-06T00:00:00\",\"1915-03-06T00:00:00\",\"1915-02-06T00:00:00\",\"1915-01-06T00:00:00\",\"1914-12-06T00:00:00\",\"1914-11-06T00:00:00\",\"1914-10-06T00:00:00\",\"1914-09-06T00:00:00\",\"1914-08-06T00:00:00\",\"1914-07-06T00:00:00\",\"1914-06-06T00:00:00\",\"1914-05-06T00:00:00\",\"1914-04-06T00:00:00\",\"1914-03-06T00:00:00\",\"1914-02-06T00:00:00\",\"1914-01-06T00:00:00\",\"1913-12-06T00:00:00\",\"1913-11-06T00:00:00\",\"1913-10-06T00:00:00\",\"1913-09-06T00:00:00\",\"1913-08-06T00:00:00\",\"1913-07-06T00:00:00\",\"1913-06-06T00:00:00\",\"1913-05-06T00:00:00\",\"1913-04-06T00:00:00\",\"1913-03-06T00:00:00\",\"1913-02-06T00:00:00\",\"1913-01-06T00:00:00\",\"1912-12-06T00:00:00\",\"1912-11-06T00:00:00\",\"1912-10-06T00:00:00\",\"1912-09-06T00:00:00\",\"1912-08-06T00:00:00\",\"1912-07-06T00:00:00\",\"1912-06-06T00:00:00\",\"1912-05-06T00:00:00\",\"1912-04-06T00:00:00\",\"1912-03-06T00:00:00\",\"1912-02-06T00:00:00\",\"1912-01-06T00:00:00\",\"1911-12-06T00:00:00\",\"1911-11-06T00:00:00\",\"1911-10-06T00:00:00\",\"1911-09-06T00:00:00\",\"1911-08-06T00:00:00\",\"1911-07-06T00:00:00\",\"1911-06-06T00:00:00\",\"1911-05-06T00:00:00\",\"1911-04-06T00:00:00\",\"1911-03-06T00:00:00\",\"1911-02-06T00:00:00\",\"1911-01-06T00:00:00\",\"1910-12-06T00:00:00\",\"1910-11-06T00:00:00\",\"1910-10-06T00:00:00\",\"1910-09-06T00:00:00\",\"1910-08-06T00:00:00\",\"1910-07-06T00:00:00\",\"1910-06-06T00:00:00\",\"1910-05-06T00:00:00\",\"1910-04-06T00:00:00\",\"1910-03-06T00:00:00\",\"1910-02-06T00:00:00\",\"1910-01-06T00:00:00\",\"1909-12-06T00:00:00\",\"1909-11-06T00:00:00\",\"1909-10-06T00:00:00\",\"1909-09-06T00:00:00\",\"1909-08-06T00:00:00\",\"1909-07-06T00:00:00\",\"1909-06-06T00:00:00\",\"1909-05-06T00:00:00\",\"1909-04-06T00:00:00\",\"1909-03-06T00:00:00\",\"1909-02-06T00:00:00\",\"1909-01-06T00:00:00\",\"1908-12-06T00:00:00\",\"1908-11-06T00:00:00\",\"1908-10-06T00:00:00\",\"1908-09-06T00:00:00\",\"1908-08-06T00:00:00\",\"1908-07-06T00:00:00\",\"1908-06-06T00:00:00\",\"1908-05-06T00:00:00\",\"1908-04-06T00:00:00\",\"1908-03-06T00:00:00\",\"1908-02-06T00:00:00\",\"1908-01-06T00:00:00\",\"1907-12-06T00:00:00\",\"1907-11-06T00:00:00\",\"1907-10-06T00:00:00\",\"1907-09-06T00:00:00\",\"1907-08-06T00:00:00\",\"1907-07-06T00:00:00\",\"1907-06-06T00:00:00\",\"1907-05-06T00:00:00\",\"1907-04-06T00:00:00\",\"1907-03-06T00:00:00\",\"1907-02-06T00:00:00\",\"1907-01-06T00:00:00\",\"1906-12-06T00:00:00\",\"1906-11-06T00:00:00\",\"1906-10-06T00:00:00\",\"1906-09-06T00:00:00\",\"1906-08-06T00:00:00\",\"1906-07-06T00:00:00\",\"1906-06-06T00:00:00\",\"1906-05-06T00:00:00\",\"1906-04-06T00:00:00\",\"1906-03-06T00:00:00\",\"1906-02-06T00:00:00\",\"1906-01-06T00:00:00\",\"1905-12-06T00:00:00\",\"1905-11-06T00:00:00\",\"1905-10-06T00:00:00\",\"1905-09-06T00:00:00\",\"1905-08-06T00:00:00\",\"1905-07-06T00:00:00\",\"1905-06-06T00:00:00\",\"1905-05-06T00:00:00\",\"1905-04-06T00:00:00\",\"1905-03-06T00:00:00\",\"1905-02-06T00:00:00\",\"1905-01-06T00:00:00\",\"1904-12-06T00:00:00\",\"1904-11-06T00:00:00\",\"1904-10-06T00:00:00\",\"1904-09-06T00:00:00\",\"1904-08-06T00:00:00\",\"1904-07-06T00:00:00\",\"1904-06-06T00:00:00\",\"1904-05-06T00:00:00\",\"1904-04-06T00:00:00\",\"1904-03-06T00:00:00\",\"1904-02-06T00:00:00\",\"1904-01-06T00:00:00\",\"1903-12-06T00:00:00\",\"1903-11-06T00:00:00\",\"1903-10-06T00:00:00\",\"1903-09-06T00:00:00\",\"1903-08-06T00:00:00\",\"1903-07-06T00:00:00\",\"1903-06-06T00:00:00\",\"1903-05-06T00:00:00\",\"1903-04-06T00:00:00\",\"1903-03-06T00:00:00\",\"1903-02-06T00:00:00\",\"1903-01-06T00:00:00\",\"1902-12-06T00:00:00\",\"1902-11-06T00:00:00\",\"1902-10-06T00:00:00\",\"1902-09-06T00:00:00\",\"1902-08-06T00:00:00\",\"1902-07-06T00:00:00\",\"1902-06-06T00:00:00\",\"1902-05-06T00:00:00\",\"1902-04-06T00:00:00\",\"1902-03-06T00:00:00\",\"1902-02-06T00:00:00\",\"1902-01-06T00:00:00\",\"1901-12-06T00:00:00\",\"1901-11-06T00:00:00\",\"1901-10-06T00:00:00\",\"1901-09-06T00:00:00\",\"1901-08-06T00:00:00\",\"1901-07-06T00:00:00\",\"1901-06-06T00:00:00\",\"1901-05-06T00:00:00\",\"1901-04-06T00:00:00\",\"1901-03-06T00:00:00\",\"1901-02-06T00:00:00\",\"1901-01-06T00:00:00\",\"1900-12-06T00:00:00\",\"1900-11-06T00:00:00\",\"1900-10-06T00:00:00\",\"1900-09-06T00:00:00\",\"1900-08-06T00:00:00\",\"1900-07-06T00:00:00\",\"1900-06-06T00:00:00\",\"1900-05-06T00:00:00\",\"1900-04-06T00:00:00\",\"1900-03-06T00:00:00\",\"1900-02-06T00:00:00\",\"1900-01-06T00:00:00\",\"1899-12-06T00:00:00\",\"1899-11-06T00:00:00\",\"1899-10-06T00:00:00\",\"1899-09-06T00:00:00\",\"1899-08-06T00:00:00\",\"1899-07-06T00:00:00\",\"1899-06-06T00:00:00\",\"1899-05-06T00:00:00\",\"1899-04-06T00:00:00\",\"1899-03-06T00:00:00\",\"1899-02-06T00:00:00\",\"1899-01-06T00:00:00\",\"1898-12-06T00:00:00\",\"1898-11-06T00:00:00\",\"1898-10-06T00:00:00\",\"1898-09-06T00:00:00\",\"1898-08-06T00:00:00\",\"1898-07-06T00:00:00\",\"1898-06-06T00:00:00\",\"1898-05-06T00:00:00\",\"1898-04-06T00:00:00\",\"1898-03-06T00:00:00\",\"1898-02-06T00:00:00\",\"1898-01-06T00:00:00\",\"1897-12-06T00:00:00\",\"1897-11-06T00:00:00\",\"1897-10-06T00:00:00\",\"1897-09-06T00:00:00\",\"1897-08-06T00:00:00\",\"1897-07-06T00:00:00\",\"1897-06-06T00:00:00\",\"1897-05-06T00:00:00\",\"1897-04-06T00:00:00\",\"1897-03-06T00:00:00\",\"1897-02-06T00:00:00\",\"1897-01-06T00:00:00\",\"1896-12-06T00:00:00\",\"1896-11-06T00:00:00\",\"1896-10-06T00:00:00\",\"1896-09-06T00:00:00\",\"1896-08-06T00:00:00\",\"1896-07-06T00:00:00\",\"1896-06-06T00:00:00\",\"1896-05-06T00:00:00\",\"1896-04-06T00:00:00\",\"1896-03-06T00:00:00\",\"1896-02-06T00:00:00\",\"1896-01-06T00:00:00\",\"1895-12-06T00:00:00\",\"1895-11-06T00:00:00\",\"1895-10-06T00:00:00\",\"1895-09-06T00:00:00\",\"1895-08-06T00:00:00\",\"1895-07-06T00:00:00\",\"1895-06-06T00:00:00\",\"1895-05-06T00:00:00\",\"1895-04-06T00:00:00\",\"1895-03-06T00:00:00\",\"1895-02-06T00:00:00\",\"1895-01-06T00:00:00\",\"1894-12-06T00:00:00\",\"1894-11-06T00:00:00\",\"1894-10-06T00:00:00\",\"1894-09-06T00:00:00\",\"1894-08-06T00:00:00\",\"1894-07-06T00:00:00\",\"1894-06-06T00:00:00\",\"1894-05-06T00:00:00\",\"1894-04-06T00:00:00\",\"1894-03-06T00:00:00\",\"1894-02-06T00:00:00\",\"1894-01-06T00:00:00\",\"1893-12-06T00:00:00\",\"1893-11-06T00:00:00\",\"1893-10-06T00:00:00\",\"1893-09-06T00:00:00\",\"1893-08-06T00:00:00\",\"1893-07-06T00:00:00\",\"1893-06-06T00:00:00\",\"1893-05-06T00:00:00\",\"1893-04-06T00:00:00\",\"1893-03-06T00:00:00\",\"1893-02-06T00:00:00\",\"1893-01-06T00:00:00\",\"1892-12-06T00:00:00\",\"1892-11-06T00:00:00\",\"1892-10-06T00:00:00\",\"1892-09-06T00:00:00\",\"1892-08-06T00:00:00\",\"1892-07-06T00:00:00\",\"1892-06-06T00:00:00\",\"1892-05-06T00:00:00\",\"1892-04-06T00:00:00\",\"1892-03-06T00:00:00\",\"1892-02-06T00:00:00\",\"1892-01-06T00:00:00\",\"1891-12-06T00:00:00\",\"1891-11-06T00:00:00\",\"1891-10-06T00:00:00\",\"1891-09-06T00:00:00\",\"1891-08-06T00:00:00\",\"1891-07-06T00:00:00\",\"1891-06-06T00:00:00\",\"1891-05-06T00:00:00\",\"1891-04-06T00:00:00\",\"1891-03-06T00:00:00\",\"1891-02-06T00:00:00\",\"1891-01-06T00:00:00\",\"1890-12-06T00:00:00\",\"1890-11-06T00:00:00\",\"1890-10-06T00:00:00\",\"1890-09-06T00:00:00\",\"1890-08-06T00:00:00\",\"1890-07-06T00:00:00\",\"1890-06-06T00:00:00\",\"1890-05-06T00:00:00\",\"1890-04-06T00:00:00\",\"1890-03-06T00:00:00\",\"1890-02-06T00:00:00\",\"1890-01-06T00:00:00\",\"1889-12-06T00:00:00\",\"1889-11-06T00:00:00\",\"1889-10-06T00:00:00\",\"1889-09-06T00:00:00\",\"1889-08-06T00:00:00\",\"1889-07-06T00:00:00\",\"1889-06-06T00:00:00\",\"1889-05-06T00:00:00\",\"1889-04-06T00:00:00\",\"1889-03-06T00:00:00\",\"1889-02-06T00:00:00\",\"1889-01-06T00:00:00\",\"1888-12-06T00:00:00\",\"1888-11-06T00:00:00\",\"1888-10-06T00:00:00\",\"1888-09-06T00:00:00\",\"1888-08-06T00:00:00\",\"1888-07-06T00:00:00\",\"1888-06-06T00:00:00\",\"1888-05-06T00:00:00\",\"1888-04-06T00:00:00\",\"1888-03-06T00:00:00\",\"1888-02-06T00:00:00\",\"1888-01-06T00:00:00\",\"1887-12-06T00:00:00\",\"1887-11-06T00:00:00\",\"1887-10-06T00:00:00\",\"1887-09-06T00:00:00\",\"1887-08-06T00:00:00\",\"1887-07-06T00:00:00\",\"1887-06-06T00:00:00\",\"1887-05-06T00:00:00\",\"1887-04-06T00:00:00\",\"1887-03-06T00:00:00\",\"1887-02-06T00:00:00\",\"1887-01-06T00:00:00\",\"1886-12-06T00:00:00\",\"1886-11-06T00:00:00\",\"1886-10-06T00:00:00\",\"1886-09-06T00:00:00\",\"1886-08-06T00:00:00\",\"1886-07-06T00:00:00\",\"1886-06-06T00:00:00\",\"1886-05-06T00:00:00\",\"1886-04-06T00:00:00\",\"1886-03-06T00:00:00\",\"1886-02-06T00:00:00\",\"1886-01-06T00:00:00\",\"1885-12-06T00:00:00\",\"1885-11-06T00:00:00\",\"1885-10-06T00:00:00\",\"1885-09-06T00:00:00\",\"1885-08-06T00:00:00\",\"1885-07-06T00:00:00\",\"1885-06-06T00:00:00\",\"1885-05-06T00:00:00\",\"1885-04-06T00:00:00\",\"1885-03-06T00:00:00\",\"1885-02-06T00:00:00\",\"1885-01-06T00:00:00\",\"1884-12-06T00:00:00\",\"1884-11-06T00:00:00\",\"1884-10-06T00:00:00\",\"1884-09-06T00:00:00\",\"1884-08-06T00:00:00\",\"1884-07-06T00:00:00\",\"1884-06-06T00:00:00\",\"1884-05-06T00:00:00\",\"1884-04-06T00:00:00\",\"1884-03-06T00:00:00\",\"1884-02-06T00:00:00\",\"1884-01-06T00:00:00\",\"1883-12-06T00:00:00\",\"1883-11-06T00:00:00\",\"1883-10-06T00:00:00\",\"1883-09-06T00:00:00\",\"1883-08-06T00:00:00\",\"1883-07-06T00:00:00\",\"1883-06-06T00:00:00\",\"1883-05-06T00:00:00\",\"1883-04-06T00:00:00\",\"1883-03-06T00:00:00\",\"1883-02-06T00:00:00\",\"1883-01-06T00:00:00\",\"1882-12-06T00:00:00\",\"1882-11-06T00:00:00\",\"1882-10-06T00:00:00\",\"1882-09-06T00:00:00\",\"1882-08-06T00:00:00\",\"1882-07-06T00:00:00\",\"1882-06-06T00:00:00\",\"1882-05-06T00:00:00\",\"1882-04-06T00:00:00\",\"1882-03-06T00:00:00\",\"1882-02-06T00:00:00\",\"1882-01-06T00:00:00\",\"1881-12-06T00:00:00\",\"1881-11-06T00:00:00\",\"1881-10-06T00:00:00\",\"1881-09-06T00:00:00\",\"1881-08-06T00:00:00\",\"1881-07-06T00:00:00\",\"1881-06-06T00:00:00\",\"1881-05-06T00:00:00\",\"1881-04-06T00:00:00\",\"1881-03-06T00:00:00\",\"1881-02-06T00:00:00\",\"1881-01-06T00:00:00\",\"1880-12-06T00:00:00\",\"1880-11-06T00:00:00\",\"1880-10-06T00:00:00\",\"1880-09-06T00:00:00\",\"1880-08-06T00:00:00\",\"1880-07-06T00:00:00\",\"1880-06-06T00:00:00\",\"1880-05-06T00:00:00\",\"1880-04-06T00:00:00\",\"1880-03-06T00:00:00\",\"1880-02-06T00:00:00\",\"1880-01-06T00:00:00\"],\"xaxis\":\"x\",\"y\":[0.7895,0.7504,0.7292,0.8767,0.8998,0.8687,0.9006,0.8738,1.0733,1.2245,1.1921,1.0569,1.1219,0.9655,0.9913,0.926,0.8746,0.8072,0.8835,0.8584,0.7741,0.8969,0.8843,0.8141,0.8308,0.6895,0.7851,0.7872,0.7986,0.6988,0.7623,0.7938,0.8006,0.7695,0.48,0.6936,0.6981,0.8293,0.6787,0.6857,0.6605,0.6662,0.6838,0.7141,0.561,0.6139,0.6357,0.5873,0.4655,0.7087,0.7022,0.7266,0.6694,0.6884,0.7039,0.7221,0.7335,0.5218,0.4235,0.4228,0.5485,0.4857,0.6349,0.5998,0.616,0.6282,0.6465,0.5741,0.6522,0.5915,0.4976,0.4706,0.4894,0.7682,0.6268,0.5724,0.6595,0.7287,0.7339,0.7582,0.8287,0.847,0.708,0.6958,0.6176,0.6716,0.6418,0.7083,0.6998,0.6439,0.6741,0.5868,0.6539,0.5794,0.5679,0.5955,0.5635,0.6703,0.669,0.5318,0.5594,0.5796,0.5314,0.5011,0.4827,0.7625,0.3774,0.2746,0.4872,0.5172,0.567,0.5775,0.5509,0.5286,0.5374,0.609,0.7336,0.6668,0.6609,0.8839,0.7692,0.6449,0.6774,0.6337,0.6231,0.6218,0.6399,0.5499,0.5177,0.5931,0.6221,0.4567,0.6235,0.728,0.693,0.6867,0.6247,0.6572,0.6722,0.6573,0.7314,0.6918,0.5143,0.6223,0.5081,0.7601,0.6177,0.5331,0.5141,0.4806,0.4707,0.4442,0.594,0.6964,0.7232,0.5979,0.7361,0.5784,0.7271,0.6412,0.6202,0.5408,0.5381,0.5954,0.5601,0.5702,0.5626,0.6907,0.4366,0.5918,0.4773,0.5661,0.5359,0.6229,0.589,0.5656,0.5725,0.7887,0.7846,0.6962,0.5128,0.688,0.5006,0.505,0.6032,0.5586,0.5373,0.5997,0.5666,0.6293,0.3946,0.472,0.3192,0.2557,0.3027,0.4384,0.4557,0.3919,0.4076,0.4657,0.6311,0.5561,0.5439,0.3467,0.5779,0.3688,0.3773,0.3976,0.3695,0.4029,0.4203,0.4086,0.459,0.3702,0.6733,0.5007,0.5796,0.4132,0.4965,0.5271,0.6816,0.7358,0.6657,0.6679,0.7358,0.6396,0.866,0.6042,0.6302,0.5865,0.6487,0.625,0.5491,0.5101,0.5308,0.4235,0.4551,0.4617,0.4288,0.3746,0.3893,0.2816,0.2276,0.2696,0.3206,0.3238,0.3547,0.3908,0.2725,0.3242,0.4562,0.2625,0.3477,0.455,0.4376,0.3865,0.5056,0.4295,0.4657,0.3537,0.4097,0.4637,0.6895,0.5487,0.4009,0.453,0.4273,0.33,0.3119,0.3155,0.387,0.3819,0.3568,0.3568,0.0791,0.2902,0.3188,0.092,0.2442,0.1692,0.2118,0.2336,0.293,0.3438,0.3155,0.4208,0.3967,0.384,0.2833,0.0943,0.1154,0.0588,0.1405,0.1359,0.2821,0.3276,0.2936,0.4333,0.4485,0.4721,0.3064,0.3175,0.3292,0.3863,0.388,0.4462,0.4813,0.4107,0.5168,0.3658,0.4661,0.4512,0.4481,0.4797,0.4277,0.3144,0.3479,0.3453,0.4114,0.4274,0.4907,0.7328,0.4072,0.3613,0.4013,0.2541,0.3044,0.3019,0.3021,0.3016,0.2727,0.2779,0.2891,0.336,0.3072,0.2157,0.3626,0.2291,0.3009,0.3211,0.3199,0.3431,0.3865,0.3811,0.4426,0.4828,0.3901,0.5487,0.5316,0.3306,0.3347,0.4321,0.3832,0.4182,0.3013,0.3339,0.3009,0.2541,0.5028,0.3115,0.2179,0.1548,0.2066,0.1716,0.1698,0.1686,0.2534,0.2507,0.2613,0.2966,0.2788,0.3249,0.1978,0.1181,0.1303,0.101,0.1287,0.0779,0.129,0.1959,0.1488,0.1875,0.0176,0.1783,-0.0926,0.0365,0.1187,0.1431,0.1687,0.1193,0.1306,0.2834,0.1503,0.272,0.1753,0.2831,0.2748,0.4313,0.2113,0.3175,0.3228,0.2663,0.2629,0.2881,0.2918,0.4256,0.4834,0.5169,0.4355,0.151,0.1771,0.233,0.1406,0.1436,0.1231,0.1923,0.2054,0.0833,0.1593,0.1342,0.42,0.2119,0.1687,0.186,0.2428,0.2268,0.2853,0.262,0.3579,0.4083,0.3629,0.4656,0.2674,0.3319,0.1821,0.2008,0.1957,0.2172,0.2474,0.316,0.3082,0.2389,0.3506,0.308,0.5032,0.2953,0.2945,0.2519,0.2263,0.1746,0.2183,0.1569,0.1112,0.243,0.0922,0.1602,0.1512,0.2245,0.0646,0.0748,0.0033,0.0699,0.0532,0.0596,0.1324,0.2228,0.1306,0.1606,0.1124,0.2603,0.1189,0.1867,0.1418,0.1737,0.2474,0.2368,0.282,0.3109,0.2384,0.0639,0.0906,-0.0432,-0.1821,-0.0426,-0.0894,-0.0846,-0.074,-0.1228,-0.0223,-0.2394,-0.1221,-0.0181,-0.0895,-0.145,-0.1236,0.017,-0.0671,0.0055,0.0342,0.0693,0.0779,0.1096,0.0326,0.1201,-0.0976,-0.0671,-0.0831,-0.0428,0.0131,0.0195,-0.0375,-0.0246,-0.042,-0.0509,-0.2548,-0.1953,0.0277,0.022,0.0446,0.0563,0.0774,0.1163,0.1972,0.2152,0.2502,0.3305,0.3722,0.259,0.2529,0.0799,0.0891,0.0207,0.0863,0.0639,0.0765,0.0147,0.0357,0.0014,-0.1624,-0.2415,-0.0198,0.0363,-0.0763,-0.0443,-0.0688,-0.063,-0.1243,-0.0899,-0.1299,-0.1412,-0.2144,-0.0045,-0.0954,0.0226,-0.0367,0.0077,-0.0198,-0.0218,0.0295,0.0414,0.131,0.0317,0.2353,0.1214,0.2468,0.1896,0.0713,0.0843,0.0954,0.0933,0.0766,0.1756,0.1935,0.1222,-0.1038,-0.1295,-0.0431,0.0156,0.0471,-0.0112,-0.0143,-0.0197,-0.0161,-0.0803,-0.0703,0.1508,-0.1266,-0.1865,-0.04,-0.0212,0.1288,-0.0317,-0.0055,-0.0177,-0.0299,0.1243,0.0056,0.0029,-0.1656,-0.1068,-0.1244,-0.0465,-0.0592,0.0261,0.0191,0.0667,0.0577,-0.0359,-0.0908,-0.0025,-0.0373,-0.0458,-0.0124,-0.09,0.0238,-0.0503,-0.0464,-0.0841,-0.0434,-0.0787,-0.1875,-0.1005,-0.1966,-0.0699,-0.2651,-0.2017,-0.2665,-0.2093,-0.1669,-0.1111,-0.0931,-0.098,-0.1847,-0.1421,-0.1048,0.0488,0.0812,0.1947,0.2148,0.1629,0.1579,0.1382,0.0499,0.013,-0.0041,-0.0216,0.2566,0.0376,0.0881,0.0745,0.0796,0.0606,0.0552,0.0905,0.0574,0.0589,0.0763,0.1197,0.1698,0.1345,-0.0171,0.016,-0.035,-0.0041,0.032,0.035,0.1479,0.1614,0.1335,0.1646,0.1768,0.1188,0.2278,-0.0484,0.039,0.0638,0.0461,0.0339,0.0772,-0.0841,-0.0954,-0.2041,0.1858,0.0032,-0.0343,-0.079,-0.0137,0.097,0.0516,0.0671,0.0849,0.0263,0.118,0.2041,0.0682,0.125,0.1452,0.0896,0.0405,0.0186,0.0528,0.0649,0.0624,0.1007,0.114,0.1181,0.2103,0.2964,0.229,0.1282,0.0143,0.0748,0.1302,0.0596,0.1577,0.1092,-0.0193,-0.068,-0.1118,-0.1178,-0.153,-0.1564,-0.1989,-0.252,-0.1866,-0.1346,-0.1437,-0.2275,-0.2846,-0.2003,-0.2732,-0.1773,-0.2706,-0.2373,-0.1232,-0.0923,-0.0262,-0.0881,-0.0695,-0.1274,-0.2383,-0.3091,-0.1303,0.0879,-0.1859,0.039,-0.0694,-0.0595,-0.0913,-0.1229,-0.1161,-0.202,-0.1766,-0.091,-0.0865,-0.2352,0.0555,-0.0621,0.0723,0.0632,0.0812,0.0662,0.124,0.144,0.1873,0.1539,0.1534,0.1037,-0.008,-0.1975,-0.0366,0.0653,0.0647,0.0735,0.0396,0.034,0.0666,-0.048,0.0921,0.152,0.2148,0.026,0.1081,0.1322,0.113,0.1101,0.0381,0.0569,-0.0877,-0.1689,-0.4101,-0.2903,-0.181,-0.3605,-0.1661,-0.1049,-0.1382,-0.1053,-0.0559,-0.0536,-0.1706,-0.0868,-0.2389,-0.2777,-0.1821,-0.0534,-0.0297,-0.0701,-0.0217,-0.077,-0.1486,-0.0063,0.0076,-0.0732,-0.1476,0.1209,-0.1121,-0.056,-0.065,-0.1032,-0.0282,-0.0622,-0.015,0.1427,-0.0646,-0.1841,-0.0906,0.0535,-0.1463,-0.0238,0.0549,-0.1306,-0.0623,-0.0138,0.0208,-0.019,0.0143,-0.0079,-0.0774,-0.1816,-0.2636,-0.0119,-0.0057,-0.0164,-0.0697,-0.0367,-0.1016,-0.0298,0.1768,0.0005,0.0888,0.2209,-0.0475,0.1955,0.2569,0.2578,0.3546,0.1652,0.1413,0.1761,0.2764,0.1072,0.0149,0.1535,0.0951,0.1518,0.323,0.3855,0.2804,0.3145,0.3348,0.2618,0.2718,0.3676,0.3032,0.4241,0.3539,0.2459,0.3095,0.1425,0.0992,0.183,0.0245,0.1326,0.1726,0.0762,0.1683,-0.0241,0.1515,0.167,0.1495,0.1179,0.044,0.0768,0.2098,0.1665,0.19,0.1771,0.0971,0.2983,0.2108,0.2212,0.313,0.0881,0.1736,0.2069,0.1614,0.2446,0.2229,0.1023,0.227,0.1802,0.2683,0.1004,0.0993,0.1483,0.0902,0.1459,0.1039,0.0556,0.1286,0.0671,0.0514,-0.1226,0.4057,0.044,-0.0427,0.0111,0.0555,0.0061,-0.0077,-0.0366,-0.1319,-0.1897,-0.1137,-0.1665,-0.2541,0.0039,0.0724,0.0293,-0.0149,-0.0505,-0.0939,-0.019,0.0428,0.0308,-0.054,-0.0378,-0.0919,0.0099,0.1137,0.1316,0.093,-0.0004,0.0126,-0.0187,-0.1262,-0.1823,0.0385,-0.1684,-0.0193,-0.0275,-0.0224,-0.0389,-0.0557,-0.0139,-0.1075,-0.1178,-0.1789,-0.2107,-0.3137,-0.2547,-0.1769,-0.2707,-0.013,-0.0916,-0.1003,-0.1155,-0.1706,-0.2038,-0.2567,-0.1475,0.1659,-0.2894,-0.0256,0.0128,-0.0693,-0.1226,-0.0548,-0.0894,-0.0025,-0.0444,-0.2318,-0.2574,-0.0231,-0.3102,-0.4069,-0.2548,-0.1879,-0.2214,-0.1889,-0.181,-0.2007,-0.2091,-0.2044,-0.2476,-0.3167,-0.3073,-0.1861,-0.1945,-0.0926,-0.0695,-0.1757,-0.1208,-0.1578,-0.1674,-0.0324,-0.1799,-0.1794,0.1547,-0.1052,-0.1139,0.0092,0.0035,0.0047,-0.0155,-0.0185,-0.1499,-0.1625,-0.0061,-0.2225,-0.047,0.0064,0.1368,-0.0011,-0.1043,-0.09,-0.0692,-0.1135,-0.1976,-0.195,-0.0549,-0.2,-0.3206,-0.5167,-0.0971,-0.1185,-0.2089,-0.2078,-0.2735,-0.2746,-0.2886,-0.2976,-0.2654,-0.5495,-0.484,-0.1713,-0.0679,-0.1256,-0.1904,-0.1997,-0.1773,-0.2777,-0.1866,-0.2444,-0.263,-0.145,-0.08,-0.3132,-0.0397,0.014,-0.0275,-0.1145,-0.1035,-0.2014,-0.2286,-0.2207,-0.2563,-0.1917,-0.1723,-0.2158,-0.0784,-0.084,-0.1031,-0.0882,-0.1582,-0.1224,-0.1345,-0.1389,0.0756,0.0811,0.166,0.1358,0.0584,-0.1326,-0.104,-0.1374,-0.2093,-0.2291,-0.2233,-0.1633,-0.1692,-0.2783,-0.3246,-0.3912,-0.2942,-0.2879,-0.2836,-0.2895,-0.2216,-0.2259,-0.1903,-0.2466,-0.113,-0.1859,-0.2536,0.0001,0.0285,-0.1619,-0.2454,-0.2824,-0.282,-0.1948,-0.2488,-0.3381,-0.2697,-0.3785,-0.2143,-0.1563,-0.1929,-0.2506,-0.2525,-0.2793,-0.2615,-0.282,-0.2647,-0.1301,-0.0787,-0.2945,-0.3221,-0.0822,-0.1859,-0.0662,-0.1481,-0.1964,-0.1123,-0.1665,-0.1917,-0.2059,-0.2176,-0.1494,-0.0598,-0.3886,-0.251,-0.2096,-0.1755,-0.2306,-0.2436,-0.2559,-0.1682,-0.2098,-0.0583,-0.2197,-0.1157,-0.298,-0.3178,-0.22,-0.1833,-0.2077,-0.2155,-0.2348,-0.1837,-0.0704,-0.2393,-0.053,-0.2424,-0.3195,-0.1154,-0.0998,-0.1481,-0.1777,-0.2024,-0.1829,-0.276,-0.2966,-0.1783,-0.2892,-0.2146,-0.5329,-0.1348,-0.2602,-0.0635,-0.1726,-0.1721,-0.3432,-0.45,-0.3146,-0.4287,-0.4721,-0.4299,-0.5742,-0.3957,-0.2651,-0.2616,-0.2743,-0.2889,-0.3834,-0.2245,-0.1978,-0.2944,-0.1759,-0.1797,-0.0503,-0.0116,-0.1722,-0.1111,-0.076,-0.0284,-0.0858,-0.0685,0.0215,-0.1011,-0.0108,-0.1374,-0.0998,-0.1202,-0.0938,-0.1781,-0.1757,-0.2095,-0.1963,-0.1647,-0.2481,-0.1633,-0.1203,0.0961,-0.0374,-0.1371,-0.3112,-0.3562,-0.328,-0.3534,-0.3779,-0.394,-0.3506,-0.4077,-0.3899,-0.3513,-0.3553,-0.4122,-0.5185,-0.5056,-0.4516,-0.314,-0.26,-0.2257,-0.2027,-0.3123,-0.1091,-0.2791,-0.2456,-0.2571,-0.3433,-0.3983,-0.4541,-0.4658,-0.4443,-0.4775,-0.5099,-0.5697,-0.5265,-0.5067,-0.5626,-0.4956,-0.4199,-0.3322,-0.3325,-0.3264,-0.3525,-0.2999,-0.339,-0.4202,-0.3627,-0.3035,-0.4071,-0.2733,-0.3935,-0.3611,-0.3052,-0.435,-0.4145,-0.4512,-0.5264,-0.5399,-0.4563,-0.5499,-0.3846,-0.4833,-0.5169,-0.3973,-0.4787,-0.3874,-0.4062,-0.3982,-0.4832,-0.6041,-0.3753,-0.36,-0.3922,-0.5055,-0.3047,-0.3364,-0.3378,-0.3547,-0.3742,-0.4669,-0.3508,-0.276,-0.4038,-0.3443,-0.165,-0.3676,-0.2809,-0.3053,-0.2362,-0.2467,-0.1768,-0.2166,-0.0514,-0.1484,-0.2379,-0.1755,-0.1334,-0.0916,-0.296,-0.2239,-0.2275,-0.1918,-0.2503,-0.2879,-0.4481,-0.394,-0.6187,-0.354,-0.2414,-0.1686,-0.4066,-0.4632,-0.4314,-0.4597,-0.4403,-0.4282,-0.4717,-0.5129,-0.467,-0.5416,-0.3861,-0.395,-0.4357,-0.3756,-0.4296,-0.334,-0.3759,-0.3912,-0.354,-0.2755,-0.08,-0.2101,-0.3592,-0.343,-0.2821,-0.2315,-0.2643,-0.2902,-0.3324,-0.2616,-0.2697,-0.1954,-0.0409,-0.0856,-0.2372,-0.1425,-0.2786,-0.2059,-0.1299,-0.1563,-0.1273,-0.1248,-0.0646,-0.0327,-0.0741,-0.1259,0.032,-0.1345,0.0464,-0.06,-0.0708,-0.0728,-0.045,-0.0371,-0.0985,-0.0402,-0.0934,-0.2404,-0.1656,0.1523,-0.0241,-0.0307,-0.0664,-0.1259,-0.1977,-0.1203,-0.1946,-0.2549,-0.2787,-0.1005,-0.0073,-0.2417,-0.3234,-0.1968,-0.2306,-0.2426,-0.2078,-0.2887,-0.3467,-0.6515,-0.2785,-0.0399,-0.2989,-0.2619,-0.1608,-0.0247,-0.0735,-0.0401,-0.1,-0.0256,-0.0032,-0.1863,-0.1086,-0.1857,0.049,-0.1659,-0.0056,-0.0679,-0.0723,-0.0509,-0.0925,-0.1042,-0.266,-0.2079,-0.0789,-0.1056,-0.069,-0.1602,-0.1317,-0.1329,-0.2243,-0.201,-0.2938,-0.2076,-0.1868,-0.2879,-0.4136,-0.4389,-0.2412,-0.2979,-0.2135,-0.2531,-0.2735,-0.2738,-0.3487,-0.3018,-0.3023,-0.2064,-0.2215,-0.436,-0.2452,-0.1657,-0.2099,-0.2587,-0.3281,-0.2018,-0.2405,-0.3421,-0.35,-0.2218,-0.6107,-0.6796,-0.4708,-0.4728,-0.2464,-0.2198,-0.3279,-0.3497,-0.2831,-0.3081,-0.3203,-0.3032,-0.1353,-0.2372,-0.0421,-0.3968,-0.2861,-0.1514,-0.2313,-0.2264,-0.2023,-0.1374,-0.2523,-0.212,-0.5228,-0.3772,-0.2302,-0.3419,-0.2941,-0.3508,-0.3257,-0.2802,-0.2875,-0.3892,-0.2588,-0.3189,-0.4268,-0.3594,-0.175,-0.2769,-0.1913,-0.2264,-0.137,-0.1604,-0.0698,-0.0326,0.0496,0.1207,0.0152,-0.0944,0.0445,-0.0418,0.019,-0.069,-0.1633,-0.1149,-0.0943,-0.1561,-0.1761,-0.2974,-0.3288,-0.3871,-0.1988,-0.1572,-0.2995,-0.1827,-0.3148,-0.2707,-0.2149,-0.239,-0.1899,-0.1655,-0.3745,-0.3792,-0.163,-0.1952,-0.2261,-0.1969,-0.2146,-0.1599,-0.2468,-0.1573,-0.1679,-0.2823,-0.2795,-0.1143,0.05,-0.1262,-0.1289,-0.1963,-0.2407,-0.2375,-0.3052,-0.2787,-0.2564,-0.1473,-0.2558,-0.4267,-0.144,-0.2692,-0.1695,-0.2238,-0.2698,-0.2985,-0.1939,-0.1282,-0.1809,-0.2061,-0.143,-0.1843,-0.0738,-0.1683,-0.1612,-0.1467,-0.0526,-0.0849,-0.0066,-0.1455,-0.1746,-0.1326,-0.2915,-0.2707,-0.1705,-0.1279,-0.2101,0.0077,-0.0037,-0.0666,-0.1391,-0.1459,-0.1241,0.0754,0.0385,0.0883,-0.0439,-0.2194,-0.2207,-0.1824,-0.0519,-0.0329,-0.0892,0.0284,0.0734,0.0348,-0.0296,-0.0205,-0.0775,-0.2672,-0.1786,-0.0817,-0.0725,-0.1491,-0.1692,-0.0738,-0.0499,-0.1357,-0.1229,0.0009],\"yaxis\":\"y\",\"type\":\"scattergl\"},{\"hovertemplate\":\"Source=GISTEMP\\u003cbr\\u003eDate=%{x}\\u003cbr\\u003eMean=%{y}\\u003cextra\\u003e\\u003c\\u002fextra\\u003e\",\"legendgroup\":\"GISTEMP\",\"line\":{\"color\":\"#EF553B\",\"dash\":\"solid\"},\"marker\":{\"symbol\":\"circle\"},\"mode\":\"lines\",\"name\":\"GISTEMP\",\"showlegend\":true,\"x\":[\"2016-12-06T00:00:00\",\"2016-11-06T00:00:00\",\"2016-10-06T00:00:00\",\"2016-09-06T00:00:00\",\"2016-08-06T00:00:00\",\"2016-07-06T00:00:00\",\"2016-06-06T00:00:00\",\"2016-05-06T00:00:00\",\"2016-04-06T00:00:00\",\"2016-03-06T00:00:00\",\"2016-02-06T00:00:00\",\"2016-01-06T00:00:00\",\"2015-12-06T00:00:00\",\"2015-11-06T00:00:00\",\"2015-10-06T00:00:00\",\"2015-09-06T00:00:00\",\"2015-08-06T00:00:00\",\"2015-07-06T00:00:00\",\"2015-06-06T00:00:00\",\"2015-05-06T00:00:00\",\"2015-04-06T00:00:00\",\"2015-03-06T00:00:00\",\"2015-02-06T00:00:00\",\"2015-01-06T00:00:00\",\"2014-12-06T00:00:00\",\"2014-11-06T00:00:00\",\"2014-10-06T00:00:00\",\"2014-09-06T00:00:00\",\"2014-08-06T00:00:00\",\"2014-07-06T00:00:00\",\"2014-06-06T00:00:00\",\"2014-05-06T00:00:00\",\"2014-04-06T00:00:00\",\"2014-03-06T00:00:00\",\"2014-02-06T00:00:00\",\"2014-01-06T00:00:00\",\"2013-12-06T00:00:00\",\"2013-11-06T00:00:00\",\"2013-10-06T00:00:00\",\"2013-09-06T00:00:00\",\"2013-08-06T00:00:00\",\"2013-07-06T00:00:00\",\"2013-06-06T00:00:00\",\"2013-05-06T00:00:00\",\"2013-04-06T00:00:00\",\"2013-03-06T00:00:00\",\"2013-02-06T00:00:00\",\"2013-01-06T00:00:00\",\"2012-12-06T00:00:00\",\"2012-11-06T00:00:00\",\"2012-10-06T00:00:00\",\"2012-09-06T00:00:00\",\"2012-08-06T00:00:00\",\"2012-07-06T00:00:00\",\"2012-06-06T00:00:00\",\"2012-05-06T00:00:00\",\"2012-04-06T00:00:00\",\"2012-03-06T00:00:00\",\"2012-02-06T00:00:00\",\"2012-01-06T00:00:00\",\"2011-12-06T00:00:00\",\"2011-11-06T00:00:00\",\"2011-10-06T00:00:00\",\"2011-09-06T00:00:00\",\"2011-08-06T00:00:00\",\"2011-07-06T00:00:00\",\"2011-06-06T00:00:00\",\"2011-05-06T00:00:00\",\"2011-04-06T00:00:00\",\"2011-03-06T00:00:00\",\"2011-02-06T00:00:00\",\"2011-01-06T00:00:00\",\"2010-12-06T00:00:00\",\"2010-11-06T00:00:00\",\"2010-10-06T00:00:00\",\"2010-09-06T00:00:00\",\"2010-08-06T00:00:00\",\"2010-07-06T00:00:00\",\"2010-06-06T00:00:00\",\"2010-05-06T00:00:00\",\"2010-04-06T00:00:00\",\"2010-03-06T00:00:00\",\"2010-02-06T00:00:00\",\"2010-01-06T00:00:00\",\"2009-12-06T00:00:00\",\"2009-11-06T00:00:00\",\"2009-10-06T00:00:00\",\"2009-09-06T00:00:00\",\"2009-08-06T00:00:00\",\"2009-07-06T00:00:00\",\"2009-06-06T00:00:00\",\"2009-05-06T00:00:00\",\"2009-04-06T00:00:00\",\"2009-03-06T00:00:00\",\"2009-02-06T00:00:00\",\"2009-01-06T00:00:00\",\"2008-12-06T00:00:00\",\"2008-11-06T00:00:00\",\"2008-10-06T00:00:00\",\"2008-09-06T00:00:00\",\"2008-08-06T00:00:00\",\"2008-07-06T00:00:00\",\"2008-06-06T00:00:00\",\"2008-05-06T00:00:00\",\"2008-04-06T00:00:00\",\"2008-03-06T00:00:00\",\"2008-02-06T00:00:00\",\"2008-01-06T00:00:00\",\"2007-12-06T00:00:00\",\"2007-11-06T00:00:00\",\"2007-10-06T00:00:00\",\"2007-09-06T00:00:00\",\"2007-08-06T00:00:00\",\"2007-07-06T00:00:00\",\"2007-06-06T00:00:00\",\"2007-05-06T00:00:00\",\"2007-04-06T00:00:00\",\"2007-03-06T00:00:00\",\"2007-02-06T00:00:00\",\"2007-01-06T00:00:00\",\"2006-12-06T00:00:00\",\"2006-11-06T00:00:00\",\"2006-10-06T00:00:00\",\"2006-09-06T00:00:00\",\"2006-08-06T00:00:00\",\"2006-07-06T00:00:00\",\"2006-06-06T00:00:00\",\"2006-05-06T00:00:00\",\"2006-04-06T00:00:00\",\"2006-03-06T00:00:00\",\"2006-02-06T00:00:00\",\"2006-01-06T00:00:00\",\"2005-12-06T00:00:00\",\"2005-11-06T00:00:00\",\"2005-10-06T00:00:00\",\"2005-09-06T00:00:00\",\"2005-08-06T00:00:00\",\"2005-07-06T00:00:00\",\"2005-06-06T00:00:00\",\"2005-05-06T00:00:00\",\"2005-04-06T00:00:00\",\"2005-03-06T00:00:00\",\"2005-02-06T00:00:00\",\"2005-01-06T00:00:00\",\"2004-12-06T00:00:00\",\"2004-11-06T00:00:00\",\"2004-10-06T00:00:00\",\"2004-09-06T00:00:00\",\"2004-08-06T00:00:00\",\"2004-07-06T00:00:00\",\"2004-06-06T00:00:00\",\"2004-05-06T00:00:00\",\"2004-04-06T00:00:00\",\"2004-03-06T00:00:00\",\"2004-02-06T00:00:00\",\"2004-01-06T00:00:00\",\"2003-12-06T00:00:00\",\"2003-11-06T00:00:00\",\"2003-10-06T00:00:00\",\"2003-09-06T00:00:00\",\"2003-08-06T00:00:00\",\"2003-07-06T00:00:00\",\"2003-06-06T00:00:00\",\"2003-05-06T00:00:00\",\"2003-04-06T00:00:00\",\"2003-03-06T00:00:00\",\"2003-02-06T00:00:00\",\"2003-01-06T00:00:00\",\"2002-12-06T00:00:00\",\"2002-11-06T00:00:00\",\"2002-10-06T00:00:00\",\"2002-09-06T00:00:00\",\"2002-08-06T00:00:00\",\"2002-07-06T00:00:00\",\"2002-06-06T00:00:00\",\"2002-05-06T00:00:00\",\"2002-04-06T00:00:00\",\"2002-03-06T00:00:00\",\"2002-02-06T00:00:00\",\"2002-01-06T00:00:00\",\"2001-12-06T00:00:00\",\"2001-11-06T00:00:00\",\"2001-10-06T00:00:00\",\"2001-09-06T00:00:00\",\"2001-08-06T00:00:00\",\"2001-07-06T00:00:00\",\"2001-06-06T00:00:00\",\"2001-05-06T00:00:00\",\"2001-04-06T00:00:00\",\"2001-03-06T00:00:00\",\"2001-02-06T00:00:00\",\"2001-01-06T00:00:00\",\"2000-12-06T00:00:00\",\"2000-11-06T00:00:00\",\"2000-10-06T00:00:00\",\"2000-09-06T00:00:00\",\"2000-08-06T00:00:00\",\"2000-07-06T00:00:00\",\"2000-06-06T00:00:00\",\"2000-05-06T00:00:00\",\"2000-04-06T00:00:00\",\"2000-03-06T00:00:00\",\"2000-02-06T00:00:00\",\"2000-01-06T00:00:00\",\"1999-12-06T00:00:00\",\"1999-11-06T00:00:00\",\"1999-10-06T00:00:00\",\"1999-09-06T00:00:00\",\"1999-08-06T00:00:00\",\"1999-07-06T00:00:00\",\"1999-06-06T00:00:00\",\"1999-05-06T00:00:00\",\"1999-04-06T00:00:00\",\"1999-03-06T00:00:00\",\"1999-02-06T00:00:00\",\"1999-01-06T00:00:00\",\"1998-12-06T00:00:00\",\"1998-11-06T00:00:00\",\"1998-10-06T00:00:00\",\"1998-09-06T00:00:00\",\"1998-08-06T00:00:00\",\"1998-07-06T00:00:00\",\"1998-06-06T00:00:00\",\"1998-05-06T00:00:00\",\"1998-04-06T00:00:00\",\"1998-03-06T00:00:00\",\"1998-02-06T00:00:00\",\"1998-01-06T00:00:00\",\"1997-12-06T00:00:00\",\"1997-11-06T00:00:00\",\"1997-10-06T00:00:00\",\"1997-09-06T00:00:00\",\"1997-08-06T00:00:00\",\"1997-07-06T00:00:00\",\"1997-06-06T00:00:00\",\"1997-05-06T00:00:00\",\"1997-04-06T00:00:00\",\"1997-03-06T00:00:00\",\"1997-02-06T00:00:00\",\"1997-01-06T00:00:00\",\"1996-12-06T00:00:00\",\"1996-11-06T00:00:00\",\"1996-10-06T00:00:00\",\"1996-09-06T00:00:00\",\"1996-08-06T00:00:00\",\"1996-07-06T00:00:00\",\"1996-06-06T00:00:00\",\"1996-05-06T00:00:00\",\"1996-04-06T00:00:00\",\"1996-03-06T00:00:00\",\"1996-02-06T00:00:00\",\"1996-01-06T00:00:00\",\"1995-12-06T00:00:00\",\"1995-11-06T00:00:00\",\"1995-10-06T00:00:00\",\"1995-09-06T00:00:00\",\"1995-08-06T00:00:00\",\"1995-07-06T00:00:00\",\"1995-06-06T00:00:00\",\"1995-05-06T00:00:00\",\"1995-04-06T00:00:00\",\"1995-03-06T00:00:00\",\"1995-02-06T00:00:00\",\"1995-01-06T00:00:00\",\"1994-12-06T00:00:00\",\"1994-11-06T00:00:00\",\"1994-10-06T00:00:00\",\"1994-09-06T00:00:00\",\"1994-08-06T00:00:00\",\"1994-07-06T00:00:00\",\"1994-06-06T00:00:00\",\"1994-05-06T00:00:00\",\"1994-04-06T00:00:00\",\"1994-03-06T00:00:00\",\"1994-02-06T00:00:00\",\"1994-01-06T00:00:00\",\"1993-12-06T00:00:00\",\"1993-11-06T00:00:00\",\"1993-10-06T00:00:00\",\"1993-09-06T00:00:00\",\"1993-08-06T00:00:00\",\"1993-07-06T00:00:00\",\"1993-06-06T00:00:00\",\"1993-05-06T00:00:00\",\"1993-04-06T00:00:00\",\"1993-03-06T00:00:00\",\"1993-02-06T00:00:00\",\"1993-01-06T00:00:00\",\"1992-12-06T00:00:00\",\"1992-11-06T00:00:00\",\"1992-10-06T00:00:00\",\"1992-09-06T00:00:00\",\"1992-08-06T00:00:00\",\"1992-07-06T00:00:00\",\"1992-06-06T00:00:00\",\"1992-05-06T00:00:00\",\"1992-04-06T00:00:00\",\"1992-03-06T00:00:00\",\"1992-02-06T00:00:00\",\"1992-01-06T00:00:00\",\"1991-12-06T00:00:00\",\"1991-11-06T00:00:00\",\"1991-10-06T00:00:00\",\"1991-09-06T00:00:00\",\"1991-08-06T00:00:00\",\"1991-07-06T00:00:00\",\"1991-06-06T00:00:00\",\"1991-05-06T00:00:00\",\"1991-04-06T00:00:00\",\"1991-03-06T00:00:00\",\"1991-02-06T00:00:00\",\"1991-01-06T00:00:00\",\"1990-12-06T00:00:00\",\"1990-11-06T00:00:00\",\"1990-10-06T00:00:00\",\"1990-09-06T00:00:00\",\"1990-08-06T00:00:00\",\"1990-07-06T00:00:00\",\"1990-06-06T00:00:00\",\"1990-05-06T00:00:00\",\"1990-04-06T00:00:00\",\"1990-03-06T00:00:00\",\"1990-02-06T00:00:00\",\"1990-01-06T00:00:00\",\"1989-12-06T00:00:00\",\"1989-11-06T00:00:00\",\"1989-10-06T00:00:00\",\"1989-09-06T00:00:00\",\"1989-08-06T00:00:00\",\"1989-07-06T00:00:00\",\"1989-06-06T00:00:00\",\"1989-05-06T00:00:00\",\"1989-04-06T00:00:00\",\"1989-03-06T00:00:00\",\"1989-02-06T00:00:00\",\"1989-01-06T00:00:00\",\"1988-12-06T00:00:00\",\"1988-11-06T00:00:00\",\"1988-10-06T00:00:00\",\"1988-09-06T00:00:00\",\"1988-08-06T00:00:00\",\"1988-07-06T00:00:00\",\"1988-06-06T00:00:00\",\"1988-05-06T00:00:00\",\"1988-04-06T00:00:00\",\"1988-03-06T00:00:00\",\"1988-02-06T00:00:00\",\"1988-01-06T00:00:00\",\"1987-12-06T00:00:00\",\"1987-11-06T00:00:00\",\"1987-10-06T00:00:00\",\"1987-09-06T00:00:00\",\"1987-08-06T00:00:00\",\"1987-07-06T00:00:00\",\"1987-06-06T00:00:00\",\"1987-05-06T00:00:00\",\"1987-04-06T00:00:00\",\"1987-03-06T00:00:00\",\"1987-02-06T00:00:00\",\"1987-01-06T00:00:00\",\"1986-12-06T00:00:00\",\"1986-11-06T00:00:00\",\"1986-10-06T00:00:00\",\"1986-09-06T00:00:00\",\"1986-08-06T00:00:00\",\"1986-07-06T00:00:00\",\"1986-06-06T00:00:00\",\"1986-05-06T00:00:00\",\"1986-04-06T00:00:00\",\"1986-03-06T00:00:00\",\"1986-02-06T00:00:00\",\"1986-01-06T00:00:00\",\"1985-12-06T00:00:00\",\"1985-11-06T00:00:00\",\"1985-10-06T00:00:00\",\"1985-09-06T00:00:00\",\"1985-08-06T00:00:00\",\"1985-07-06T00:00:00\",\"1985-06-06T00:00:00\",\"1985-05-06T00:00:00\",\"1985-04-06T00:00:00\",\"1985-03-06T00:00:00\",\"1985-02-06T00:00:00\",\"1985-01-06T00:00:00\",\"1984-12-06T00:00:00\",\"1984-11-06T00:00:00\",\"1984-10-06T00:00:00\",\"1984-09-06T00:00:00\",\"1984-08-06T00:00:00\",\"1984-07-06T00:00:00\",\"1984-06-06T00:00:00\",\"1984-05-06T00:00:00\",\"1984-04-06T00:00:00\",\"1984-03-06T00:00:00\",\"1984-02-06T00:00:00\",\"1984-01-06T00:00:00\",\"1983-12-06T00:00:00\",\"1983-11-06T00:00:00\",\"1983-10-06T00:00:00\",\"1983-09-06T00:00:00\",\"1983-08-06T00:00:00\",\"1983-07-06T00:00:00\",\"1983-06-06T00:00:00\",\"1983-05-06T00:00:00\",\"1983-04-06T00:00:00\",\"1983-03-06T00:00:00\",\"1983-02-06T00:00:00\",\"1983-01-06T00:00:00\",\"1982-12-06T00:00:00\",\"1982-11-06T00:00:00\",\"1982-10-06T00:00:00\",\"1982-09-06T00:00:00\",\"1982-08-06T00:00:00\",\"1982-07-06T00:00:00\",\"1982-06-06T00:00:00\",\"1982-05-06T00:00:00\",\"1982-04-06T00:00:00\",\"1982-03-06T00:00:00\",\"1982-02-06T00:00:00\",\"1982-01-06T00:00:00\",\"1981-12-06T00:00:00\",\"1981-11-06T00:00:00\",\"1981-10-06T00:00:00\",\"1981-09-06T00:00:00\",\"1981-08-06T00:00:00\",\"1981-07-06T00:00:00\",\"1981-06-06T00:00:00\",\"1981-05-06T00:00:00\",\"1981-04-06T00:00:00\",\"1981-03-06T00:00:00\",\"1981-02-06T00:00:00\",\"1981-01-06T00:00:00\",\"1980-12-06T00:00:00\",\"1980-11-06T00:00:00\",\"1980-10-06T00:00:00\",\"1980-09-06T00:00:00\",\"1980-08-06T00:00:00\",\"1980-07-06T00:00:00\",\"1980-06-06T00:00:00\",\"1980-05-06T00:00:00\",\"1980-04-06T00:00:00\",\"1980-03-06T00:00:00\",\"1980-02-06T00:00:00\",\"1980-01-06T00:00:00\",\"1979-12-06T00:00:00\",\"1979-11-06T00:00:00\",\"1979-10-06T00:00:00\",\"1979-09-06T00:00:00\",\"1979-08-06T00:00:00\",\"1979-07-06T00:00:00\",\"1979-06-06T00:00:00\",\"1979-05-06T00:00:00\",\"1979-04-06T00:00:00\",\"1979-03-06T00:00:00\",\"1979-02-06T00:00:00\",\"1979-01-06T00:00:00\",\"1978-12-06T00:00:00\",\"1978-11-06T00:00:00\",\"1978-10-06T00:00:00\",\"1978-09-06T00:00:00\",\"1978-08-06T00:00:00\",\"1978-07-06T00:00:00\",\"1978-06-06T00:00:00\",\"1978-05-06T00:00:00\",\"1978-04-06T00:00:00\",\"1978-03-06T00:00:00\",\"1978-02-06T00:00:00\",\"1978-01-06T00:00:00\",\"1977-12-06T00:00:00\",\"1977-11-06T00:00:00\",\"1977-10-06T00:00:00\",\"1977-09-06T00:00:00\",\"1977-08-06T00:00:00\",\"1977-07-06T00:00:00\",\"1977-06-06T00:00:00\",\"1977-05-06T00:00:00\",\"1977-04-06T00:00:00\",\"1977-03-06T00:00:00\",\"1977-02-06T00:00:00\",\"1977-01-06T00:00:00\",\"1976-12-06T00:00:00\",\"1976-11-06T00:00:00\",\"1976-10-06T00:00:00\",\"1976-09-06T00:00:00\",\"1976-08-06T00:00:00\",\"1976-07-06T00:00:00\",\"1976-06-06T00:00:00\",\"1976-05-06T00:00:00\",\"1976-04-06T00:00:00\",\"1976-03-06T00:00:00\",\"1976-02-06T00:00:00\",\"1976-01-06T00:00:00\",\"1975-12-06T00:00:00\",\"1975-11-06T00:00:00\",\"1975-10-06T00:00:00\",\"1975-09-06T00:00:00\",\"1975-08-06T00:00:00\",\"1975-07-06T00:00:00\",\"1975-06-06T00:00:00\",\"1975-05-06T00:00:00\",\"1975-04-06T00:00:00\",\"1975-03-06T00:00:00\",\"1975-02-06T00:00:00\",\"1975-01-06T00:00:00\",\"1974-12-06T00:00:00\",\"1974-11-06T00:00:00\",\"1974-10-06T00:00:00\",\"1974-09-06T00:00:00\",\"1974-08-06T00:00:00\",\"1974-07-06T00:00:00\",\"1974-06-06T00:00:00\",\"1974-05-06T00:00:00\",\"1974-04-06T00:00:00\",\"1974-03-06T00:00:00\",\"1974-02-06T00:00:00\",\"1974-01-06T00:00:00\",\"1973-12-06T00:00:00\",\"1973-11-06T00:00:00\",\"1973-10-06T00:00:00\",\"1973-09-06T00:00:00\",\"1973-08-06T00:00:00\",\"1973-07-06T00:00:00\",\"1973-06-06T00:00:00\",\"1973-05-06T00:00:00\",\"1973-04-06T00:00:00\",\"1973-03-06T00:00:00\",\"1973-02-06T00:00:00\",\"1973-01-06T00:00:00\",\"1972-12-06T00:00:00\",\"1972-11-06T00:00:00\",\"1972-10-06T00:00:00\",\"1972-09-06T00:00:00\",\"1972-08-06T00:00:00\",\"1972-07-06T00:00:00\",\"1972-06-06T00:00:00\",\"1972-05-06T00:00:00\",\"1972-04-06T00:00:00\",\"1972-03-06T00:00:00\",\"1972-02-06T00:00:00\",\"1972-01-06T00:00:00\",\"1971-12-06T00:00:00\",\"1971-11-06T00:00:00\",\"1971-10-06T00:00:00\",\"1971-09-06T00:00:00\",\"1971-08-06T00:00:00\",\"1971-07-06T00:00:00\",\"1971-06-06T00:00:00\",\"1971-05-06T00:00:00\",\"1971-04-06T00:00:00\",\"1971-03-06T00:00:00\",\"1971-02-06T00:00:00\",\"1971-01-06T00:00:00\",\"1970-12-06T00:00:00\",\"1970-11-06T00:00:00\",\"1970-10-06T00:00:00\",\"1970-09-06T00:00:00\",\"1970-08-06T00:00:00\",\"1970-07-06T00:00:00\",\"1970-06-06T00:00:00\",\"1970-05-06T00:00:00\",\"1970-04-06T00:00:00\",\"1970-03-06T00:00:00\",\"1970-02-06T00:00:00\",\"1970-01-06T00:00:00\",\"1969-12-06T00:00:00\",\"1969-11-06T00:00:00\",\"1969-10-06T00:00:00\",\"1969-09-06T00:00:00\",\"1969-08-06T00:00:00\",\"1969-07-06T00:00:00\",\"1969-06-06T00:00:00\",\"1969-05-06T00:00:00\",\"1969-04-06T00:00:00\",\"1969-03-06T00:00:00\",\"1969-02-06T00:00:00\",\"1969-01-06T00:00:00\",\"1968-12-06T00:00:00\",\"1968-11-06T00:00:00\",\"1968-10-06T00:00:00\",\"1968-09-06T00:00:00\",\"1968-08-06T00:00:00\",\"1968-07-06T00:00:00\",\"1968-06-06T00:00:00\",\"1968-05-06T00:00:00\",\"1968-04-06T00:00:00\",\"1968-03-06T00:00:00\",\"1968-02-06T00:00:00\",\"1968-01-06T00:00:00\",\"1967-12-06T00:00:00\",\"1967-11-06T00:00:00\",\"1967-10-06T00:00:00\",\"1967-09-06T00:00:00\",\"1967-08-06T00:00:00\",\"1967-07-06T00:00:00\",\"1967-06-06T00:00:00\",\"1967-05-06T00:00:00\",\"1967-04-06T00:00:00\",\"1967-03-06T00:00:00\",\"1967-02-06T00:00:00\",\"1967-01-06T00:00:00\",\"1966-12-06T00:00:00\",\"1966-11-06T00:00:00\",\"1966-10-06T00:00:00\",\"1966-09-06T00:00:00\",\"1966-08-06T00:00:00\",\"1966-07-06T00:00:00\",\"1966-06-06T00:00:00\",\"1966-05-06T00:00:00\",\"1966-04-06T00:00:00\",\"1966-03-06T00:00:00\",\"1966-02-06T00:00:00\",\"1966-01-06T00:00:00\",\"1965-12-06T00:00:00\",\"1965-11-06T00:00:00\",\"1965-10-06T00:00:00\",\"1965-09-06T00:00:00\",\"1965-08-06T00:00:00\",\"1965-07-06T00:00:00\",\"1965-06-06T00:00:00\",\"1965-05-06T00:00:00\",\"1965-04-06T00:00:00\",\"1965-03-06T00:00:00\",\"1965-02-06T00:00:00\",\"1965-01-06T00:00:00\",\"1964-12-06T00:00:00\",\"1964-11-06T00:00:00\",\"1964-10-06T00:00:00\",\"1964-09-06T00:00:00\",\"1964-08-06T00:00:00\",\"1964-07-06T00:00:00\",\"1964-06-06T00:00:00\",\"1964-05-06T00:00:00\",\"1964-04-06T00:00:00\",\"1964-03-06T00:00:00\",\"1964-02-06T00:00:00\",\"1964-01-06T00:00:00\",\"1963-12-06T00:00:00\",\"1963-11-06T00:00:00\",\"1963-10-06T00:00:00\",\"1963-09-06T00:00:00\",\"1963-08-06T00:00:00\",\"1963-07-06T00:00:00\",\"1963-06-06T00:00:00\",\"1963-05-06T00:00:00\",\"1963-04-06T00:00:00\",\"1963-03-06T00:00:00\",\"1963-02-06T00:00:00\",\"1963-01-06T00:00:00\",\"1962-12-06T00:00:00\",\"1962-11-06T00:00:00\",\"1962-10-06T00:00:00\",\"1962-09-06T00:00:00\",\"1962-08-06T00:00:00\",\"1962-07-06T00:00:00\",\"1962-06-06T00:00:00\",\"1962-05-06T00:00:00\",\"1962-04-06T00:00:00\",\"1962-03-06T00:00:00\",\"1962-02-06T00:00:00\",\"1962-01-06T00:00:00\",\"1961-12-06T00:00:00\",\"1961-11-06T00:00:00\",\"1961-10-06T00:00:00\",\"1961-09-06T00:00:00\",\"1961-08-06T00:00:00\",\"1961-07-06T00:00:00\",\"1961-06-06T00:00:00\",\"1961-05-06T00:00:00\",\"1961-04-06T00:00:00\",\"1961-03-06T00:00:00\",\"1961-02-06T00:00:00\",\"1961-01-06T00:00:00\",\"1960-12-06T00:00:00\",\"1960-11-06T00:00:00\",\"1960-10-06T00:00:00\",\"1960-09-06T00:00:00\",\"1960-08-06T00:00:00\",\"1960-07-06T00:00:00\",\"1960-06-06T00:00:00\",\"1960-05-06T00:00:00\",\"1960-04-06T00:00:00\",\"1960-03-06T00:00:00\",\"1960-02-06T00:00:00\",\"1960-01-06T00:00:00\",\"1959-12-06T00:00:00\",\"1959-11-06T00:00:00\",\"1959-10-06T00:00:00\",\"1959-09-06T00:00:00\",\"1959-08-06T00:00:00\",\"1959-07-06T00:00:00\",\"1959-06-06T00:00:00\",\"1959-05-06T00:00:00\",\"1959-04-06T00:00:00\",\"1959-03-06T00:00:00\",\"1959-02-06T00:00:00\",\"1959-01-06T00:00:00\",\"1958-12-06T00:00:00\",\"1958-11-06T00:00:00\",\"1958-10-06T00:00:00\",\"1958-09-06T00:00:00\",\"1958-08-06T00:00:00\",\"1958-07-06T00:00:00\",\"1958-06-06T00:00:00\",\"1958-05-06T00:00:00\",\"1958-04-06T00:00:00\",\"1958-03-06T00:00:00\",\"1958-02-06T00:00:00\",\"1958-01-06T00:00:00\",\"1957-12-06T00:00:00\",\"1957-11-06T00:00:00\",\"1957-10-06T00:00:00\",\"1957-09-06T00:00:00\",\"1957-08-06T00:00:00\",\"1957-07-06T00:00:00\",\"1957-06-06T00:00:00\",\"1957-05-06T00:00:00\",\"1957-04-06T00:00:00\",\"1957-03-06T00:00:00\",\"1957-02-06T00:00:00\",\"1957-01-06T00:00:00\",\"1956-12-06T00:00:00\",\"1956-11-06T00:00:00\",\"1956-10-06T00:00:00\",\"1956-09-06T00:00:00\",\"1956-08-06T00:00:00\",\"1956-07-06T00:00:00\",\"1956-06-06T00:00:00\",\"1956-05-06T00:00:00\",\"1956-04-06T00:00:00\",\"1956-03-06T00:00:00\",\"1956-02-06T00:00:00\",\"1956-01-06T00:00:00\",\"1955-12-06T00:00:00\",\"1955-11-06T00:00:00\",\"1955-10-06T00:00:00\",\"1955-09-06T00:00:00\",\"1955-08-06T00:00:00\",\"1955-07-06T00:00:00\",\"1955-06-06T00:00:00\",\"1955-05-06T00:00:00\",\"1955-04-06T00:00:00\",\"1955-03-06T00:00:00\",\"1955-02-06T00:00:00\",\"1955-01-06T00:00:00\",\"1954-12-06T00:00:00\",\"1954-11-06T00:00:00\",\"1954-10-06T00:00:00\",\"1954-09-06T00:00:00\",\"1954-08-06T00:00:00\",\"1954-07-06T00:00:00\",\"1954-06-06T00:00:00\",\"1954-05-06T00:00:00\",\"1954-04-06T00:00:00\",\"1954-03-06T00:00:00\",\"1954-02-06T00:00:00\",\"1954-01-06T00:00:00\",\"1953-12-06T00:00:00\",\"1953-11-06T00:00:00\",\"1953-10-06T00:00:00\",\"1953-09-06T00:00:00\",\"1953-08-06T00:00:00\",\"1953-07-06T00:00:00\",\"1953-06-06T00:00:00\",\"1953-05-06T00:00:00\",\"1953-04-06T00:00:00\",\"1953-03-06T00:00:00\",\"1953-02-06T00:00:00\",\"1953-01-06T00:00:00\",\"1952-12-06T00:00:00\",\"1952-11-06T00:00:00\",\"1952-10-06T00:00:00\",\"1952-09-06T00:00:00\",\"1952-08-06T00:00:00\",\"1952-07-06T00:00:00\",\"1952-06-06T00:00:00\",\"1952-05-06T00:00:00\",\"1952-04-06T00:00:00\",\"1952-03-06T00:00:00\",\"1952-02-06T00:00:00\",\"1952-01-06T00:00:00\",\"1951-12-06T00:00:00\",\"1951-11-06T00:00:00\",\"1951-10-06T00:00:00\",\"1951-09-06T00:00:00\",\"1951-08-06T00:00:00\",\"1951-07-06T00:00:00\",\"1951-06-06T00:00:00\",\"1951-05-06T00:00:00\",\"1951-04-06T00:00:00\",\"1951-03-06T00:00:00\",\"1951-02-06T00:00:00\",\"1951-01-06T00:00:00\",\"1950-12-06T00:00:00\",\"1950-11-06T00:00:00\",\"1950-10-06T00:00:00\",\"1950-09-06T00:00:00\",\"1950-08-06T00:00:00\",\"1950-07-06T00:00:00\",\"1950-06-06T00:00:00\",\"1950-05-06T00:00:00\",\"1950-04-06T00:00:00\",\"1950-03-06T00:00:00\",\"1950-02-06T00:00:00\",\"1950-01-06T00:00:00\",\"1949-12-06T00:00:00\",\"1949-11-06T00:00:00\",\"1949-10-06T00:00:00\",\"1949-09-06T00:00:00\",\"1949-08-06T00:00:00\",\"1949-07-06T00:00:00\",\"1949-06-06T00:00:00\",\"1949-05-06T00:00:00\",\"1949-04-06T00:00:00\",\"1949-03-06T00:00:00\",\"1949-02-06T00:00:00\",\"1949-01-06T00:00:00\",\"1948-12-06T00:00:00\",\"1948-11-06T00:00:00\",\"1948-10-06T00:00:00\",\"1948-09-06T00:00:00\",\"1948-08-06T00:00:00\",\"1948-07-06T00:00:00\",\"1948-06-06T00:00:00\",\"1948-05-06T00:00:00\",\"1948-04-06T00:00:00\",\"1948-03-06T00:00:00\",\"1948-02-06T00:00:00\",\"1948-01-06T00:00:00\",\"1947-12-06T00:00:00\",\"1947-11-06T00:00:00\",\"1947-10-06T00:00:00\",\"1947-09-06T00:00:00\",\"1947-08-06T00:00:00\",\"1947-07-06T00:00:00\",\"1947-06-06T00:00:00\",\"1947-05-06T00:00:00\",\"1947-04-06T00:00:00\",\"1947-03-06T00:00:00\",\"1947-02-06T00:00:00\",\"1947-01-06T00:00:00\",\"1946-12-06T00:00:00\",\"1946-11-06T00:00:00\",\"1946-10-06T00:00:00\",\"1946-09-06T00:00:00\",\"1946-08-06T00:00:00\",\"1946-07-06T00:00:00\",\"1946-06-06T00:00:00\",\"1946-05-06T00:00:00\",\"1946-04-06T00:00:00\",\"1946-03-06T00:00:00\",\"1946-02-06T00:00:00\",\"1946-01-06T00:00:00\",\"1945-12-06T00:00:00\",\"1945-11-06T00:00:00\",\"1945-10-06T00:00:00\",\"1945-09-06T00:00:00\",\"1945-08-06T00:00:00\",\"1945-07-06T00:00:00\",\"1945-06-06T00:00:00\",\"1945-05-06T00:00:00\",\"1945-04-06T00:00:00\",\"1945-03-06T00:00:00\",\"1945-02-06T00:00:00\",\"1945-01-06T00:00:00\",\"1944-12-06T00:00:00\",\"1944-11-06T00:00:00\",\"1944-10-06T00:00:00\",\"1944-09-06T00:00:00\",\"1944-08-06T00:00:00\",\"1944-07-06T00:00:00\",\"1944-06-06T00:00:00\",\"1944-05-06T00:00:00\",\"1944-04-06T00:00:00\",\"1944-03-06T00:00:00\",\"1944-02-06T00:00:00\",\"1944-01-06T00:00:00\",\"1943-12-06T00:00:00\",\"1943-11-06T00:00:00\",\"1943-10-06T00:00:00\",\"1943-09-06T00:00:00\",\"1943-08-06T00:00:00\",\"1943-07-06T00:00:00\",\"1943-06-06T00:00:00\",\"1943-05-06T00:00:00\",\"1943-04-06T00:00:00\",\"1943-03-06T00:00:00\",\"1943-02-06T00:00:00\",\"1943-01-06T00:00:00\",\"1942-12-06T00:00:00\",\"1942-11-06T00:00:00\",\"1942-10-06T00:00:00\",\"1942-09-06T00:00:00\",\"1942-08-06T00:00:00\",\"1942-07-06T00:00:00\",\"1942-06-06T00:00:00\",\"1942-05-06T00:00:00\",\"1942-04-06T00:00:00\",\"1942-03-06T00:00:00\",\"1942-02-06T00:00:00\",\"1942-01-06T00:00:00\",\"1941-12-06T00:00:00\",\"1941-11-06T00:00:00\",\"1941-10-06T00:00:00\",\"1941-09-06T00:00:00\",\"1941-08-06T00:00:00\",\"1941-07-06T00:00:00\",\"1941-06-06T00:00:00\",\"1941-05-06T00:00:00\",\"1941-04-06T00:00:00\",\"1941-03-06T00:00:00\",\"1941-02-06T00:00:00\",\"1941-01-06T00:00:00\",\"1940-12-06T00:00:00\",\"1940-11-06T00:00:00\",\"1940-10-06T00:00:00\",\"1940-09-06T00:00:00\",\"1940-08-06T00:00:00\",\"1940-07-06T00:00:00\",\"1940-06-06T00:00:00\",\"1940-05-06T00:00:00\",\"1940-04-06T00:00:00\",\"1940-03-06T00:00:00\",\"1940-02-06T00:00:00\",\"1940-01-06T00:00:00\",\"1939-12-06T00:00:00\",\"1939-11-06T00:00:00\",\"1939-10-06T00:00:00\",\"1939-09-06T00:00:00\",\"1939-08-06T00:00:00\",\"1939-07-06T00:00:00\",\"1939-06-06T00:00:00\",\"1939-05-06T00:00:00\",\"1939-04-06T00:00:00\",\"1939-03-06T00:00:00\",\"1939-02-06T00:00:00\",\"1939-01-06T00:00:00\",\"1938-12-06T00:00:00\",\"1938-11-06T00:00:00\",\"1938-10-06T00:00:00\",\"1938-09-06T00:00:00\",\"1938-08-06T00:00:00\",\"1938-07-06T00:00:00\",\"1938-06-06T00:00:00\",\"1938-05-06T00:00:00\",\"1938-04-06T00:00:00\",\"1938-03-06T00:00:00\",\"1938-02-06T00:00:00\",\"1938-01-06T00:00:00\",\"1937-12-06T00:00:00\",\"1937-11-06T00:00:00\",\"1937-10-06T00:00:00\",\"1937-09-06T00:00:00\",\"1937-08-06T00:00:00\",\"1937-07-06T00:00:00\",\"1937-06-06T00:00:00\",\"1937-05-06T00:00:00\",\"1937-04-06T00:00:00\",\"1937-03-06T00:00:00\",\"1937-02-06T00:00:00\",\"1937-01-06T00:00:00\",\"1936-12-06T00:00:00\",\"1936-11-06T00:00:00\",\"1936-10-06T00:00:00\",\"1936-09-06T00:00:00\",\"1936-08-06T00:00:00\",\"1936-07-06T00:00:00\",\"1936-06-06T00:00:00\",\"1936-05-06T00:00:00\",\"1936-04-06T00:00:00\",\"1936-03-06T00:00:00\",\"1936-02-06T00:00:00\",\"1936-01-06T00:00:00\",\"1935-12-06T00:00:00\",\"1935-11-06T00:00:00\",\"1935-10-06T00:00:00\",\"1935-09-06T00:00:00\",\"1935-08-06T00:00:00\",\"1935-07-06T00:00:00\",\"1935-06-06T00:00:00\",\"1935-05-06T00:00:00\",\"1935-04-06T00:00:00\",\"1935-03-06T00:00:00\",\"1935-02-06T00:00:00\",\"1935-01-06T00:00:00\",\"1934-12-06T00:00:00\",\"1934-11-06T00:00:00\",\"1934-10-06T00:00:00\",\"1934-09-06T00:00:00\",\"1934-08-06T00:00:00\",\"1934-07-06T00:00:00\",\"1934-06-06T00:00:00\",\"1934-05-06T00:00:00\",\"1934-04-06T00:00:00\",\"1934-03-06T00:00:00\",\"1934-02-06T00:00:00\",\"1934-01-06T00:00:00\",\"1933-12-06T00:00:00\",\"1933-11-06T00:00:00\",\"1933-10-06T00:00:00\",\"1933-09-06T00:00:00\",\"1933-08-06T00:00:00\",\"1933-07-06T00:00:00\",\"1933-06-06T00:00:00\",\"1933-05-06T00:00:00\",\"1933-04-06T00:00:00\",\"1933-03-06T00:00:00\",\"1933-02-06T00:00:00\",\"1933-01-06T00:00:00\",\"1932-12-06T00:00:00\",\"1932-11-06T00:00:00\",\"1932-10-06T00:00:00\",\"1932-09-06T00:00:00\",\"1932-08-06T00:00:00\",\"1932-07-06T00:00:00\",\"1932-06-06T00:00:00\",\"1932-05-06T00:00:00\",\"1932-04-06T00:00:00\",\"1932-03-06T00:00:00\",\"1932-02-06T00:00:00\",\"1932-01-06T00:00:00\",\"1931-12-06T00:00:00\",\"1931-11-06T00:00:00\",\"1931-10-06T00:00:00\",\"1931-09-06T00:00:00\",\"1931-08-06T00:00:00\",\"1931-07-06T00:00:00\",\"1931-06-06T00:00:00\",\"1931-05-06T00:00:00\",\"1931-04-06T00:00:00\",\"1931-03-06T00:00:00\",\"1931-02-06T00:00:00\",\"1931-01-06T00:00:00\",\"1930-12-06T00:00:00\",\"1930-11-06T00:00:00\",\"1930-10-06T00:00:00\",\"1930-09-06T00:00:00\",\"1930-08-06T00:00:00\",\"1930-07-06T00:00:00\",\"1930-06-06T00:00:00\",\"1930-05-06T00:00:00\",\"1930-04-06T00:00:00\",\"1930-03-06T00:00:00\",\"1930-02-06T00:00:00\",\"1930-01-06T00:00:00\",\"1929-12-06T00:00:00\",\"1929-11-06T00:00:00\",\"1929-10-06T00:00:00\",\"1929-09-06T00:00:00\",\"1929-08-06T00:00:00\",\"1929-07-06T00:00:00\",\"1929-06-06T00:00:00\",\"1929-05-06T00:00:00\",\"1929-04-06T00:00:00\",\"1929-03-06T00:00:00\",\"1929-02-06T00:00:00\",\"1929-01-06T00:00:00\",\"1928-12-06T00:00:00\",\"1928-11-06T00:00:00\",\"1928-10-06T00:00:00\",\"1928-09-06T00:00:00\",\"1928-08-06T00:00:00\",\"1928-07-06T00:00:00\",\"1928-06-06T00:00:00\",\"1928-05-06T00:00:00\",\"1928-04-06T00:00:00\",\"1928-03-06T00:00:00\",\"1928-02-06T00:00:00\",\"1928-01-06T00:00:00\",\"1927-12-06T00:00:00\",\"1927-11-06T00:00:00\",\"1927-10-06T00:00:00\",\"1927-09-06T00:00:00\",\"1927-08-06T00:00:00\",\"1927-07-06T00:00:00\",\"1927-06-06T00:00:00\",\"1927-05-06T00:00:00\",\"1927-04-06T00:00:00\",\"1927-03-06T00:00:00\",\"1927-02-06T00:00:00\",\"1927-01-06T00:00:00\",\"1926-12-06T00:00:00\",\"1926-11-06T00:00:00\",\"1926-10-06T00:00:00\",\"1926-09-06T00:00:00\",\"1926-08-06T00:00:00\",\"1926-07-06T00:00:00\",\"1926-06-06T00:00:00\",\"1926-05-06T00:00:00\",\"1926-04-06T00:00:00\",\"1926-03-06T00:00:00\",\"1926-02-06T00:00:00\",\"1926-01-06T00:00:00\",\"1925-12-06T00:00:00\",\"1925-11-06T00:00:00\",\"1925-10-06T00:00:00\",\"1925-09-06T00:00:00\",\"1925-08-06T00:00:00\",\"1925-07-06T00:00:00\",\"1925-06-06T00:00:00\",\"1925-05-06T00:00:00\",\"1925-04-06T00:00:00\",\"1925-03-06T00:00:00\",\"1925-02-06T00:00:00\",\"1925-01-06T00:00:00\",\"1924-12-06T00:00:00\",\"1924-11-06T00:00:00\",\"1924-10-06T00:00:00\",\"1924-09-06T00:00:00\",\"1924-08-06T00:00:00\",\"1924-07-06T00:00:00\",\"1924-06-06T00:00:00\",\"1924-05-06T00:00:00\",\"1924-04-06T00:00:00\",\"1924-03-06T00:00:00\",\"1924-02-06T00:00:00\",\"1924-01-06T00:00:00\",\"1923-12-06T00:00:00\",\"1923-11-06T00:00:00\",\"1923-10-06T00:00:00\",\"1923-09-06T00:00:00\",\"1923-08-06T00:00:00\",\"1923-07-06T00:00:00\",\"1923-06-06T00:00:00\",\"1923-05-06T00:00:00\",\"1923-04-06T00:00:00\",\"1923-03-06T00:00:00\",\"1923-02-06T00:00:00\",\"1923-01-06T00:00:00\",\"1922-12-06T00:00:00\",\"1922-11-06T00:00:00\",\"1922-10-06T00:00:00\",\"1922-09-06T00:00:00\",\"1922-08-06T00:00:00\",\"1922-07-06T00:00:00\",\"1922-06-06T00:00:00\",\"1922-05-06T00:00:00\",\"1922-04-06T00:00:00\",\"1922-03-06T00:00:00\",\"1922-02-06T00:00:00\",\"1922-01-06T00:00:00\",\"1921-12-06T00:00:00\",\"1921-11-06T00:00:00\",\"1921-10-06T00:00:00\",\"1921-09-06T00:00:00\",\"1921-08-06T00:00:00\",\"1921-07-06T00:00:00\",\"1921-06-06T00:00:00\",\"1921-05-06T00:00:00\",\"1921-04-06T00:00:00\",\"1921-03-06T00:00:00\",\"1921-02-06T00:00:00\",\"1921-01-06T00:00:00\",\"1920-12-06T00:00:00\",\"1920-11-06T00:00:00\",\"1920-10-06T00:00:00\",\"1920-09-06T00:00:00\",\"1920-08-06T00:00:00\",\"1920-07-06T00:00:00\",\"1920-06-06T00:00:00\",\"1920-05-06T00:00:00\",\"1920-04-06T00:00:00\",\"1920-03-06T00:00:00\",\"1920-02-06T00:00:00\",\"1920-01-06T00:00:00\",\"1919-12-06T00:00:00\",\"1919-11-06T00:00:00\",\"1919-10-06T00:00:00\",\"1919-09-06T00:00:00\",\"1919-08-06T00:00:00\",\"1919-07-06T00:00:00\",\"1919-06-06T00:00:00\",\"1919-05-06T00:00:00\",\"1919-04-06T00:00:00\",\"1919-03-06T00:00:00\",\"1919-02-06T00:00:00\",\"1919-01-06T00:00:00\",\"1918-12-06T00:00:00\",\"1918-11-06T00:00:00\",\"1918-10-06T00:00:00\",\"1918-09-06T00:00:00\",\"1918-08-06T00:00:00\",\"1918-07-06T00:00:00\",\"1918-06-06T00:00:00\",\"1918-05-06T00:00:00\",\"1918-04-06T00:00:00\",\"1918-03-06T00:00:00\",\"1918-02-06T00:00:00\",\"1918-01-06T00:00:00\",\"1917-12-06T00:00:00\",\"1917-11-06T00:00:00\",\"1917-10-06T00:00:00\",\"1917-09-06T00:00:00\",\"1917-08-06T00:00:00\",\"1917-07-06T00:00:00\",\"1917-06-06T00:00:00\",\"1917-05-06T00:00:00\",\"1917-04-06T00:00:00\",\"1917-03-06T00:00:00\",\"1917-02-06T00:00:00\",\"1917-01-06T00:00:00\",\"1916-12-06T00:00:00\",\"1916-11-06T00:00:00\",\"1916-10-06T00:00:00\",\"1916-09-06T00:00:00\",\"1916-08-06T00:00:00\",\"1916-07-06T00:00:00\",\"1916-06-06T00:00:00\",\"1916-05-06T00:00:00\",\"1916-04-06T00:00:00\",\"1916-03-06T00:00:00\",\"1916-02-06T00:00:00\",\"1916-01-06T00:00:00\",\"1915-12-06T00:00:00\",\"1915-11-06T00:00:00\",\"1915-10-06T00:00:00\",\"1915-09-06T00:00:00\",\"1915-08-06T00:00:00\",\"1915-07-06T00:00:00\",\"1915-06-06T00:00:00\",\"1915-05-06T00:00:00\",\"1915-04-06T00:00:00\",\"1915-03-06T00:00:00\",\"1915-02-06T00:00:00\",\"1915-01-06T00:00:00\",\"1914-12-06T00:00:00\",\"1914-11-06T00:00:00\",\"1914-10-06T00:00:00\",\"1914-09-06T00:00:00\",\"1914-08-06T00:00:00\",\"1914-07-06T00:00:00\",\"1914-06-06T00:00:00\",\"1914-05-06T00:00:00\",\"1914-04-06T00:00:00\",\"1914-03-06T00:00:00\",\"1914-02-06T00:00:00\",\"1914-01-06T00:00:00\",\"1913-12-06T00:00:00\",\"1913-11-06T00:00:00\",\"1913-10-06T00:00:00\",\"1913-09-06T00:00:00\",\"1913-08-06T00:00:00\",\"1913-07-06T00:00:00\",\"1913-06-06T00:00:00\",\"1913-05-06T00:00:00\",\"1913-04-06T00:00:00\",\"1913-03-06T00:00:00\",\"1913-02-06T00:00:00\",\"1913-01-06T00:00:00\",\"1912-12-06T00:00:00\",\"1912-11-06T00:00:00\",\"1912-10-06T00:00:00\",\"1912-09-06T00:00:00\",\"1912-08-06T00:00:00\",\"1912-07-06T00:00:00\",\"1912-06-06T00:00:00\",\"1912-05-06T00:00:00\",\"1912-04-06T00:00:00\",\"1912-03-06T00:00:00\",\"1912-02-06T00:00:00\",\"1912-01-06T00:00:00\",\"1911-12-06T00:00:00\",\"1911-11-06T00:00:00\",\"1911-10-06T00:00:00\",\"1911-09-06T00:00:00\",\"1911-08-06T00:00:00\",\"1911-07-06T00:00:00\",\"1911-06-06T00:00:00\",\"1911-05-06T00:00:00\",\"1911-04-06T00:00:00\",\"1911-03-06T00:00:00\",\"1911-02-06T00:00:00\",\"1911-01-06T00:00:00\",\"1910-12-06T00:00:00\",\"1910-11-06T00:00:00\",\"1910-10-06T00:00:00\",\"1910-09-06T00:00:00\",\"1910-08-06T00:00:00\",\"1910-07-06T00:00:00\",\"1910-06-06T00:00:00\",\"1910-05-06T00:00:00\",\"1910-04-06T00:00:00\",\"1910-03-06T00:00:00\",\"1910-02-06T00:00:00\",\"1910-01-06T00:00:00\",\"1909-12-06T00:00:00\",\"1909-11-06T00:00:00\",\"1909-10-06T00:00:00\",\"1909-09-06T00:00:00\",\"1909-08-06T00:00:00\",\"1909-07-06T00:00:00\",\"1909-06-06T00:00:00\",\"1909-05-06T00:00:00\",\"1909-04-06T00:00:00\",\"1909-03-06T00:00:00\",\"1909-02-06T00:00:00\",\"1909-01-06T00:00:00\",\"1908-12-06T00:00:00\",\"1908-11-06T00:00:00\",\"1908-10-06T00:00:00\",\"1908-09-06T00:00:00\",\"1908-08-06T00:00:00\",\"1908-07-06T00:00:00\",\"1908-06-06T00:00:00\",\"1908-05-06T00:00:00\",\"1908-04-06T00:00:00\",\"1908-03-06T00:00:00\",\"1908-02-06T00:00:00\",\"1908-01-06T00:00:00\",\"1907-12-06T00:00:00\",\"1907-11-06T00:00:00\",\"1907-10-06T00:00:00\",\"1907-09-06T00:00:00\",\"1907-08-06T00:00:00\",\"1907-07-06T00:00:00\",\"1907-06-06T00:00:00\",\"1907-05-06T00:00:00\",\"1907-04-06T00:00:00\",\"1907-03-06T00:00:00\",\"1907-02-06T00:00:00\",\"1907-01-06T00:00:00\",\"1906-12-06T00:00:00\",\"1906-11-06T00:00:00\",\"1906-10-06T00:00:00\",\"1906-09-06T00:00:00\",\"1906-08-06T00:00:00\",\"1906-07-06T00:00:00\",\"1906-06-06T00:00:00\",\"1906-05-06T00:00:00\",\"1906-04-06T00:00:00\",\"1906-03-06T00:00:00\",\"1906-02-06T00:00:00\",\"1906-01-06T00:00:00\",\"1905-12-06T00:00:00\",\"1905-11-06T00:00:00\",\"1905-10-06T00:00:00\",\"1905-09-06T00:00:00\",\"1905-08-06T00:00:00\",\"1905-07-06T00:00:00\",\"1905-06-06T00:00:00\",\"1905-05-06T00:00:00\",\"1905-04-06T00:00:00\",\"1905-03-06T00:00:00\",\"1905-02-06T00:00:00\",\"1905-01-06T00:00:00\",\"1904-12-06T00:00:00\",\"1904-11-06T00:00:00\",\"1904-10-06T00:00:00\",\"1904-09-06T00:00:00\",\"1904-08-06T00:00:00\",\"1904-07-06T00:00:00\",\"1904-06-06T00:00:00\",\"1904-05-06T00:00:00\",\"1904-04-06T00:00:00\",\"1904-03-06T00:00:00\",\"1904-02-06T00:00:00\",\"1904-01-06T00:00:00\",\"1903-12-06T00:00:00\",\"1903-11-06T00:00:00\",\"1903-10-06T00:00:00\",\"1903-09-06T00:00:00\",\"1903-08-06T00:00:00\",\"1903-07-06T00:00:00\",\"1903-06-06T00:00:00\",\"1903-05-06T00:00:00\",\"1903-04-06T00:00:00\",\"1903-03-06T00:00:00\",\"1903-02-06T00:00:00\",\"1903-01-06T00:00:00\",\"1902-12-06T00:00:00\",\"1902-11-06T00:00:00\",\"1902-10-06T00:00:00\",\"1902-09-06T00:00:00\",\"1902-08-06T00:00:00\",\"1902-07-06T00:00:00\",\"1902-06-06T00:00:00\",\"1902-05-06T00:00:00\",\"1902-04-06T00:00:00\",\"1902-03-06T00:00:00\",\"1902-02-06T00:00:00\",\"1902-01-06T00:00:00\",\"1901-12-06T00:00:00\",\"1901-11-06T00:00:00\",\"1901-10-06T00:00:00\",\"1901-09-06T00:00:00\",\"1901-08-06T00:00:00\",\"1901-07-06T00:00:00\",\"1901-06-06T00:00:00\",\"1901-05-06T00:00:00\",\"1901-04-06T00:00:00\",\"1901-03-06T00:00:00\",\"1901-02-06T00:00:00\",\"1901-01-06T00:00:00\",\"1900-12-06T00:00:00\",\"1900-11-06T00:00:00\",\"1900-10-06T00:00:00\",\"1900-09-06T00:00:00\",\"1900-08-06T00:00:00\",\"1900-07-06T00:00:00\",\"1900-06-06T00:00:00\",\"1900-05-06T00:00:00\",\"1900-04-06T00:00:00\",\"1900-03-06T00:00:00\",\"1900-02-06T00:00:00\",\"1900-01-06T00:00:00\",\"1899-12-06T00:00:00\",\"1899-11-06T00:00:00\",\"1899-10-06T00:00:00\",\"1899-09-06T00:00:00\",\"1899-08-06T00:00:00\",\"1899-07-06T00:00:00\",\"1899-06-06T00:00:00\",\"1899-05-06T00:00:00\",\"1899-04-06T00:00:00\",\"1899-03-06T00:00:00\",\"1899-02-06T00:00:00\",\"1899-01-06T00:00:00\",\"1898-12-06T00:00:00\",\"1898-11-06T00:00:00\",\"1898-10-06T00:00:00\",\"1898-09-06T00:00:00\",\"1898-08-06T00:00:00\",\"1898-07-06T00:00:00\",\"1898-06-06T00:00:00\",\"1898-05-06T00:00:00\",\"1898-04-06T00:00:00\",\"1898-03-06T00:00:00\",\"1898-02-06T00:00:00\",\"1898-01-06T00:00:00\",\"1897-12-06T00:00:00\",\"1897-11-06T00:00:00\",\"1897-10-06T00:00:00\",\"1897-09-06T00:00:00\",\"1897-08-06T00:00:00\",\"1897-07-06T00:00:00\",\"1897-06-06T00:00:00\",\"1897-05-06T00:00:00\",\"1897-04-06T00:00:00\",\"1897-03-06T00:00:00\",\"1897-02-06T00:00:00\",\"1897-01-06T00:00:00\",\"1896-12-06T00:00:00\",\"1896-11-06T00:00:00\",\"1896-10-06T00:00:00\",\"1896-09-06T00:00:00\",\"1896-08-06T00:00:00\",\"1896-07-06T00:00:00\",\"1896-06-06T00:00:00\",\"1896-05-06T00:00:00\",\"1896-04-06T00:00:00\",\"1896-03-06T00:00:00\",\"1896-02-06T00:00:00\",\"1896-01-06T00:00:00\",\"1895-12-06T00:00:00\",\"1895-11-06T00:00:00\",\"1895-10-06T00:00:00\",\"1895-09-06T00:00:00\",\"1895-08-06T00:00:00\",\"1895-07-06T00:00:00\",\"1895-06-06T00:00:00\",\"1895-05-06T00:00:00\",\"1895-04-06T00:00:00\",\"1895-03-06T00:00:00\",\"1895-02-06T00:00:00\",\"1895-01-06T00:00:00\",\"1894-12-06T00:00:00\",\"1894-11-06T00:00:00\",\"1894-10-06T00:00:00\",\"1894-09-06T00:00:00\",\"1894-08-06T00:00:00\",\"1894-07-06T00:00:00\",\"1894-06-06T00:00:00\",\"1894-05-06T00:00:00\",\"1894-04-06T00:00:00\",\"1894-03-06T00:00:00\",\"1894-02-06T00:00:00\",\"1894-01-06T00:00:00\",\"1893-12-06T00:00:00\",\"1893-11-06T00:00:00\",\"1893-10-06T00:00:00\",\"1893-09-06T00:00:00\",\"1893-08-06T00:00:00\",\"1893-07-06T00:00:00\",\"1893-06-06T00:00:00\",\"1893-05-06T00:00:00\",\"1893-04-06T00:00:00\",\"1893-03-06T00:00:00\",\"1893-02-06T00:00:00\",\"1893-01-06T00:00:00\",\"1892-12-06T00:00:00\",\"1892-11-06T00:00:00\",\"1892-10-06T00:00:00\",\"1892-09-06T00:00:00\",\"1892-08-06T00:00:00\",\"1892-07-06T00:00:00\",\"1892-06-06T00:00:00\",\"1892-05-06T00:00:00\",\"1892-04-06T00:00:00\",\"1892-03-06T00:00:00\",\"1892-02-06T00:00:00\",\"1892-01-06T00:00:00\",\"1891-12-06T00:00:00\",\"1891-11-06T00:00:00\",\"1891-10-06T00:00:00\",\"1891-09-06T00:00:00\",\"1891-08-06T00:00:00\",\"1891-07-06T00:00:00\",\"1891-06-06T00:00:00\",\"1891-05-06T00:00:00\",\"1891-04-06T00:00:00\",\"1891-03-06T00:00:00\",\"1891-02-06T00:00:00\",\"1891-01-06T00:00:00\",\"1890-12-06T00:00:00\",\"1890-11-06T00:00:00\",\"1890-10-06T00:00:00\",\"1890-09-06T00:00:00\",\"1890-08-06T00:00:00\",\"1890-07-06T00:00:00\",\"1890-06-06T00:00:00\",\"1890-05-06T00:00:00\",\"1890-04-06T00:00:00\",\"1890-03-06T00:00:00\",\"1890-02-06T00:00:00\",\"1890-01-06T00:00:00\",\"1889-12-06T00:00:00\",\"1889-11-06T00:00:00\",\"1889-10-06T00:00:00\",\"1889-09-06T00:00:00\",\"1889-08-06T00:00:00\",\"1889-07-06T00:00:00\",\"1889-06-06T00:00:00\",\"1889-05-06T00:00:00\",\"1889-04-06T00:00:00\",\"1889-03-06T00:00:00\",\"1889-02-06T00:00:00\",\"1889-01-06T00:00:00\",\"1888-12-06T00:00:00\",\"1888-11-06T00:00:00\",\"1888-10-06T00:00:00\",\"1888-09-06T00:00:00\",\"1888-08-06T00:00:00\",\"1888-07-06T00:00:00\",\"1888-06-06T00:00:00\",\"1888-05-06T00:00:00\",\"1888-04-06T00:00:00\",\"1888-03-06T00:00:00\",\"1888-02-06T00:00:00\",\"1888-01-06T00:00:00\",\"1887-12-06T00:00:00\",\"1887-11-06T00:00:00\",\"1887-10-06T00:00:00\",\"1887-09-06T00:00:00\",\"1887-08-06T00:00:00\",\"1887-07-06T00:00:00\",\"1887-06-06T00:00:00\",\"1887-05-06T00:00:00\",\"1887-04-06T00:00:00\",\"1887-03-06T00:00:00\",\"1887-02-06T00:00:00\",\"1887-01-06T00:00:00\",\"1886-12-06T00:00:00\",\"1886-11-06T00:00:00\",\"1886-10-06T00:00:00\",\"1886-09-06T00:00:00\",\"1886-08-06T00:00:00\",\"1886-07-06T00:00:00\",\"1886-06-06T00:00:00\",\"1886-05-06T00:00:00\",\"1886-04-06T00:00:00\",\"1886-03-06T00:00:00\",\"1886-02-06T00:00:00\",\"1886-01-06T00:00:00\",\"1885-12-06T00:00:00\",\"1885-11-06T00:00:00\",\"1885-10-06T00:00:00\",\"1885-09-06T00:00:00\",\"1885-08-06T00:00:00\",\"1885-07-06T00:00:00\",\"1885-06-06T00:00:00\",\"1885-05-06T00:00:00\",\"1885-04-06T00:00:00\",\"1885-03-06T00:00:00\",\"1885-02-06T00:00:00\",\"1885-01-06T00:00:00\",\"1884-12-06T00:00:00\",\"1884-11-06T00:00:00\",\"1884-10-06T00:00:00\",\"1884-09-06T00:00:00\",\"1884-08-06T00:00:00\",\"1884-07-06T00:00:00\",\"1884-06-06T00:00:00\",\"1884-05-06T00:00:00\",\"1884-04-06T00:00:00\",\"1884-03-06T00:00:00\",\"1884-02-06T00:00:00\",\"1884-01-06T00:00:00\",\"1883-12-06T00:00:00\",\"1883-11-06T00:00:00\",\"1883-10-06T00:00:00\",\"1883-09-06T00:00:00\",\"1883-08-06T00:00:00\",\"1883-07-06T00:00:00\",\"1883-06-06T00:00:00\",\"1883-05-06T00:00:00\",\"1883-04-06T00:00:00\",\"1883-03-06T00:00:00\",\"1883-02-06T00:00:00\",\"1883-01-06T00:00:00\",\"1882-12-06T00:00:00\",\"1882-11-06T00:00:00\",\"1882-10-06T00:00:00\",\"1882-09-06T00:00:00\",\"1882-08-06T00:00:00\",\"1882-07-06T00:00:00\",\"1882-06-06T00:00:00\",\"1882-05-06T00:00:00\",\"1882-04-06T00:00:00\",\"1882-03-06T00:00:00\",\"1882-02-06T00:00:00\",\"1882-01-06T00:00:00\",\"1881-12-06T00:00:00\",\"1881-11-06T00:00:00\",\"1881-10-06T00:00:00\",\"1881-09-06T00:00:00\",\"1881-08-06T00:00:00\",\"1881-07-06T00:00:00\",\"1881-06-06T00:00:00\",\"1881-05-06T00:00:00\",\"1881-04-06T00:00:00\",\"1881-03-06T00:00:00\",\"1881-02-06T00:00:00\",\"1881-01-06T00:00:00\",\"1880-12-06T00:00:00\",\"1880-11-06T00:00:00\",\"1880-10-06T00:00:00\",\"1880-09-06T00:00:00\",\"1880-08-06T00:00:00\",\"1880-07-06T00:00:00\",\"1880-06-06T00:00:00\",\"1880-05-06T00:00:00\",\"1880-04-06T00:00:00\",\"1880-03-06T00:00:00\",\"1880-02-06T00:00:00\",\"1880-01-06T00:00:00\"],\"xaxis\":\"x\",\"y\":[0.81,0.93,0.89,0.87,0.98,0.83,0.76,0.93,1.09,1.3,1.35,1.17,1.11,1.04,1.06,0.81,0.78,0.71,0.78,0.78,0.74,0.9,0.86,0.81,0.79,0.67,0.85,0.9,0.82,0.57,0.66,0.87,0.78,0.77,0.51,0.73,0.67,0.81,0.69,0.78,0.66,0.59,0.65,0.61,0.52,0.66,0.55,0.68,0.53,0.75,0.78,0.76,0.63,0.57,0.62,0.76,0.69,0.58,0.49,0.46,0.54,0.56,0.66,0.56,0.73,0.73,0.59,0.53,0.65,0.64,0.53,0.51,0.49,0.79,0.71,0.61,0.65,0.62,0.64,0.75,0.87,0.92,0.78,0.73,0.65,0.77,0.64,0.7,0.66,0.72,0.65,0.65,0.61,0.53,0.53,0.62,0.54,0.66,0.67,0.65,0.44,0.6,0.48,0.51,0.53,0.73,0.36,0.24,0.5,0.57,0.6,0.64,0.6,0.62,0.58,0.67,0.76,0.7,0.7,0.96,0.77,0.72,0.69,0.64,0.72,0.54,0.64,0.47,0.5,0.63,0.7,0.57,0.68,0.76,0.8,0.78,0.63,0.66,0.67,0.65,0.69,0.69,0.58,0.72,0.52,0.72,0.66,0.53,0.45,0.26,0.43,0.42,0.62,0.64,0.71,0.59,0.75,0.55,0.75,0.66,0.66,0.55,0.49,0.62,0.55,0.57,0.55,0.73,0.43,0.59,0.57,0.65,0.55,0.62,0.54,0.65,0.58,0.91,0.76,0.75,0.55,0.7,0.52,0.56,0.49,0.61,0.55,0.59,0.52,0.58,0.46,0.44,0.3,0.34,0.3,0.42,0.43,0.42,0.44,0.4,0.59,0.6,0.58,0.26,0.46,0.42,0.43,0.43,0.34,0.41,0.37,0.33,0.34,0.34,0.66,0.48,0.56,0.5,0.47,0.45,0.68,0.71,0.78,0.71,0.64,0.63,0.9,0.61,0.6,0.66,0.64,0.56,0.43,0.35,0.55,0.39,0.38,0.52,0.37,0.33,0.41,0.42,0.2,0.27,0.49,0.37,0.27,0.3,0.38,0.34,0.5,0.27,0.3,0.45,0.49,0.34,0.48,0.49,0.45,0.29,0.47,0.45,0.77,0.5,0.36,0.46,0.42,0.32,0.23,0.32,0.42,0.29,0.41,0.26,0.04,0.3,0.19,0.07,0.24,0.11,0.13,0.28,0.24,0.26,0.28,0.36,0.39,0.37,0.22,0.04,0.11,0.01,0.1,0.13,0.24,0.32,0.24,0.47,0.42,0.45,0.33,0.31,0.32,0.5,0.42,0.51,0.54,0.39,0.53,0.36,0.51,0.42,0.42,0.46,0.43,0.3,0.3,0.44,0.38,0.46,0.55,0.76,0.41,0.41,0.37,0.21,0.32,0.37,0.36,0.34,0.15,0.17,0.33,0.36,0.35,0.16,0.34,0.13,0.4,0.42,0.46,0.35,0.42,0.44,0.45,0.49,0.42,0.57,0.47,0.25,0.32,0.39,0.28,0.46,0.36,0.26,0.24,0.17,0.46,0.36,0.16,0.11,0.14,0.02,0.12,0.13,0.12,0.26,0.26,0.29,0.39,0.3,0.15,0.09,0.11,0.14,0.15,0.0,0.17,0.17,0.11,0.17,-0.06,0.21,-0.06,0.04,0.15,0.2,0.15,0.16,0.04,0.33,0.08,0.29,0.17,0.3,0.17,0.3,0.15,0.38,0.3,0.15,0.18,0.35,0.3,0.42,0.4,0.52,0.43,0.14,0.13,0.15,0.08,0.13,0.05,0.16,0.1,-0.01,0.14,0.09,0.4,0.21,0.13,0.17,0.35,0.35,0.31,0.25,0.32,0.48,0.41,0.56,0.21,0.3,0.2,0.21,0.24,0.28,0.16,0.34,0.32,0.29,0.42,0.3,0.47,0.29,0.26,0.27,0.14,0.03,0.14,0.06,0.13,0.19,-0.09,0.14,0.11,0.16,0.0,0.05,-0.18,0.07,-0.03,0.07,0.15,0.21,0.14,0.08,0.05,0.2,0.04,0.02,0.19,0.23,0.25,0.3,0.27,0.25,0.2,0.18,0.09,-0.06,-0.26,-0.09,-0.18,-0.12,-0.15,-0.23,-0.1,-0.21,-0.06,0.0,-0.17,-0.16,-0.09,-0.03,-0.2,-0.03,-0.02,0.16,0.06,0.14,0.07,0.07,-0.09,-0.07,-0.07,-0.12,0.12,-0.03,-0.05,-0.01,-0.1,-0.05,-0.28,-0.14,-0.06,0.06,0.12,0.06,0.02,0.09,0.16,0.26,0.25,0.26,0.3,0.28,0.18,0.03,0.09,0.03,0.18,0.02,0.04,-0.03,-0.01,0.02,-0.17,-0.24,-0.08,-0.04,-0.05,-0.01,-0.03,-0.12,-0.18,-0.06,-0.09,-0.18,-0.2,-0.02,-0.13,0.01,0.05,0.11,-0.11,-0.04,-0.03,-0.05,0.09,0.08,0.22,0.09,0.27,0.12,0.11,0.1,0.03,-0.01,0.05,0.2,0.19,0.0,-0.14,-0.11,-0.14,-0.04,0.12,-0.18,-0.11,-0.11,-0.06,-0.1,-0.05,0.21,-0.15,-0.23,-0.02,-0.06,0.06,-0.04,0.02,0.01,-0.08,0.14,-0.05,0.03,-0.2,-0.06,-0.06,-0.02,-0.15,-0.01,-0.1,0.09,0.02,-0.1,-0.13,0.04,0.0,-0.16,-0.05,-0.06,-0.04,-0.15,-0.01,-0.12,-0.08,-0.14,-0.2,-0.11,-0.17,-0.09,-0.3,-0.21,-0.3,-0.28,-0.2,-0.07,-0.07,-0.25,-0.3,-0.22,-0.12,-0.06,0.0,0.15,0.15,0.2,0.25,0.08,0.03,-0.09,-0.05,-0.13,0.19,-0.03,-0.01,0.06,-0.03,-0.01,-0.02,-0.02,0.06,-0.06,0.05,0.12,0.14,0.08,-0.15,0.03,0.0,0.05,0.02,-0.03,0.12,0.13,0.15,0.09,0.18,0.07,0.18,-0.11,0.07,0.05,-0.01,-0.02,0.01,-0.08,-0.16,-0.36,0.14,-0.01,-0.03,-0.09,-0.09,-0.06,-0.01,0.06,0.02,0.06,0.16,0.19,0.09,0.06,0.01,0.02,0.04,-0.03,-0.06,0.06,-0.05,0.08,0.01,0.1,0.24,0.39,0.16,0.07,0.01,0.06,0.14,0.01,0.16,0.08,-0.04,-0.05,-0.05,-0.14,-0.1,-0.17,-0.24,-0.22,-0.25,-0.12,-0.15,-0.28,-0.26,-0.23,-0.25,-0.17,-0.32,-0.28,-0.05,-0.13,0.04,-0.09,-0.08,-0.2,-0.23,-0.36,-0.21,0.11,-0.18,0.08,-0.01,-0.07,-0.13,-0.16,-0.16,-0.2,-0.18,-0.12,-0.1,-0.28,0.03,-0.05,0.05,0.06,0.08,0.02,0.08,0.08,0.2,0.11,0.16,0.09,-0.02,-0.17,-0.04,0.08,0.07,0.05,-0.04,-0.05,0.02,-0.1,0.12,0.16,0.15,0.0,0.06,0.07,0.05,0.0,-0.05,-0.02,-0.1,-0.19,-0.44,-0.35,-0.2,-0.35,-0.2,-0.1,-0.18,-0.09,-0.06,-0.12,-0.21,-0.06,-0.26,-0.3,-0.19,-0.08,-0.03,-0.08,-0.08,-0.13,-0.22,-0.09,-0.07,-0.01,-0.16,0.09,-0.23,-0.08,-0.07,-0.1,-0.1,-0.13,-0.05,0.08,-0.09,-0.23,-0.13,0.05,-0.18,-0.01,0.06,-0.14,-0.08,-0.06,0.0,-0.06,0.04,0.05,-0.08,-0.13,-0.29,-0.02,-0.06,-0.02,-0.08,-0.09,-0.17,-0.04,0.11,0.0,0.06,0.15,-0.1,0.1,0.22,0.22,0.25,0.07,0.02,0.1,0.24,0.11,0.02,0.13,0.05,0.12,0.27,0.31,0.23,0.23,0.22,0.26,0.27,0.34,0.31,0.41,0.28,0.25,0.3,0.11,0.03,0.14,-0.01,0.1,0.13,0.01,0.22,-0.01,0.12,0.13,0.06,0.0,-0.03,0.02,0.11,0.14,0.14,0.13,0.05,0.26,0.14,0.12,0.24,0.02,0.14,0.15,0.04,0.1,0.11,0.06,0.23,0.13,0.19,0.13,0.07,0.12,0.01,0.1,0.05,0.05,0.16,0.12,0.06,-0.15,0.4,0.06,-0.03,0.0,-0.05,-0.06,-0.08,-0.07,-0.12,-0.2,-0.12,-0.13,-0.26,0.01,0.11,0.03,-0.04,-0.09,-0.17,-0.07,0.05,0.05,-0.04,0.0,-0.12,0.09,0.1,0.14,0.03,-0.05,-0.08,-0.07,-0.17,-0.17,0.05,-0.11,-0.04,-0.05,-0.04,-0.06,-0.12,-0.06,-0.19,-0.17,-0.2,-0.23,-0.39,-0.29,-0.22,-0.29,-0.08,-0.17,-0.17,-0.19,-0.23,-0.26,-0.35,-0.13,0.11,-0.37,-0.09,-0.01,-0.11,-0.16,-0.1,-0.11,-0.14,-0.11,-0.27,-0.31,-0.04,-0.27,-0.47,-0.31,-0.24,-0.26,-0.23,-0.2,-0.32,-0.25,-0.23,-0.29,-0.32,-0.34,-0.22,-0.26,-0.1,-0.11,-0.24,-0.24,-0.3,-0.22,-0.07,-0.2,-0.18,0.13,-0.1,-0.12,0.0,-0.06,0.0,0.01,-0.06,-0.22,-0.21,-0.06,-0.22,-0.1,-0.09,0.14,-0.08,-0.11,-0.11,-0.17,-0.19,-0.25,-0.26,-0.08,-0.24,-0.29,-0.55,-0.14,-0.15,-0.23,-0.29,-0.33,-0.43,-0.39,-0.4,-0.34,-0.61,-0.47,-0.2,-0.09,-0.19,-0.2,-0.25,-0.21,-0.41,-0.3,-0.29,-0.28,-0.12,-0.04,-0.36,-0.04,-0.01,-0.06,-0.19,-0.15,-0.27,-0.25,-0.31,-0.39,-0.21,-0.28,-0.3,-0.06,-0.11,-0.11,-0.11,-0.21,-0.25,-0.25,-0.15,0.12,0.07,0.2,0.11,0.03,-0.17,-0.13,-0.19,-0.3,-0.34,-0.3,-0.25,-0.24,-0.35,-0.34,-0.43,-0.23,-0.36,-0.3,-0.35,-0.27,-0.28,-0.19,-0.35,-0.12,-0.27,-0.24,-0.06,0.03,-0.13,-0.28,-0.3,-0.29,-0.24,-0.33,-0.38,-0.32,-0.37,-0.27,-0.17,-0.17,-0.33,-0.29,-0.31,-0.27,-0.32,-0.34,-0.22,-0.13,-0.44,-0.34,-0.18,-0.16,-0.06,-0.16,-0.24,-0.16,-0.31,-0.36,-0.36,-0.28,-0.21,-0.04,-0.47,-0.33,-0.29,-0.2,-0.29,-0.32,-0.33,-0.26,-0.26,-0.08,-0.22,-0.15,-0.35,-0.29,-0.16,-0.17,-0.19,-0.21,-0.28,-0.2,-0.17,-0.25,-0.19,-0.21,-0.3,-0.16,-0.03,-0.14,-0.26,-0.22,-0.28,-0.37,-0.4,-0.21,-0.33,-0.44,-0.71,-0.29,-0.35,-0.18,-0.26,-0.23,-0.4,-0.48,-0.38,-0.47,-0.53,-0.46,-0.78,-0.42,-0.28,-0.29,-0.27,-0.34,-0.44,-0.27,-0.25,-0.31,-0.23,-0.2,-0.25,-0.12,-0.22,-0.12,-0.15,-0.03,-0.16,-0.01,0.07,-0.08,-0.01,-0.2,-0.1,-0.2,-0.05,-0.13,-0.15,-0.24,-0.22,-0.19,-0.28,-0.23,-0.13,0.02,-0.04,-0.18,-0.34,-0.32,-0.32,-0.34,-0.46,-0.45,-0.36,-0.44,-0.44,-0.41,-0.42,-0.38,-0.55,-0.47,-0.51,-0.41,-0.26,-0.2,-0.2,-0.37,-0.13,-0.27,-0.25,-0.2,-0.26,-0.38,-0.43,-0.41,-0.47,-0.51,-0.55,-0.62,-0.6,-0.64,-0.69,-0.56,-0.39,-0.37,-0.34,-0.31,-0.36,-0.34,-0.39,-0.47,-0.43,-0.44,-0.55,-0.31,-0.39,-0.37,-0.3,-0.43,-0.52,-0.54,-0.59,-0.52,-0.47,-0.7,-0.5,-0.51,-0.43,-0.33,-0.45,-0.35,-0.39,-0.4,-0.46,-0.58,-0.36,-0.46,-0.5,-0.51,-0.24,-0.32,-0.37,-0.35,-0.43,-0.46,-0.4,-0.25,-0.53,-0.44,-0.18,-0.38,-0.2,-0.25,-0.19,-0.27,-0.22,-0.21,-0.02,-0.15,-0.34,-0.31,-0.21,-0.08,-0.23,-0.15,-0.21,-0.25,-0.31,-0.33,-0.36,-0.25,-0.59,-0.38,-0.29,-0.16,-0.35,-0.47,-0.43,-0.48,-0.49,-0.5,-0.5,-0.46,-0.55,-0.64,-0.47,-0.38,-0.42,-0.43,-0.44,-0.3,-0.44,-0.41,-0.39,-0.23,-0.06,-0.27,-0.46,-0.36,-0.27,-0.2,-0.28,-0.26,-0.34,-0.31,-0.27,-0.29,-0.03,-0.19,-0.3,-0.17,-0.29,-0.17,-0.13,-0.09,-0.1,-0.18,-0.06,0.05,-0.05,-0.3,-0.14,-0.13,0.08,0.01,-0.04,-0.09,-0.15,-0.06,-0.14,0.02,-0.08,-0.4,-0.27,0.12,0.0,0.0,-0.04,-0.13,-0.26,-0.2,-0.21,-0.35,-0.39,-0.18,-0.22,-0.35,-0.32,-0.19,-0.22,-0.22,-0.2,-0.35,-0.33,-0.55,-0.34,-0.06,-0.26,-0.18,-0.1,-0.04,-0.03,-0.04,-0.12,0.0,-0.01,-0.12,-0.19,-0.22,-0.12,-0.16,0.04,-0.05,-0.09,-0.06,-0.13,-0.19,-0.33,-0.29,-0.15,-0.23,-0.12,-0.15,-0.11,-0.02,-0.16,-0.16,-0.25,-0.23,-0.23,-0.3,-0.42,-0.44,-0.22,-0.25,-0.17,-0.23,-0.29,-0.32,-0.43,-0.3,-0.41,-0.2,-0.31,-0.55,-0.38,-0.17,-0.16,-0.18,-0.24,-0.14,-0.24,-0.35,-0.32,-0.24,-0.51,-0.69,-0.29,-0.49,-0.17,-0.25,-0.2,-0.28,-0.2,-0.25,-0.35,-0.36,-0.15,-0.26,-0.03,-0.37,-0.24,-0.13,-0.21,-0.22,-0.22,-0.17,-0.25,-0.15,-0.49,-0.46,-0.3,-0.37,-0.23,-0.36,-0.36,-0.3,-0.27,-0.48,-0.38,-0.41,-0.48,-0.48,-0.31,-0.32,-0.22,-0.18,-0.18,-0.05,-0.12,-0.03,0.04,0.04,0.14,-0.21,-0.12,0.0,0.01,-0.07,-0.11,-0.1,-0.2,-0.22,-0.28,-0.47,-0.43,-0.43,-0.38,-0.25,-0.32,-0.19,-0.28,-0.19,-0.21,-0.33,-0.37,-0.32,-0.48,-0.66,-0.25,-0.26,-0.25,-0.19,-0.31,-0.16,-0.39,-0.27,-0.29,-0.41,-0.46,-0.43,-0.07,-0.22,-0.2,-0.19,-0.27,-0.29,-0.5,-0.42,-0.45,-0.24,-0.3,-0.66,-0.3,-0.3,-0.22,-0.24,-0.27,-0.35,-0.38,-0.32,-0.36,-0.36,-0.13,-0.18,-0.19,-0.21,-0.12,-0.19,-0.14,-0.09,-0.13,-0.26,-0.25,-0.18,-0.42,-0.34,-0.25,-0.21,-0.23,-0.01,0.03,-0.11,-0.25,-0.18,-0.2,0.01,0.08,0.09,-0.16,-0.26,-0.2,-0.09,-0.03,-0.07,-0.28,-0.04,-0.03,0.01,-0.14,-0.1,-0.22,-0.19,-0.16,-0.17,-0.08,-0.24,-0.29,-0.14,-0.27,-0.18,-0.21,-0.3],\"yaxis\":\"y\",\"type\":\"scattergl\"}],                        {\"template\":{\"data\":{\"histogram2dcontour\":[{\"type\":\"histogram2dcontour\",\"colorbar\":{\"outlinewidth\":0,\"ticks\":\"\"},\"colorscale\":[[0.0,\"#0d0887\"],[0.1111111111111111,\"#46039f\"],[0.2222222222222222,\"#7201a8\"],[0.3333333333333333,\"#9c179e\"],[0.4444444444444444,\"#bd3786\"],[0.5555555555555556,\"#d8576b\"],[0.6666666666666666,\"#ed7953\"],[0.7777777777777778,\"#fb9f3a\"],[0.8888888888888888,\"#fdca26\"],[1.0,\"#f0f921\"]]}],\"choropleth\":[{\"type\":\"choropleth\",\"colorbar\":{\"outlinewidth\":0,\"ticks\":\"\"}}],\"histogram2d\":[{\"type\":\"histogram2d\",\"colorbar\":{\"outlinewidth\":0,\"ticks\":\"\"},\"colorscale\":[[0.0,\"#0d0887\"],[0.1111111111111111,\"#46039f\"],[0.2222222222222222,\"#7201a8\"],[0.3333333333333333,\"#9c179e\"],[0.4444444444444444,\"#bd3786\"],[0.5555555555555556,\"#d8576b\"],[0.6666666666666666,\"#ed7953\"],[0.7777777777777778,\"#fb9f3a\"],[0.8888888888888888,\"#fdca26\"],[1.0,\"#f0f921\"]]}],\"heatmap\":[{\"type\":\"heatmap\",\"colorbar\":{\"outlinewidth\":0,\"ticks\":\"\"},\"colorscale\":[[0.0,\"#0d0887\"],[0.1111111111111111,\"#46039f\"],[0.2222222222222222,\"#7201a8\"],[0.3333333333333333,\"#9c179e\"],[0.4444444444444444,\"#bd3786\"],[0.5555555555555556,\"#d8576b\"],[0.6666666666666666,\"#ed7953\"],[0.7777777777777778,\"#fb9f3a\"],[0.8888888888888888,\"#fdca26\"],[1.0,\"#f0f921\"]]}],\"heatmapgl\":[{\"type\":\"heatmapgl\",\"colorbar\":{\"outlinewidth\":0,\"ticks\":\"\"},\"colorscale\":[[0.0,\"#0d0887\"],[0.1111111111111111,\"#46039f\"],[0.2222222222222222,\"#7201a8\"],[0.3333333333333333,\"#9c179e\"],[0.4444444444444444,\"#bd3786\"],[0.5555555555555556,\"#d8576b\"],[0.6666666666666666,\"#ed7953\"],[0.7777777777777778,\"#fb9f3a\"],[0.8888888888888888,\"#fdca26\"],[1.0,\"#f0f921\"]]}],\"contourcarpet\":[{\"type\":\"contourcarpet\",\"colorbar\":{\"outlinewidth\":0,\"ticks\":\"\"}}],\"contour\":[{\"type\":\"contour\",\"colorbar\":{\"outlinewidth\":0,\"ticks\":\"\"},\"colorscale\":[[0.0,\"#0d0887\"],[0.1111111111111111,\"#46039f\"],[0.2222222222222222,\"#7201a8\"],[0.3333333333333333,\"#9c179e\"],[0.4444444444444444,\"#bd3786\"],[0.5555555555555556,\"#d8576b\"],[0.6666666666666666,\"#ed7953\"],[0.7777777777777778,\"#fb9f3a\"],[0.8888888888888888,\"#fdca26\"],[1.0,\"#f0f921\"]]}],\"surface\":[{\"type\":\"surface\",\"colorbar\":{\"outlinewidth\":0,\"ticks\":\"\"},\"colorscale\":[[0.0,\"#0d0887\"],[0.1111111111111111,\"#46039f\"],[0.2222222222222222,\"#7201a8\"],[0.3333333333333333,\"#9c179e\"],[0.4444444444444444,\"#bd3786\"],[0.5555555555555556,\"#d8576b\"],[0.6666666666666666,\"#ed7953\"],[0.7777777777777778,\"#fb9f3a\"],[0.8888888888888888,\"#fdca26\"],[1.0,\"#f0f921\"]]}],\"mesh3d\":[{\"type\":\"mesh3d\",\"colorbar\":{\"outlinewidth\":0,\"ticks\":\"\"}}],\"scatter\":[{\"fillpattern\":{\"fillmode\":\"overlay\",\"size\":10,\"solidity\":0.2},\"type\":\"scatter\"}],\"parcoords\":[{\"type\":\"parcoords\",\"line\":{\"colorbar\":{\"outlinewidth\":0,\"ticks\":\"\"}}}],\"scatterpolargl\":[{\"type\":\"scatterpolargl\",\"marker\":{\"colorbar\":{\"outlinewidth\":0,\"ticks\":\"\"}}}],\"bar\":[{\"error_x\":{\"color\":\"#2a3f5f\"},\"error_y\":{\"color\":\"#2a3f5f\"},\"marker\":{\"line\":{\"color\":\"#E5ECF6\",\"width\":0.5},\"pattern\":{\"fillmode\":\"overlay\",\"size\":10,\"solidity\":0.2}},\"type\":\"bar\"}],\"scattergeo\":[{\"type\":\"scattergeo\",\"marker\":{\"colorbar\":{\"outlinewidth\":0,\"ticks\":\"\"}}}],\"scatterpolar\":[{\"type\":\"scatterpolar\",\"marker\":{\"colorbar\":{\"outlinewidth\":0,\"ticks\":\"\"}}}],\"histogram\":[{\"marker\":{\"pattern\":{\"fillmode\":\"overlay\",\"size\":10,\"solidity\":0.2}},\"type\":\"histogram\"}],\"scattergl\":[{\"type\":\"scattergl\",\"marker\":{\"colorbar\":{\"outlinewidth\":0,\"ticks\":\"\"}}}],\"scatter3d\":[{\"type\":\"scatter3d\",\"line\":{\"colorbar\":{\"outlinewidth\":0,\"ticks\":\"\"}},\"marker\":{\"colorbar\":{\"outlinewidth\":0,\"ticks\":\"\"}}}],\"scattermapbox\":[{\"type\":\"scattermapbox\",\"marker\":{\"colorbar\":{\"outlinewidth\":0,\"ticks\":\"\"}}}],\"scatterternary\":[{\"type\":\"scatterternary\",\"marker\":{\"colorbar\":{\"outlinewidth\":0,\"ticks\":\"\"}}}],\"scattercarpet\":[{\"type\":\"scattercarpet\",\"marker\":{\"colorbar\":{\"outlinewidth\":0,\"ticks\":\"\"}}}],\"carpet\":[{\"aaxis\":{\"endlinecolor\":\"#2a3f5f\",\"gridcolor\":\"white\",\"linecolor\":\"white\",\"minorgridcolor\":\"white\",\"startlinecolor\":\"#2a3f5f\"},\"baxis\":{\"endlinecolor\":\"#2a3f5f\",\"gridcolor\":\"white\",\"linecolor\":\"white\",\"minorgridcolor\":\"white\",\"startlinecolor\":\"#2a3f5f\"},\"type\":\"carpet\"}],\"table\":[{\"cells\":{\"fill\":{\"color\":\"#EBF0F8\"},\"line\":{\"color\":\"white\"}},\"header\":{\"fill\":{\"color\":\"#C8D4E3\"},\"line\":{\"color\":\"white\"}},\"type\":\"table\"}],\"barpolar\":[{\"marker\":{\"line\":{\"color\":\"#E5ECF6\",\"width\":0.5},\"pattern\":{\"fillmode\":\"overlay\",\"size\":10,\"solidity\":0.2}},\"type\":\"barpolar\"}],\"pie\":[{\"automargin\":true,\"type\":\"pie\"}]},\"layout\":{\"autotypenumbers\":\"strict\",\"colorway\":[\"#636efa\",\"#EF553B\",\"#00cc96\",\"#ab63fa\",\"#FFA15A\",\"#19d3f3\",\"#FF6692\",\"#B6E880\",\"#FF97FF\",\"#FECB52\"],\"font\":{\"color\":\"#2a3f5f\"},\"hovermode\":\"closest\",\"hoverlabel\":{\"align\":\"left\"},\"paper_bgcolor\":\"white\",\"plot_bgcolor\":\"#E5ECF6\",\"polar\":{\"bgcolor\":\"#E5ECF6\",\"angularaxis\":{\"gridcolor\":\"white\",\"linecolor\":\"white\",\"ticks\":\"\"},\"radialaxis\":{\"gridcolor\":\"white\",\"linecolor\":\"white\",\"ticks\":\"\"}},\"ternary\":{\"bgcolor\":\"#E5ECF6\",\"aaxis\":{\"gridcolor\":\"white\",\"linecolor\":\"white\",\"ticks\":\"\"},\"baxis\":{\"gridcolor\":\"white\",\"linecolor\":\"white\",\"ticks\":\"\"},\"caxis\":{\"gridcolor\":\"white\",\"linecolor\":\"white\",\"ticks\":\"\"}},\"coloraxis\":{\"colorbar\":{\"outlinewidth\":0,\"ticks\":\"\"}},\"colorscale\":{\"sequential\":[[0.0,\"#0d0887\"],[0.1111111111111111,\"#46039f\"],[0.2222222222222222,\"#7201a8\"],[0.3333333333333333,\"#9c179e\"],[0.4444444444444444,\"#bd3786\"],[0.5555555555555556,\"#d8576b\"],[0.6666666666666666,\"#ed7953\"],[0.7777777777777778,\"#fb9f3a\"],[0.8888888888888888,\"#fdca26\"],[1.0,\"#f0f921\"]],\"sequentialminus\":[[0.0,\"#0d0887\"],[0.1111111111111111,\"#46039f\"],[0.2222222222222222,\"#7201a8\"],[0.3333333333333333,\"#9c179e\"],[0.4444444444444444,\"#bd3786\"],[0.5555555555555556,\"#d8576b\"],[0.6666666666666666,\"#ed7953\"],[0.7777777777777778,\"#fb9f3a\"],[0.8888888888888888,\"#fdca26\"],[1.0,\"#f0f921\"]],\"diverging\":[[0,\"#8e0152\"],[0.1,\"#c51b7d\"],[0.2,\"#de77ae\"],[0.3,\"#f1b6da\"],[0.4,\"#fde0ef\"],[0.5,\"#f7f7f7\"],[0.6,\"#e6f5d0\"],[0.7,\"#b8e186\"],[0.8,\"#7fbc41\"],[0.9,\"#4d9221\"],[1,\"#276419\"]]},\"xaxis\":{\"gridcolor\":\"white\",\"linecolor\":\"white\",\"ticks\":\"\",\"title\":{\"standoff\":15},\"zerolinecolor\":\"white\",\"automargin\":true,\"zerolinewidth\":2},\"yaxis\":{\"gridcolor\":\"white\",\"linecolor\":\"white\",\"ticks\":\"\",\"title\":{\"standoff\":15},\"zerolinecolor\":\"white\",\"automargin\":true,\"zerolinewidth\":2},\"scene\":{\"xaxis\":{\"backgroundcolor\":\"#E5ECF6\",\"gridcolor\":\"white\",\"linecolor\":\"white\",\"showbackground\":true,\"ticks\":\"\",\"zerolinecolor\":\"white\",\"gridwidth\":2},\"yaxis\":{\"backgroundcolor\":\"#E5ECF6\",\"gridcolor\":\"white\",\"linecolor\":\"white\",\"showbackground\":true,\"ticks\":\"\",\"zerolinecolor\":\"white\",\"gridwidth\":2},\"zaxis\":{\"backgroundcolor\":\"#E5ECF6\",\"gridcolor\":\"white\",\"linecolor\":\"white\",\"showbackground\":true,\"ticks\":\"\",\"zerolinecolor\":\"white\",\"gridwidth\":2}},\"shapedefaults\":{\"line\":{\"color\":\"#2a3f5f\"}},\"annotationdefaults\":{\"arrowcolor\":\"#2a3f5f\",\"arrowhead\":0,\"arrowwidth\":1},\"geo\":{\"bgcolor\":\"white\",\"landcolor\":\"#E5ECF6\",\"subunitcolor\":\"white\",\"showland\":true,\"showlakes\":true,\"lakecolor\":\"white\"},\"title\":{\"x\":0.05},\"mapbox\":{\"style\":\"light\"}}},\"xaxis\":{\"anchor\":\"y\",\"domain\":[0.0,1.0],\"title\":{\"text\":\"Date\"}},\"yaxis\":{\"anchor\":\"x\",\"domain\":[0.0,1.0],\"title\":{\"text\":\"Mean\"}},\"legend\":{\"title\":{\"text\":\"Source\"},\"tracegroupgap\":0},\"margin\":{\"t\":60}},                        {\"responsive\": true}                    ).then(function(){\n",
              "                            \n",
              "var gd = document.getElementById('7d8b7c34-543c-4ae3-b52e-4442fd98aea2');\n",
              "var x = new MutationObserver(function (mutations, observer) {{\n",
              "        var display = window.getComputedStyle(gd).display;\n",
              "        if (!display || display === 'none') {{\n",
              "            console.log([gd, 'removed!']);\n",
              "            Plotly.purge(gd);\n",
              "            observer.disconnect();\n",
              "        }}\n",
              "}});\n",
              "\n",
              "// Listen for the removal of the full notebook cells\n",
              "var notebookContainer = gd.closest('#notebook-container');\n",
              "if (notebookContainer) {{\n",
              "    x.observe(notebookContainer, {childList: true});\n",
              "}}\n",
              "\n",
              "// Listen for the clearing of the current output cell\n",
              "var outputEl = gd.closest('.output');\n",
              "if (outputEl) {{\n",
              "    x.observe(outputEl, {childList: true});\n",
              "}}\n",
              "\n",
              "                        })                };                            </script>        </div>\n",
              "</body>\n",
              "</html>"
            ]
          },
          "metadata": {}
        }
      ]
    },
    {
      "cell_type": "code",
      "source": [
        "x_train_gcag, x_test_gcag = df_new[['Date','GCAG_ma']][:1316], df_new[['Date','GCAG_ma']][1316:]\n",
        "y_train_gcag, y_test_gcag = df_new['GCAG'][:1316], df_new['GCAG'][1316:]"
      ],
      "metadata": {
        "id": "mcHIUlV6eaiF"
      },
      "execution_count": 188,
      "outputs": []
    },
    {
      "cell_type": "code",
      "source": [
        "x_train_gistemp, x_test_gistemp = df_new[['Date','GISTEMP_ma']][:1316], df_new[['Date','GISTEMP_ma']][1316:]\n",
        "y_train_gistemp, y_test_gistemp = df_new['GISTEMP'][:1316], df_new['GISTEMP'][1316:]"
      ],
      "metadata": {
        "id": "P36A_XxNC8o0"
      },
      "execution_count": 189,
      "outputs": []
    },
    {
      "cell_type": "code",
      "source": [
        "x_train_gcag = x_train_gcag.set_index('Date')\n",
        "x_test_gcag = x_test_gcag.set_index('Date')\n",
        "x_train_gistemp = x_train_gistemp.set_index('Date')\n",
        "x_test_gistemp = x_test_gistemp.set_index('Date')"
      ],
      "metadata": {
        "id": "N6JvmlzNDU4a"
      },
      "execution_count": 190,
      "outputs": []
    },
    {
      "cell_type": "code",
      "source": [
        "reg = LinearRegression().fit(x_train_gcag, y_train_gcag)\n",
        "y_pred_gcag = reg.predict(x_test_gcag)\n",
        "reg.score(x_test_gcag, y_test_gcag)"
      ],
      "metadata": {
        "colab": {
          "base_uri": "https://localhost:8080/"
        },
        "id": "HTYDk-nsE2SW",
        "outputId": "5e3414c4-6600-4dbb-bca7-b1fc734718e9"
      },
      "execution_count": 191,
      "outputs": [
        {
          "output_type": "execute_result",
          "data": {
            "text/plain": [
              "0.8820970038139428"
            ]
          },
          "metadata": {},
          "execution_count": 191
        }
      ]
    },
    {
      "cell_type": "code",
      "source": [
        "plt.plot(df_new['Date'], df_new['GCAG_ma'])\n",
        "plt.plot(x_test_gcag.index, y_pred_gcag)\n",
        "locator = mdates.YearLocator(base=10)\n",
        "plt.gca().xaxis.set_major_locator(locator)\n",
        "\n",
        "plt.gca().xaxis.set_major_formatter(mdates.DateFormatter('%Y-%m-%d'))\n",
        "plt.xticks(rotation=45)\n",
        "plt.show()"
      ],
      "metadata": {
        "colab": {
          "base_uri": "https://localhost:8080/",
          "height": 488
        },
        "id": "A8OhSxUnQQ-R",
        "outputId": "ebeaeec8-64d1-492b-ed85-c56ee5a29547"
      },
      "execution_count": 193,
      "outputs": [
        {
          "output_type": "display_data",
          "data": {
            "text/plain": [
              "<Figure size 640x480 with 1 Axes>"
            ],
            "image/png": "[encoded data removed]"
          },
          "metadata": {}
        }
      ]
    },
    {
      "cell_type": "code",
      "source": [
        "poly_features = PolynomialFeatures(degree = 3)\n",
        "x_train_poly_gcag = poly_features.fit_transform(x_train_gcag)\n",
        "x_test_poly_gcag = poly_features.transform(x_test_gcag)"
      ],
      "metadata": {
        "id": "03CQbpv5HPSm"
      },
      "execution_count": 194,
      "outputs": []
    },
    {
      "cell_type": "code",
      "source": [
        "lr = LinearRegression()\n",
        "lr.fit(x_train_poly_gcag, y_train_gcag)\n",
        "y_pred_poly_gcag = lr.predict(x_test_poly_gcag)"
      ],
      "metadata": {
        "id": "pELZcu20ICKy"
      },
      "execution_count": 195,
      "outputs": []
    },
    {
      "cell_type": "code",
      "source": [
        "rmse = np.sqrt(mean_squared_error(y_test_gcag, y_pred_gcag))\n",
        "mae = mean_absolute_error(y_test_gcag, y_pred_gcag)\n",
        "mse = mean_squared_error(y_test_gcag, y_pred_gcag)\n",
        "r2 = r2_score(y_test_gcag, y_pred_gcag)\n",
        "print('RMSE:',rmse,'\\nMAE:',mae,'\\nMSE:',mse,'\\nR2Score:',r2)"
      ],
      "metadata": {
        "colab": {
          "base_uri": "https://localhost:8080/"
        },
        "id": "oUJT1nBXIQHw",
        "outputId": "0a6d9fde-b2d5-4f0c-9c17-e7b8c42523b7"
      },
      "execution_count": 196,
      "outputs": [
        {
          "output_type": "stream",
          "name": "stdout",
          "text": [
            "RMSE: 0.06502985359750539 \n",
            "MAE: 0.04930441194222156 \n",
            "MSE: 0.004228881858912985 \n",
            "R2Score: 0.8820970038139428\n"
          ]
        }
      ]
    },
    {
      "cell_type": "code",
      "source": [
        "reg = LinearRegression().fit(x_train_gistemp, y_train_gistemp)\n",
        "y_pred_gistemp = reg.predict(x_test_gistemp)\n",
        "reg.score(x_test_gistemp, y_test_gistemp)"
      ],
      "metadata": {
        "colab": {
          "base_uri": "https://localhost:8080/"
        },
        "id": "0EolX7NfGxuN",
        "outputId": "ec0ae00f-c08d-4d34-d1e4-5112f70b4ad1"
      },
      "execution_count": 198,
      "outputs": [
        {
          "output_type": "execute_result",
          "data": {
            "text/plain": [
              "0.8564499259711469"
            ]
          },
          "metadata": {},
          "execution_count": 198
        }
      ]
    },
    {
      "cell_type": "code",
      "source": [
        "rmse = np.sqrt(mean_squared_error(y_test_gistemp, y_pred_gistemp))\n",
        "mae = mean_absolute_error(y_test_gistemp, y_pred_gistemp)\n",
        "mse = mean_squared_error(y_test_gistemp, y_pred_gistemp)\n",
        "r2 = r2_score(y_test_gistemp, y_pred_gistemp)\n",
        "print('RMSE:',rmse,'\\nMAE:',mae,'\\nMSE:',mse,'\\nR2Score:',r2)"
      ],
      "metadata": {
        "colab": {
          "base_uri": "https://localhost:8080/"
        },
        "id": "8rWW6bN1HFnj",
        "outputId": "606b33f0-94e6-4256-e4bc-84ec6e86df91"
      },
      "execution_count": 199,
      "outputs": [
        {
          "output_type": "stream",
          "name": "stdout",
          "text": [
            "RMSE: 0.0779001656490333 \n",
            "MAE: 0.06198747155914974 \n",
            "MSE: 0.0060684358081468295 \n",
            "R2Score: 0.8564499259711469\n"
          ]
        }
      ]
    },
    {
      "cell_type": "code",
      "source": [
        "plt.plot(df_new['Date'], df_new['GISTEMP_ma'])\n",
        "plt.plot(x_test_gistemp.index, y_pred_gistemp)\n",
        "locator = mdates.YearLocator(base=10)\n",
        "plt.gca().xaxis.set_major_locator(locator)\n",
        "\n",
        "plt.gca().xaxis.set_major_formatter(mdates.DateFormatter('%Y-%m-%d'))\n",
        "plt.xticks(rotation=45)\n",
        "plt.show()"
      ],
      "metadata": {
        "colab": {
          "base_uri": "https://localhost:8080/",
          "height": 483
        },
        "id": "WVhrDu-LMDOo",
        "outputId": "2df2daa6-6939-4a1a-c87b-3fbb2ea9deca"
      },
      "execution_count": 289,
      "outputs": [
        {
          "output_type": "display_data",
          "data": {
            "text/plain": [
              "<Figure size 640x480 with 1 Axes>"
            ],
            "image/png": "[encoded data removed]"
          },
          "metadata": {}
        }
      ]
    },
    {
      "cell_type": "code",
      "source": [
        "poly_features = PolynomialFeatures(degree = 2)\n",
        "x_train_poly_gistemp = poly_features.fit_transform(x_train_gistemp)\n",
        "x_test_poly_gistemp = poly_features.transform(x_test_gistemp)\n",
        "lr = LinearRegression()\n",
        "lr.fit(x_train_poly_gistemp, y_train_gistemp)\n",
        "y_pred_gistemp = lr.predict(x_test_poly_gistemp)"
      ],
      "metadata": {
        "id": "Ix9H9Fc-ITPW"
      },
      "execution_count": 201,
      "outputs": []
    },
    {
      "cell_type": "code",
      "source": [
        "rmse = np.sqrt(mean_squared_error(y_test_gistemp, y_pred_gistemp))\n",
        "mae = mean_absolute_error(y_test_gistemp, y_pred_gistemp)\n",
        "mse = mean_squared_error(y_test_gistemp, y_pred_gistemp)\n",
        "r2 = r2_score(y_test_gistemp, y_pred_gistemp)\n",
        "print('RMSE:',rmse,'\\nMAE:',mae,'\\nMSE:',mse,'\\nR2Score:',r2)"
      ],
      "metadata": {
        "colab": {
          "base_uri": "https://localhost:8080/"
        },
        "id": "dnSrbwsgIfjc",
        "outputId": "f80aa804-c7f0-472c-bf1b-30eb40f10f73"
      },
      "execution_count": 202,
      "outputs": [
        {
          "output_type": "stream",
          "name": "stdout",
          "text": [
            "RMSE: 0.07807362016513548 \n",
            "MAE: 0.061945237238699796 \n",
            "MSE: 0.006095490165689851 \n",
            "R2Score: 0.8558099496822175\n"
          ]
        }
      ]
    },
    {
      "cell_type": "code",
      "source": [
        "input_dim = x_train_gcag.shape[1]\n",
        "model = Sequential()\n",
        "model.add(Dense(16, input_dim = input_dim, activation = 'relu'))\n",
        "model.add(Dense(8, activation = 'relu'))\n",
        "# model.add(Dense(8, activation = 'relu'))\n",
        "# model.add(Dense(4, activation = 'relu'))\n",
        "model.add(Dense(1, activation = 'linear'))\n",
        "model.compile(loss='mean_squared_error', optimizer=Adam())"
      ],
      "metadata": {
        "id": "eYIHgKdnNM8_"
      },
      "execution_count": 258,
      "outputs": []
    },
    {
      "cell_type": "code",
      "source": [
        "history_gcag = model.fit(x_train_gcag, y_train_gcag, epochs = 10, validation_split = 0.2)"
      ],
      "metadata": {
        "colab": {
          "base_uri": "https://localhost:8080/"
        },
        "id": "wNo_J1j9k0qG",
        "outputId": "ff7e3e41-16c3-4591-be82-25b3da846432"
      },
      "execution_count": 280,
      "outputs": [
        {
          "output_type": "stream",
          "name": "stdout",
          "text": [
            "Epoch 1/10\n",
            "33/33 [==============================] - 0s 5ms/step - loss: 0.0047 - val_loss: 0.0038\n",
            "Epoch 2/10\n",
            "33/33 [==============================] - 0s 3ms/step - loss: 0.0047 - val_loss: 0.0037\n",
            "Epoch 3/10\n",
            "33/33 [==============================] - 0s 3ms/step - loss: 0.0047 - val_loss: 0.0036\n",
            "Epoch 4/10\n",
            "33/33 [==============================] - 0s 3ms/step - loss: 0.0046 - val_loss: 0.0035\n",
            "Epoch 5/10\n",
            "33/33 [==============================] - 0s 3ms/step - loss: 0.0046 - val_loss: 0.0036\n",
            "Epoch 6/10\n",
            "33/33 [==============================] - 0s 3ms/step - loss: 0.0047 - val_loss: 0.0035\n",
            "Epoch 7/10\n",
            "33/33 [==============================] - 0s 4ms/step - loss: 0.0046 - val_loss: 0.0036\n",
            "Epoch 8/10\n",
            "33/33 [==============================] - 0s 3ms/step - loss: 0.0046 - val_loss: 0.0035\n",
            "Epoch 9/10\n",
            "33/33 [==============================] - 0s 3ms/step - loss: 0.0047 - val_loss: 0.0035\n",
            "Epoch 10/10\n",
            "33/33 [==============================] - 0s 3ms/step - loss: 0.0046 - val_loss: 0.0035\n"
          ]
        }
      ]
    },
    {
      "cell_type": "code",
      "source": [
        "y_pred = model.predict(x_test_gcag)"
      ],
      "metadata": {
        "colab": {
          "base_uri": "https://localhost:8080/"
        },
        "id": "1FL5u8gVlalH",
        "outputId": "60450f3d-1e4f-4dbd-b8a9-ba696c3e542d"
      },
      "execution_count": 281,
      "outputs": [
        {
          "output_type": "stream",
          "name": "stdout",
          "text": [
            "11/11 [==============================] - 0s 2ms/step\n"
          ]
        }
      ]
    },
    {
      "cell_type": "code",
      "source": [
        "from sklearn.metrics import r2_score\n",
        "r2_score(y_test_gcag, y_pred)"
      ],
      "metadata": {
        "colab": {
          "base_uri": "https://localhost:8080/"
        },
        "id": "WcHBwtVFlvzV",
        "outputId": "0672bcfa-6e3d-4160-e9a2-d2b6dccb8e4b"
      },
      "execution_count": 282,
      "outputs": [
        {
          "output_type": "execute_result",
          "data": {
            "text/plain": [
              "0.7723474663158061"
            ]
          },
          "metadata": {},
          "execution_count": 282
        }
      ]
    },
    {
      "cell_type": "code",
      "source": [
        "plt.plot(df_new['Date'], df_new['GCAG_ma'])\n",
        "plt.plot(x_test_gcag.index, y_pred)\n",
        "locator = mdates.YearLocator(base=10)\n",
        "plt.gca().xaxis.set_major_locator(locator)\n",
        "\n",
        "plt.gca().xaxis.set_major_formatter(mdates.DateFormatter('%Y-%m-%d'))\n",
        "plt.xticks(rotation=45)\n",
        "plt.show()"
      ],
      "metadata": {
        "colab": {
          "base_uri": "https://localhost:8080/",
          "height": 488
        },
        "id": "XV84sXGponXo",
        "outputId": "9145883b-fb7b-479a-b35c-bd96099d7b43"
      },
      "execution_count": 283,
      "outputs": [
        {
          "output_type": "display_data",
          "data": {
            "text/plain": [
              "<Figure size 640x480 with 1 Axes>"
            ],
            "image/png": "[encoded data removed]"
          },
          "metadata": {}
        }
      ]
    },
    {
      "cell_type": "code",
      "source": [
        "rmse = np.sqrt(mean_squared_error(y_test_gcag, y_pred))\n",
        "mae = mean_absolute_error(y_test_gcag, y_pred)\n",
        "mse = mean_squared_error(y_test_gcag, y_pred)\n",
        "r2 = r2_score(y_test_gcag, y_pred)\n",
        "print('RMSE:',rmse,'\\nMAE:',mae,'\\nMSE:',mse,'\\nR2Score:',r2)"
      ],
      "metadata": {
        "colab": {
          "base_uri": "https://localhost:8080/"
        },
        "id": "XEeJFXTho_Cg",
        "outputId": "6f1f9ff2-c3d2-44f6-fb33-417248a7a6e3"
      },
      "execution_count": 284,
      "outputs": [
        {
          "output_type": "stream",
          "name": "stdout",
          "text": [
            "RMSE: 0.09036215914335663 \n",
            "MAE: 0.07178281953912682 \n",
            "MSE: 0.00816531980504931 \n",
            "R2Score: 0.7723474663158061\n"
          ]
        }
      ]
    },
    {
      "cell_type": "code",
      "source": [
        "history_gcag = model.fit(x_train_gistemp, y_train_gistemp, epochs = 10, validation_split = 0.2)"
      ],
      "metadata": {
        "colab": {
          "base_uri": "https://localhost:8080/"
        },
        "id": "zOJZFyN-lx68",
        "outputId": "7da0b99e-d684-44d0-9b95-1980e0f92bc6"
      },
      "execution_count": 285,
      "outputs": [
        {
          "output_type": "stream",
          "name": "stdout",
          "text": [
            "Epoch 1/10\n",
            "33/33 [==============================] - 0s 4ms/step - loss: 0.0062 - val_loss: 0.0059\n",
            "Epoch 2/10\n",
            "33/33 [==============================] - 0s 3ms/step - loss: 0.0063 - val_loss: 0.0059\n",
            "Epoch 3/10\n",
            "33/33 [==============================] - 0s 3ms/step - loss: 0.0062 - val_loss: 0.0058\n",
            "Epoch 4/10\n",
            "33/33 [==============================] - 0s 3ms/step - loss: 0.0062 - val_loss: 0.0058\n",
            "Epoch 5/10\n",
            "33/33 [==============================] - 0s 3ms/step - loss: 0.0061 - val_loss: 0.0058\n",
            "Epoch 6/10\n",
            "33/33 [==============================] - 0s 3ms/step - loss: 0.0062 - val_loss: 0.0059\n",
            "Epoch 7/10\n",
            "33/33 [==============================] - 0s 3ms/step - loss: 0.0062 - val_loss: 0.0059\n",
            "Epoch 8/10\n",
            "33/33 [==============================] - 0s 3ms/step - loss: 0.0062 - val_loss: 0.0058\n",
            "Epoch 9/10\n",
            "33/33 [==============================] - 0s 4ms/step - loss: 0.0062 - val_loss: 0.0058\n",
            "Epoch 10/10\n",
            "33/33 [==============================] - 0s 3ms/step - loss: 0.0062 - val_loss: 0.0057\n"
          ]
        }
      ]
    },
    {
      "cell_type": "code",
      "source": [
        "y_pred = model.predict(x_test_gistemp)"
      ],
      "metadata": {
        "colab": {
          "base_uri": "https://localhost:8080/"
        },
        "id": "JZJEeqdDnoXc",
        "outputId": "129a4c7f-0c36-4162-ebad-e20791c9f0d1"
      },
      "execution_count": 286,
      "outputs": [
        {
          "output_type": "stream",
          "name": "stdout",
          "text": [
            "11/11 [==============================] - 0s 2ms/step\n"
          ]
        }
      ]
    },
    {
      "cell_type": "code",
      "source": [
        "r2_score(y_test_gistemp, y_pred)"
      ],
      "metadata": {
        "colab": {
          "base_uri": "https://localhost:8080/"
        },
        "id": "LiAyQLVznsxF",
        "outputId": "8c8c4636-bf07-4587-d87e-f692e7582f62"
      },
      "execution_count": 287,
      "outputs": [
        {
          "output_type": "execute_result",
          "data": {
            "text/plain": [
              "0.7888410518445744"
            ]
          },
          "metadata": {},
          "execution_count": 287
        }
      ]
    },
    {
      "cell_type": "code",
      "source": [
        "plt.plot(df_new['Date'], df_new['GISTEMP_ma'])\n",
        "plt.plot(x_test_gistemp.index, y_pred)\n",
        "locator = mdates.YearLocator(base=10)\n",
        "plt.gca().xaxis.set_major_locator(locator)\n",
        "\n",
        "plt.gca().xaxis.set_major_formatter(mdates.DateFormatter('%Y-%m-%d'))\n",
        "plt.xticks(rotation=45)\n",
        "plt.show()"
      ],
      "metadata": {
        "colab": {
          "base_uri": "https://localhost:8080/",
          "height": 483
        },
        "id": "-2xHSYdnpGud",
        "outputId": "71930acb-9a93-412f-9e1b-d7eec8d0833c"
      },
      "execution_count": 288,
      "outputs": [
        {
          "output_type": "display_data",
          "data": {
            "text/plain": [
              "<Figure size 640x480 with 1 Axes>"
            ],
            "image/png": "[encoded data removed]"
          },
          "metadata": {}
        }
      ]
    }
  ]
}